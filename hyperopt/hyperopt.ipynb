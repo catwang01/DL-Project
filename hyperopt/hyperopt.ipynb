{
 "cells": [
  {
   "cell_type": "markdown",
   "metadata": {},
   "source": [
    "[toc]\n",
    "\n",
    "# Hyperopt 参数调优"
   ]
  },
  {
   "cell_type": "markdown",
   "metadata": {},
   "source": [
    "## 一个简单的demo"
   ]
  },
  {
   "cell_type": "markdown",
   "metadata": {},
   "source": [
    "目标：最小化 $y = (x-1)^2$"
   ]
  },
  {
   "cell_type": "code",
   "execution_count": 1,
   "metadata": {
    "ExecuteTime": {
     "end_time": "2020-10-22T02:45:56.274665Z",
     "start_time": "2020-10-22T02:45:54.883083Z"
    }
   },
   "outputs": [
    {
     "name": "stdout",
     "output_type": "stream",
     "text": [
      "100%|██████████| 10/10 [00:00<00:00, 834.26trial/s, best loss: 0.00917795261691318]\n",
      "{'x': 1.0958016315983876}\n"
     ]
    }
   ],
   "source": [
    "from hyperopt import tpe, hp, fmin\n",
    "from matplotlib import pyplot as plt\n",
    "import numpy as np\n",
    "\n",
    "f = lambda x: (x-1)**2\n",
    "space = hp.uniform('x', -2, 2)\n",
    "\n",
    "best = fmin(\n",
    "       fn=f, \n",
    "       space=space,\n",
    "       algo=tpe.suggest,\n",
    "       max_evals=10\n",
    ")\n",
    "\n",
    "print(best)"
   ]
  },
  {
   "cell_type": "markdown",
   "metadata": {},
   "source": [
    "上面结果的可视化："
   ]
  },
  {
   "cell_type": "code",
   "execution_count": 2,
   "metadata": {
    "ExecuteTime": {
     "end_time": "2020-10-22T02:45:56.615981Z",
     "start_time": "2020-10-22T02:45:56.277165Z"
    },
    "scrolled": true
   },
   "outputs": [
    {
     "data": {
      "text/plain": [
       "Text(0.5, 0, 'x')"
      ]
     },
     "execution_count": 2,
     "metadata": {},
     "output_type": "execute_result"
    },
    {
     "data": {
      "image/png": "[encoded data removed]",
      "text/plain": [
       "<Figure size 432x288 with 1 Axes>"
      ]
     },
     "metadata": {
      "needs_background": "light"
     },
     "output_type": "display_data"
    }
   ],
   "source": [
    "x = np.linspace(-1, 3, 50)\n",
    "y = f(x)\n",
    "plt.plot(x, y)\n",
    "plt.scatter([best['x']], [f(best['x'])], color='red')\n",
    "plt.title(\"$f=(x-1)^2$\")\n",
    "plt.xlabel(\"x\")"
   ]
  },
  {
   "cell_type": "markdown",
   "metadata": {},
   "source": [
    "### fmin 函数"
   ]
  },
  {
   "cell_type": "markdown",
   "metadata": {},
   "source": [
    "其中执行最小化的 fmin 函数。主要的参数有\n",
    "\n",
    "- fn : 需要最小化的函数。其接受的参数是从 space 中产生的。fn 可以返回一个 scale，也可以返回一个 dict。如果返回 dict，那么必须要存在 loss 和 status 两个键。其中 loss 代表我们最小化的指标的值。而 status 是 hyperopt.STATUS_OK 或 hyperopt.STATUS_FAIL，分别代表成功和失败。\n",
    "\n",
    "- space: 定义了参数的搜索空间。\n",
    "\n",
    "- algo: search algorithm 一般是 `hyperopt.tpe.suggest`，表示 tpe 算法。\n",
    "\n",
    "- max_evals: 表示最大试验次数"
   ]
  },
  {
   "cell_type": "markdown",
   "metadata": {},
   "source": [
    "### space"
   ]
  },
  {
   "cell_type": "markdown",
   "metadata": {},
   "source": [
    "`hyperopt`模块包含一些方便的函数来指定输入参数的范围。我们已经见过`hp.uniform`。最初，这些是随机搜索空间，但随着`hyperopt`更多的学习（因为它从目标函数获得更多反馈），通过它认为提供给它最有意义的反馈，会调整并采样初始搜索空间的不同部分。\n",
    "\n",
    "以下内容将在本文中使用：\n",
    "\n",
    "1.  `hp.choice(label, options)` 其中`options`应是 python 列表或元组。\n",
    "2.  `hp.normal(label, mu, sigma)` 其中`mu`和`sigma`分别是均值和标准差。\n",
    "3.  `hp.uniform(label, low, high)` 其中`low`和`high`是范围的下限和上限。\n",
    "\n",
    "其他也是可用的，例如`hp.normal`，`hp.lognormal`，`hp.quniform`，但我们不会在这里使用它们。\n",
    "\n",
    "注意，我们定义的是一个搜索空间。我们的输入值会从这个搜索空间中随机采样得到。我们使用 `hyperopt.pyll.stochastic` 在搜索空间中采样，然后输出"
   ]
  },
  {
   "cell_type": "code",
   "execution_count": 3,
   "metadata": {
    "ExecuteTime": {
     "end_time": "2020-10-22T02:45:56.624106Z",
     "start_time": "2020-10-22T02:45:56.618095Z"
    }
   },
   "outputs": [
    {
     "name": "stdout",
     "output_type": "stream",
     "text": [
      "{'name': 'alice', 'x': 0.8745355712482618, 'y': 0.11084903944158608}\n"
     ]
    }
   ],
   "source": [
    "import hyperopt.pyll.stochastic\n",
    "\n",
    "space = {\n",
    "    'x': hp.uniform('x', 0, 1),\n",
    "    'y': hp.normal('y', 0, 1),\n",
    "    'name': hp.choice('name', ['alice', 'bob']),\n",
    "}\n",
    "\n",
    "print(hyperopt.pyll.stochastic.sample(space))"
   ]
  },
  {
   "cell_type": "markdown",
   "metadata": {},
   "source": [
    "## 通过 Trials 捕获信息"
   ]
  },
  {
   "cell_type": "markdown",
   "metadata": {},
   "source": [
    "如果我们想在优化的过程中返回一些中间值，可以使用 Trails。trails 的一个基本用法如下。"
   ]
  },
  {
   "cell_type": "code",
   "execution_count": 4,
   "metadata": {
    "ExecuteTime": {
     "end_time": "2020-10-22T02:45:56.821777Z",
     "start_time": "2020-10-22T02:45:56.626025Z"
    }
   },
   "outputs": [
    {
     "name": "stdout",
     "output_type": "stream",
     "text": [
      "100%|██████████| 50/50 [00:00<00:00, 278.17trial/s, best loss: 2.0128567743701643e-06]\n",
      "best: {'name': 0, 'x': 0.0014187518367812478, 'y': -0.7203940706071881}\n",
      "trials:\n",
      "{'book_time': datetime.datetime(2020, 10, 22, 2, 45, 56, 634000),\n",
      " 'exp_key': None,\n",
      " 'misc': {'cmd': ('domain_attachment', 'FMinIter_Domain'),\n",
      "          'idxs': {'name': [0], 'x': [0], 'y': [0]},\n",
      "          'tid': 0,\n",
      "          'vals': {'name': [0],\n",
      "                   'x': [0.6436036788820121],\n",
      "                   'y': [-0.6143791724807585]},\n",
      "          'workdir': None},\n",
      " 'owner': None,\n",
      " 'refresh_time': datetime.datetime(2020, 10, 22, 2, 45, 56, 634000),\n",
      " 'result': {'loss': 0.4142256954704601, 'status': 'ok'},\n",
      " 'spec': None,\n",
      " 'state': 2,\n",
      " 'tid': 0,\n",
      " 'version': 0}\n",
      "{'book_time': datetime.datetime(2020, 10, 22, 2, 45, 56, 636000),\n",
      " 'exp_key': None,\n",
      " 'misc': {'cmd': ('domain_attachment', 'FMinIter_Domain'),\n",
      "          'idxs': {'name': [1], 'x': [1], 'y': [1]},\n",
      "          'tid': 1,\n",
      "          'vals': {'name': [1],\n",
      "                   'x': [0.7979894740732941],\n",
      "                   'y': [-0.3600936725302377]},\n",
      "          'workdir': None},\n",
      " 'owner': None,\n",
      " 'refresh_time': datetime.datetime(2020, 10, 22, 2, 45, 56, 637000),\n",
      " 'result': {'loss': 0.6367872007317725, 'status': 'ok'},\n",
      " 'spec': None,\n",
      " 'state': 2,\n",
      " 'tid': 1,\n",
      " 'version': 0}\n"
     ]
    }
   ],
   "source": [
    "from hyperopt import fmin, tpe, hp, STATUS_OK, Trials\n",
    "import pprint as pp\n",
    "\n",
    "fspace = {'x': hp.uniform('x', -5, 5)}\n",
    "\n",
    "\n",
    "def f(params):\n",
    "    x = params['x']\n",
    "    val = x**2\n",
    "    return val\n",
    "\n",
    "\n",
    "trials = Trials()\n",
    "best = fmin(fn=f, space=space, algo=tpe.suggest, max_evals=50, trials=trials)\n",
    "\n",
    "print('best:', best)\n",
    "\n",
    "print('trials:')\n",
    "for trial in trials.trials[:2]:\n",
    "    pp.pprint(trial)"
   ]
  },
  {
   "cell_type": "markdown",
   "metadata": {
    "ExecuteTime": {
     "end_time": "2020-10-14T06:20:14.033739Z",
     "start_time": "2020-10-14T06:20:14.030085Z"
    }
   },
   "source": [
    "- tid是时间 id，即时间步，其值从0到max_evals-1。它随着迭代次数递增。\n",
    "- 'vals' 中存储的是每次迭代参数的值。'\n",
    "- loss'是键'result'的值，其给出了该次迭代目标函数的值"
   ]
  },
  {
   "cell_type": "markdown",
   "metadata": {},
   "source": [
    "### trial 用来返回训练好的模型"
   ]
  },
  {
   "cell_type": "markdown",
   "metadata": {},
   "source": [
    "trials 的一个重要用途是返回我们训练好的模型，我们每次调用 f 都会训练一个模型，现在我们想要获得这个模型，可以使用 trials。"
   ]
  },
  {
   "cell_type": "code",
   "execution_count": 5,
   "metadata": {
    "ExecuteTime": {
     "end_time": "2020-10-22T02:45:59.037767Z",
     "start_time": "2020-10-22T02:45:56.823376Z"
    }
   },
   "outputs": [
    {
     "name": "stderr",
     "output_type": "stream",
     "text": [
      "ERROR:root:Invalid alias: The name clear can't be aliased because it is another magic command.\n",
      "ERROR:root:Invalid alias: The name more can't be aliased because it is another magic command.\n",
      "ERROR:root:Invalid alias: The name less can't be aliased because it is another magic command.\n",
      "ERROR:root:Invalid alias: The name man can't be aliased because it is another magic command.\n"
     ]
    },
    {
     "name": "stdout",
     "output_type": "stream",
     "text": [
      "100%|██████████| 100/100 [00:01<00:00, 54.20trial/s, best loss: -1.0]             \n",
      "best: {'criterion': 0, 'max_depth': 17, 'max_features': 0, 'n_estimators': 13}\n"
     ]
    }
   ],
   "source": [
    "%reset -f\n",
    "from sklearn.datasets import load_iris\n",
    "from sklearn.model_selection import train_test_split\n",
    "from sklearn.ensemble import RandomForestClassifier\n",
    "from hyperopt import hp, fmin, Trials, tpe, STATUS_OK\n",
    "import numpy as np\n",
    "\n",
    "iris = load_iris()\n",
    "X_train, X_test, y_train, y_test = train_test_split(iris.data, iris.target, test_size=0.1)\n",
    "\n",
    "\n",
    "def f(params):\n",
    "    clf = RandomForestClassifier(**params)\n",
    "    clf.fit(X_train, y_train)\n",
    "    acc = clf.score(X_test, y_test)\n",
    "    # 1. 我们在函数的返回中添加 model 来返回我们训练好的模型\n",
    "    return {'loss': -acc, 'status': STATUS_OK, 'model': clf}\n",
    "\n",
    "space4rf = {\n",
    "    'max_depth': hp.choice('max_depth', range(1,20)),\n",
    "    'max_features': hp.choice('max_features', range(1,5)),\n",
    "    'n_estimators': hp.choice('n_estimators', range(1,20)),\n",
    "    'criterion': hp.choice('criterion', [\"gini\", \"entropy\"]),\n",
    "}\n",
    "\n",
    "\n",
    "trials = Trials()\n",
    "best = fmin(f, space4rf, algo=tpe.suggest, max_evals=100, trials=trials)\n",
    "print ('best:', best)"
   ]
  },
  {
   "cell_type": "markdown",
   "metadata": {},
   "source": [
    "然后，我们就可以使用下面的函数从 trails 中提取出训练好的模型"
   ]
  },
  {
   "cell_type": "code",
   "execution_count": 6,
   "metadata": {
    "ExecuteTime": {
     "end_time": "2020-10-22T02:45:59.046671Z",
     "start_time": "2020-10-22T02:45:59.039443Z"
    }
   },
   "outputs": [
    {
     "data": {
      "text/plain": [
       "RandomForestClassifier(max_depth=18, max_features=1, n_estimators=14)"
      ]
     },
     "execution_count": 6,
     "metadata": {},
     "output_type": "execute_result"
    }
   ],
   "source": [
    "# from https://stackoverflow.com/a/55389302\n",
    "def getBestModelfromTrials(trials):\n",
    "    valid_trial_list = [trial for trial in trials\n",
    "                            if STATUS_OK == trial['result']['status']]\n",
    "    losses = [ float(trial['result']['loss']) for trial in valid_trial_list]\n",
    "    index_having_minumum_loss = np.argmin(losses)\n",
    "    best_trial_obj = valid_trial_list[index_having_minumum_loss]\n",
    "    return best_trial_obj['result']['model']\n",
    "\n",
    "getBestModelfromTrials(trials)"
   ]
  },
  {
   "cell_type": "markdown",
   "metadata": {},
   "source": [
    "## 一个比较复杂的 demo"
   ]
  },
  {
   "cell_type": "code",
   "execution_count": 7,
   "metadata": {
    "ExecuteTime": {
     "end_time": "2020-10-22T02:45:59.320248Z",
     "start_time": "2020-10-22T02:45:59.048342Z"
    }
   },
   "outputs": [
    {
     "name": "stderr",
     "output_type": "stream",
     "text": [
      "ERROR:root:Invalid alias: The name clear can't be aliased because it is another magic command.\n",
      "ERROR:root:Invalid alias: The name more can't be aliased because it is another magic command.\n",
      "ERROR:root:Invalid alias: The name less can't be aliased because it is another magic command.\n",
      "ERROR:root:Invalid alias: The name man can't be aliased because it is another magic command.\n"
     ]
    },
    {
     "name": "stdout",
     "output_type": "stream",
     "text": [
      "100%|██████████| 10/10 [00:00<00:00, 66.83trial/s, best loss: -1.0]\n",
      "best: {'C': 5.841669050720011, 'classifier_type': 1, 'gamma': 0.17022927021333567, 'kernel': 0}\n"
     ]
    }
   ],
   "source": [
    "%reset -f\n",
    "from sklearn.datasets import load_iris\n",
    "from sklearn.model_selection import train_test_split\n",
    "from sklearn.ensemble import RandomForestClassifier\n",
    "from sklearn.svm import SVC\n",
    "from sklearn.neighbors import KNeighborsClassifier\n",
    "from sklearn.naive_bayes import BernoulliNB\n",
    "from hyperopt import hp, fmin, Trials, tpe, STATUS_OK\n",
    "import numpy as np\n",
    "\n",
    "iris = load_iris()\n",
    "X_train, X_test, y_train, y_test = train_test_split(iris.data, iris.target, test_size=0.3)\n",
    "\n",
    "def f(params):\n",
    "    t = params['type']\n",
    "    del params['type'] # 因为 type 是我们自己添加的一个 key-value。原来的 params 中没有\n",
    "                        # 因此需要去掉，否则 BernoulliNB(**params)等句在运行时会报错\n",
    "    if t == 'naive_bayes':\n",
    "        clf = BernoulliNB(**params)\n",
    "    elif t == 'svm':\n",
    "        clf = SVC(**params)\n",
    "    elif t == 'randomforest':\n",
    "        clf = RandomForestClassifier(**params)\n",
    "    elif t == 'knn':\n",
    "        clf = KNeighborsClassifier(**params)\n",
    "    else:\n",
    "        raise Expection(\"No such type {}\".format(t))\n",
    "    clf.fit(X_train, y_train)\n",
    "    acc = clf.score(X_test, y_test)\n",
    "    return {\"loss\": -acc, \"status\": STATUS_OK, \"model\": clf}\n",
    "\n",
    "space = hp.choice('classifier_type', [\n",
    "    {\n",
    "        'type': 'naive_bayes',\n",
    "        'alpha': hp.uniform('alpha', 0.0, 2.0)\n",
    "    },\n",
    "    {\n",
    "        'type': 'svm',\n",
    "        'C': hp.uniform('C', 0, 10.0),\n",
    "        'kernel': hp.choice('kernel', ['linear', 'rbf']),\n",
    "        'gamma': hp.uniform('gamma', 0, 20.0)\n",
    "    },\n",
    "    {\n",
    "        'type': 'randomforest',\n",
    "        'max_depth': hp.choice('max_depth', range(1,20)),\n",
    "        'max_features': hp.choice('max_features', range(1,5)),\n",
    "        'n_estimators': hp.choice('n_estimators', range(1,20)),\n",
    "        'criterion': hp.choice('criterion', [\"gini\", \"entropy\"]),\n",
    "    },\n",
    "    {\n",
    "        'type': 'knn',\n",
    "        'n_neighbors': hp.choice('knn_n_neighbors', range(1,50))\n",
    "    }\n",
    "])\n",
    "\n",
    "\n",
    "trials = Trials()\n",
    "best = fmin(f, space, algo=tpe.suggest, max_evals=10, trials=trials)\n",
    "print ('best:', best)"
   ]
  },
  {
   "cell_type": "markdown",
   "metadata": {},
   "source": [
    "# References\n",
    "1. [使用 Hyperopt 进行参数调优（译） - 简书](https://www.jianshu.com/p/35eed1567463)\n",
    "\n",
    "2. [python - How to save the best hyperopt optimized keras models and its weights? - Stack Overflow](https://stackoverflow.com/questions/54273199/how-to-save-the-best-hyperopt-optimized-keras-models-and-its-weights)"
   ]
  }
 ],
 "metadata": {
  "hide_input": false,
  "kernelspec": {
   "display_name": "Python 3",
   "language": "python",
   "name": "python3"
  },
  "language_info": {
   "codemirror_mode": {
    "name": "ipython",
    "version": 3
   },
   "file_extension": ".py",
   "mimetype": "text/x-python",
   "name": "python",
   "nbconvert_exporter": "python",
   "pygments_lexer": "ipython3",
   "version": "3.7.3"
  },
  "toc": {
   "base_numbering": 1,
   "nav_menu": {},
   "number_sections": true,
   "sideBar": true,
   "skip_h1_title": false,
   "title_cell": "Table of Contents",
   "title_sidebar": "Contents",
   "toc_cell": false,
   "toc_position": {
    "height": "calc(100% - 180px)",
    "left": "10px",
    "top": "150px",
    "width": "288px"
   },
   "toc_section_display": true,
   "toc_window_display": true
  },
  "varInspector": {
   "cols": {
    "lenName": 16,
    "lenType": 16,
    "lenVar": 40
   },
   "kernels_config": {
    "python": {
     "delete_cmd_postfix": "",
     "delete_cmd_prefix": "del ",
     "library": "var_list.py",
     "varRefreshCmd": "print(var_dic_list())"
    },
    "r": {
     "delete_cmd_postfix": ") ",
     "delete_cmd_prefix": "rm(",
     "library": "var_list.r",
     "varRefreshCmd": "cat(var_dic_list()) "
    }
   },
   "types_to_exclude": [
    "module",
    "function",
    "builtin_function_or_method",
    "instance",
    "_Feature"
   ],
   "window_display": false
  }
 },
 "nbformat": 4,
 "nbformat_minor": 4
}
