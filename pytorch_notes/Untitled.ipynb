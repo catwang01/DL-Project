{
 "cells": [
  {
   "cell_type": "markdown",
   "metadata": {},
   "source": [
    "[toc]\n",
    "\n",
    "# Pytorch GPU 训练"
   ]
  },
  {
   "cell_type": "markdown",
   "metadata": {},
   "source": [
    "## 单GPU训练"
   ]
  },
  {
   "cell_type": "markdown",
   "metadata": {},
   "source": [
    "查看 gpu 是否可用"
   ]
  },
  {
   "cell_type": "code",
   "execution_count": 5,
   "metadata": {
    "ExecuteTime": {
     "end_time": "2020-07-25T10:19:38.035380Z",
     "start_time": "2020-07-25T10:19:38.030133Z"
    }
   },
   "outputs": [
    {
     "data": {
      "text/plain": [
       "False"
      ]
     },
     "execution_count": 5,
     "metadata": {},
     "output_type": "execute_result"
    }
   ],
   "source": [
    "import torch\n",
    "torch.cuda.is_available()"
   ]
  },
  {
   "cell_type": "markdown",
   "metadata": {},
   "source": [
    "使用 gpu 训练的时候，有三点需要注意\n",
    "\n",
    "1. 将模型放到 gpu 上。只需要将最终的模型放到 gpu 上即可，模型中包含的层会被自动放到 gpu 上。\n",
    "2. 将训练数据放到 gpu 上\n",
    "3. 将输出数据从gpu上取下来"
   ]
  },
  {
   "cell_type": "markdown",
   "metadata": {},
   "source": [
    "有两种方式可以将模型放到 gpu 上"
   ]
  },
  {
   "cell_type": "markdown",
   "metadata": {},
   "source": [
    "1. `model = model.to(\"cuda:0\")`\n",
    "2. `model = model.cuda()`"
   ]
  },
  {
   "cell_type": "markdown",
   "metadata": {},
   "source": [
    "注意，上面的模型修改不是原地的，需要进行赋值。"
   ]
  },
  {
   "cell_type": "markdown",
   "metadata": {},
   "source": [
    "### 使用 tensor.to(device)\n"
   ]
  },
  {
   "cell_type": "code",
   "execution_count": 44,
   "metadata": {
    "ExecuteTime": {
     "end_time": "2020-07-25T10:50:30.666383Z",
     "start_time": "2020-07-25T10:50:30.605956Z"
    }
   },
   "outputs": [],
   "source": [
    "import torch\n",
    "from sklearn.datasets import load_boston\n",
    "from matplotlib import pyplot as plt\n",
    "\n",
    "boston = load_boston()\n",
    "x = torch.Tensor(boston['data'])\n",
    "y = torch.Tensor(boston['target'])\n",
    "\n",
    "device = torch.device(\"cuda:0\" if torch.cuda.is_available() else \"cpu\")\n",
    "\n",
    "model = torch.nn.Linear(13, 1)\n",
    "model = model.to(device)\n",
    "\n",
    "loss = torch.nn.MSELoss()\n",
    "optimizer = torch.optim.Adam(model.parameters(), lr=1e-3)\n",
    "\n",
    "n_epochs = 100\n",
    "for epoch in range(n_epochs):\n",
    "    x = x.to(device)\n",
    "    yhat = model(x).view(-1)\n",
    "    mse = loss(y, yhat)\n",
    "    \n",
    "    optimizer.zero_grad()\n",
    "    mse.backward()\n",
    "    optimizer.step()"
   ]
  },
  {
   "cell_type": "markdown",
   "metadata": {
    "ExecuteTime": {
     "end_time": "2020-07-25T10:51:39.378278Z",
     "start_time": "2020-07-25T10:51:39.375744Z"
    }
   },
   "source": [
    "### 使用 tensor.cuda()"
   ]
  },
  {
   "cell_type": "code",
   "execution_count": 46,
   "metadata": {
    "ExecuteTime": {
     "end_time": "2020-07-25T10:51:21.666792Z",
     "start_time": "2020-07-25T10:51:21.611921Z"
    }
   },
   "outputs": [],
   "source": [
    "import torch\n",
    "from sklearn.datasets import load_boston\n",
    "from matplotlib import pyplot as plt\n",
    "\n",
    "boston = load_boston()\n",
    "x = torch.Tensor(boston['data'])\n",
    "y = torch.Tensor(boston['target'])\n",
    "\n",
    "model = torch.nn.Linear(13, 1)\n",
    "if torch.cuda.is_available():\n",
    "    model = model.cuda()\n",
    "\n",
    "loss = torch.nn.MSELoss()\n",
    "optimizer = torch.optim.Adam(model.parameters(), lr=1e-3)\n",
    "\n",
    "n_epochs = 100\n",
    "for epoch in range(n_epochs):\n",
    "    if torch.cuda.is_available():\n",
    "        x = x.cuda()\n",
    "    yhat = model(x).view(-1)\n",
    "    mse = loss(y, yhat)\n",
    "    \n",
    "    optimizer.zero_grad()\n",
    "    mse.backward()\n",
    "    optimizer.step()"
   ]
  },
  {
   "cell_type": "markdown",
   "metadata": {
    "ExecuteTime": {
     "end_time": "2020-07-25T10:18:51.034747Z",
     "start_time": "2020-07-25T10:18:51.026460Z"
    }
   },
   "source": [
    "# References\n",
    "1. [(1 封私信 / 18 条消息) 如何在pytorch中正确使用GPU进行训练？ - 知乎](https://www.zhihu.com/question/345418003)"
   ]
  }
 ],
 "metadata": {
  "hide_input": false,
  "kernelspec": {
   "display_name": "Python [conda env:pytorch]",
   "language": "python",
   "name": "conda-env-pytorch-py"
  },
  "language_info": {
   "codemirror_mode": {
    "name": "ipython",
    "version": 3
   },
   "file_extension": ".py",
   "mimetype": "text/x-python",
   "name": "python",
   "nbconvert_exporter": "python",
   "pygments_lexer": "ipython3",
   "version": "3.5.5"
  },
  "toc": {
   "base_numbering": 1,
   "nav_menu": {},
   "number_sections": true,
   "sideBar": true,
   "skip_h1_title": false,
   "title_cell": "Table of Contents",
   "title_sidebar": "Contents",
   "toc_cell": false,
   "toc_position": {},
   "toc_section_display": true,
   "toc_window_display": false
  },
  "varInspector": {
   "cols": {
    "lenName": 16,
    "lenType": 16,
    "lenVar": 40
   },
   "kernels_config": {
    "python": {
     "delete_cmd_postfix": "",
     "delete_cmd_prefix": "del ",
     "library": "var_list.py",
     "varRefreshCmd": "print(var_dic_list())"
    },
    "r": {
     "delete_cmd_postfix": ") ",
     "delete_cmd_prefix": "rm(",
     "library": "var_list.r",
     "varRefreshCmd": "cat(var_dic_list()) "
    }
   },
   "types_to_exclude": [
    "module",
    "function",
    "builtin_function_or_method",
    "instance",
    "_Feature"
   ],
   "window_display": false
  }
 },
 "nbformat": 4,
 "nbformat_minor": 2
}
