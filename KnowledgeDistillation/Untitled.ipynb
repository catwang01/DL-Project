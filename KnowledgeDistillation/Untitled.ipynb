{
 "cells": [
  {
   "cell_type": "markdown",
   "metadata": {},
   "source": [
    "[toc]\n",
    "\n",
    "# Teacher and Student"
   ]
  },
  {
   "cell_type": "markdown",
   "metadata": {},
   "source": [
    "## teacher network"
   ]
  },
  {
   "cell_type": "markdown",
   "metadata": {
    "ExecuteTime": {
     "end_time": "2020-08-22T14:10:54.761832Z",
     "start_time": "2020-08-22T14:10:54.633780Z"
    }
   },
   "source": [
    "![](https://gitee.com/EdwardElric_1683260718/picture_bed/raw/master/img/20200822221027.png)"
   ]
  },
  {
   "cell_type": "code",
   "execution_count": 47,
   "metadata": {
    "ExecuteTime": {
     "end_time": "2020-08-22T14:12:57.102600Z",
     "start_time": "2020-08-22T14:12:57.061254Z"
    }
   },
   "outputs": [
    {
     "ename": "RuntimeError",
     "evalue": "Error(s) in loading state_dict for AlexNet:\n\tMissing key(s) in state_dict: \"fc.bias\", \"fc.weight\". \n\tUnexpected key(s) in state_dict: \"conv5.0.weight\", \"conv5.0.bias\", \"conv5.1.weight\", \"conv5.1.bias\", \"conv5.1.running_mean\", \"conv5.1.running_var\", \"conv5.1.num_batches_tracked\", \"fc.0.weight\", \"fc.0.bias\". ",
     "output_type": "error",
     "traceback": [
      "\u001b[0;31m-------------------------------------------------------\u001b[0m",
      "\u001b[0;31mRuntimeError\u001b[0m          Traceback (most recent call last)",
      "\u001b[0;32m<ipython-input-47-2b12f4ad47c1>\u001b[0m in \u001b[0;36m<module>\u001b[0;34m\u001b[0m\n\u001b[1;32m     55\u001b[0m \u001b[0;34m\u001b[0m\u001b[0m\n\u001b[1;32m     56\u001b[0m \u001b[0mteacher_model\u001b[0m \u001b[0;34m=\u001b[0m \u001b[0mAlexNet\u001b[0m\u001b[0;34m(\u001b[0m\u001b[0;34m)\u001b[0m\u001b[0;34m\u001b[0m\u001b[0m\n\u001b[0;32m---> 57\u001b[0;31m \u001b[0mteacher_model\u001b[0m\u001b[0;34m.\u001b[0m\u001b[0mload_state_dict\u001b[0m\u001b[0;34m(\u001b[0m\u001b[0mtorch\u001b[0m\u001b[0;34m.\u001b[0m\u001b[0mload\u001b[0m\u001b[0;34m(\u001b[0m\u001b[0;34m\"teach_net_params_0.9895.pkl\"\u001b[0m\u001b[0;34m,\u001b[0m \u001b[0mmap_location\u001b[0m\u001b[0;34m=\u001b[0m\u001b[0mtorch\u001b[0m\u001b[0;34m.\u001b[0m\u001b[0mdevice\u001b[0m\u001b[0;34m(\u001b[0m\u001b[0;34m\"cpu\"\u001b[0m\u001b[0;34m)\u001b[0m\u001b[0;34m)\u001b[0m\u001b[0;34m)\u001b[0m\u001b[0;34m\u001b[0m\u001b[0m\n\u001b[0m",
      "\u001b[0;32m/anaconda3/envs/pytorch/lib/python3.5/site-packages/torch/nn/modules/module.py\u001b[0m in \u001b[0;36mload_state_dict\u001b[0;34m(self, state_dict, strict)\u001b[0m\n\u001b[1;32m    828\u001b[0m         \u001b[0;32mif\u001b[0m \u001b[0mlen\u001b[0m\u001b[0;34m(\u001b[0m\u001b[0merror_msgs\u001b[0m\u001b[0;34m)\u001b[0m \u001b[0;34m>\u001b[0m \u001b[0;36m0\u001b[0m\u001b[0;34m:\u001b[0m\u001b[0;34m\u001b[0m\u001b[0m\n\u001b[1;32m    829\u001b[0m             raise RuntimeError('Error(s) in loading state_dict for {}:\\n\\t{}'.format(\n\u001b[0;32m--> 830\u001b[0;31m                                self.__class__.__name__, \"\\n\\t\".join(error_msgs)))\n\u001b[0m\u001b[1;32m    831\u001b[0m         \u001b[0;32mreturn\u001b[0m \u001b[0m_IncompatibleKeys\u001b[0m\u001b[0;34m(\u001b[0m\u001b[0mmissing_keys\u001b[0m\u001b[0;34m,\u001b[0m \u001b[0munexpected_keys\u001b[0m\u001b[0;34m)\u001b[0m\u001b[0;34m\u001b[0m\u001b[0m\n\u001b[1;32m    832\u001b[0m \u001b[0;34m\u001b[0m\u001b[0m\n",
      "\u001b[0;31mRuntimeError\u001b[0m: Error(s) in loading state_dict for AlexNet:\n\tMissing key(s) in state_dict: \"fc.bias\", \"fc.weight\". \n\tUnexpected key(s) in state_dict: \"conv5.0.weight\", \"conv5.0.bias\", \"conv5.1.weight\", \"conv5.1.bias\", \"conv5.1.running_mean\", \"conv5.1.running_var\", \"conv5.1.num_batches_tracked\", \"fc.0.weight\", \"fc.0.bias\". "
     ]
    }
   ],
   "source": [
    "class AlexNet(nn.Module):\n",
    "    def __init__(self):\n",
    "        super(AlexNet, self).__init__()\n",
    "        self.conv1 = nn.Sequential(\n",
    "            nn.Conv2d(1, 64, kernel_size=3, padding=1, stride=1),\n",
    "            nn.BatchNorm2d(64),\n",
    "            nn.ReLU()\n",
    "        )\n",
    "        \n",
    "        self.conv2 = nn.Sequential(\n",
    "            nn.Conv2d(64, 64, kernel_size=3, padding=1, stride=1),\n",
    "            nn.BatchNorm2d(64),\n",
    "            nn.ReLU()\n",
    "        )\n",
    "        self.pool1 = nn.MaxPool2d(2, stride=2)\n",
    "        \n",
    "        self.conv3 = nn.Sequential(\n",
    "            nn.Conv2d(64, 128, kernel_size=3, padding=1, stride=1),\n",
    "            nn.BatchNorm2d(128),\n",
    "            nn.ReLU()\n",
    "        )\n",
    "        \n",
    "        self.conv4 = nn.Sequential(\n",
    "            nn.Conv2d(128, 128, kernel_size=3, padding=1, stride=1),\n",
    "            nn.BatchNorm2d(128),\n",
    "            nn.ReLU()\n",
    "        )\n",
    "        \n",
    "        \n",
    "        self.pool2 = nn.MaxPool2d(kernel_size=2, stride=2)\n",
    "        self.flatten = nn.Flatten()\n",
    "        self.fc = nn.Linear(6272, 10)\n",
    "    \n",
    "    def forward(self, x):\n",
    "        # [batch_size, 1, 28, 28] --> [batch_size, 64, 28, 28]\n",
    "        x = self.conv1(x)\n",
    "        # [batch_size, 64, 28, 28] --> [batch_size, 64, 28, 28]\n",
    "        x = self.conv2(x)\n",
    "        # [batch_size, 64, 28, 28] --> [batch_size, 64, 14, 14]\n",
    "        x = self.pool1(x)\n",
    "        # [batch_size, 64, 14, 14] --> [batch_size, 128, 14, 14]\n",
    "        x = self.conv3(x)\n",
    "        # [batch_size, 128, 14, 14] --> [batch_size, 128, 14, 14]\n",
    "        x = self.conv4(x)\n",
    "        # [batch_size, 128, 14, 14] --> [batch_size, 128, 7, 7]\n",
    "        x = self.pool2(x)\n",
    "        \n",
    "        # [batch_size, 128, 7, 7] --> [batch_size, 6272]\n",
    "        x = self.flatten(x)\n",
    "        \n",
    "        # [batch_size, 6272] --> [batch_size, 10]\n",
    "        x = self.fc(x)\n",
    "        return x\n",
    "    \n",
    "teacher_model = AlexNet()"
   ]
  },
  {
   "cell_type": "markdown",
   "metadata": {},
   "source": [
    "## 学生网络"
   ]
  },
  {
   "cell_type": "markdown",
   "metadata": {},
   "source": [
    "学生网络是一个很简单的一层CNN"
   ]
  },
  {
   "cell_type": "markdown",
   "metadata": {},
   "source": [
    "![](https://gitee.com/EdwardElric_1683260718/picture_bed/raw/master/img/20200822212956.png)"
   ]
  },
  {
   "cell_type": "code",
   "execution_count": 18,
   "metadata": {
    "ExecuteTime": {
     "end_time": "2020-08-22T13:42:42.430844Z",
     "start_time": "2020-08-22T13:42:42.422950Z"
    }
   },
   "outputs": [],
   "source": [
    "import torch\n",
    "import torch.nn as nn\n",
    "\n",
    "\n",
    "class smallVgg(nn.Module):\n",
    "    def __init__(self):\n",
    "        super(smallVgg, self).__init__()\n",
    "        self.conv = nn.Conv2d(1, 6, kernel_size=3) \n",
    "        self.maxpool = nn.MaxPool2d(kernel_size=2, stride=1)\n",
    "        self.fc = nn.Linear(3750, 10)\n",
    "\n",
    "    def forward(self, x):\n",
    "        # [batch_size, 1, 28, 28] --> [batch_size, 6, 26, 26]\n",
    "        x = self.conv(x)\n",
    "        \n",
    "        # [batch_size, 6, 26, 26] --> [batch_size, 6, 25, 25]\n",
    "        x = self.maxpool(x)\n",
    "        \n",
    "        # [batch_size, 6, 25, 25] --> [batch_size, 3750]\n",
    "        flattened = x.view(x.shape[0], -1)\n",
    "        \n",
    "        #  [batch_size, 3750] -->[batch_size, 10]\n",
    "        x = self.fc(flattened)\n",
    "        return x\n",
    "    "
   ]
  },
  {
   "cell_type": "code",
   "execution_count": 19,
   "metadata": {
    "ExecuteTime": {
     "end_time": "2020-08-22T13:42:43.886528Z",
     "start_time": "2020-08-22T13:42:43.881323Z"
    }
   },
   "outputs": [],
   "source": [
    "student_model = smallVgg()"
   ]
  }
 ],
 "metadata": {
  "hide_input": false,
  "kernelspec": {
   "display_name": "Python 3.5.5 64-bit ('pytorch': conda)",
   "language": "python",
   "name": "python35564bitpytorchconda72e94a1a4f294f41ae76e825f8204341"
  },
  "language_info": {
   "codemirror_mode": {
    "name": "ipython",
    "version": 3
   },
   "file_extension": ".py",
   "mimetype": "text/x-python",
   "name": "python",
   "nbconvert_exporter": "python",
   "pygments_lexer": "ipython3",
   "version": "3.5.5"
  },
  "toc": {
   "base_numbering": 1,
   "nav_menu": {},
   "number_sections": true,
   "sideBar": true,
   "skip_h1_title": false,
   "title_cell": "Table of Contents",
   "title_sidebar": "Contents",
   "toc_cell": false,
   "toc_position": {},
   "toc_section_display": true,
   "toc_window_display": false
  },
  "varInspector": {
   "cols": {
    "lenName": 16,
    "lenType": 16,
    "lenVar": 40
   },
   "kernels_config": {
    "python": {
     "delete_cmd_postfix": "",
     "delete_cmd_prefix": "del ",
     "library": "var_list.py",
     "varRefreshCmd": "print(var_dic_list())"
    },
    "r": {
     "delete_cmd_postfix": ") ",
     "delete_cmd_prefix": "rm(",
     "library": "var_list.r",
     "varRefreshCmd": "cat(var_dic_list()) "
    }
   },
   "types_to_exclude": [
    "module",
    "function",
    "builtin_function_or_method",
    "instance",
    "_Feature"
   ],
   "window_display": false
  }
 },
 "nbformat": 4,
 "nbformat_minor": 2
}
