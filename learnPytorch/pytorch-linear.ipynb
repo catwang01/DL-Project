{
 "cells": [
  {
   "cell_type": "markdown",
   "metadata": {},
   "source": [
    "[toc]\n",
    "\n",
    "# Pytorch Linear"
   ]
  },
  {
   "cell_type": "markdown",
   "metadata": {},
   "source": [
    "## nn.Linear"
   ]
  },
  {
   "cell_type": "code",
   "execution_count": 3,
   "metadata": {
    "ExecuteTime": {
     "end_time": "2020-08-19T13:37:20.798624Z",
     "start_time": "2020-08-19T13:37:20.791117Z"
    }
   },
   "outputs": [
    {
     "data": {
      "text/plain": [
       "torch.Size([10, 3])"
      ]
     },
     "execution_count": 3,
     "metadata": {},
     "output_type": "execute_result"
    }
   ],
   "source": [
    "import torch\n",
    "\n",
    "batch_size = 10\n",
    "input_dim = 5\n",
    "output_dim = 3\n",
    "x = torch.randn(batch_size, input_dim)\n",
    "linear = torch.nn.Linear(input_dim, output_dim) \n",
    "linear(x).shape # [batch_size, input_dim]"
   ]
  },
  {
   "cell_type": "markdown",
   "metadata": {
    "ExecuteTime": {
     "end_time": "2020-08-19T13:48:37.468307Z",
     "start_time": "2020-08-19T13:48:37.462782Z"
    }
   },
   "source": [
    "需要注意的是，权重的形状是 [output_dim, input_dim]\n",
    "\n",
    "做的乘法是\n",
    "\n",
    "$$\n",
    "y = x A^T + b\n",
    "$$"
   ]
  },
  {
   "cell_type": "code",
   "execution_count": 9,
   "metadata": {
    "ExecuteTime": {
     "end_time": "2020-08-19T13:50:02.880150Z",
     "start_time": "2020-08-19T13:50:02.874946Z"
    }
   },
   "outputs": [
    {
     "data": {
      "text/plain": [
       "torch.Size([3, 5])"
      ]
     },
     "execution_count": 9,
     "metadata": {},
     "output_type": "execute_result"
    }
   ],
   "source": [
    "linear.weight.shape # b"
   ]
  },
  {
   "cell_type": "markdown",
   "metadata": {
    "ExecuteTime": {
     "end_time": "2020-08-19T13:59:22.497589Z",
     "start_time": "2020-08-19T13:59:22.495603Z"
    }
   },
   "source": [
    "### x 可以是多维的。此时返回的维度为 [*, output_dim]"
   ]
  },
  {
   "cell_type": "markdown",
   "metadata": {
    "ExecuteTime": {
     "end_time": "2020-09-07T09:04:04.588579Z",
     "start_time": "2020-09-07T09:04:04.583045Z"
    }
   },
   "source": [
    "从三维为例。假设 x.shape = [batch_size, seq_len, input_dim]"
   ]
  },
  {
   "cell_type": "code",
   "execution_count": 36,
   "metadata": {
    "ExecuteTime": {
     "end_time": "2020-09-07T10:26:42.573568Z",
     "start_time": "2020-09-07T10:26:42.566922Z"
    }
   },
   "outputs": [
    {
     "name": "stdout",
     "output_type": "stream",
     "text": [
      "torch.Size([2, 4, 3])\n"
     ]
    }
   ],
   "source": [
    "import torch\n",
    "\n",
    "batch_size = 2\n",
    "seq_len = 4\n",
    "input_dim = 5\n",
    "output_dim = 3\n",
    "x = torch.randn(batch_size, seq_len, input_dim)\n",
    "linear = torch.nn.Linear(input_dim, output_dim) \n",
    "y1 = linear(x)\n",
    "print(y1.shape) # [batch_size, seq_len, input_dim]"
   ]
  },
  {
   "cell_type": "markdown",
   "metadata": {},
   "source": [
    "当 x 是多维的时候乘法是如何进行的呢？实际上，是和 x 的每一个子矩阵都乘以相同的权重。在实现上，可以讲所有子矩阵堆叠起来，转换为普通的矩阵乘法。\n",
    "\n",
    "![](https://gitee.com/EdwardElric_1683260718/picture_bed/raw/master/img/20200907182258.png)\n",
    "\n",
    "因此，我们可以尝试模拟 nn.Linear 的操作。"
   ]
  },
  {
   "cell_type": "code",
   "execution_count": 37,
   "metadata": {
    "ExecuteTime": {
     "end_time": "2020-09-07T10:26:44.123169Z",
     "start_time": "2020-09-07T10:26:44.118069Z"
    }
   },
   "outputs": [],
   "source": [
    "weight = linear.weight\n",
    "bias = linear.bias\n",
    "\n",
    "y2 = torch.matmul(x.view(-1, input_dim), weight.transpose(0, 1)).view(batch_size, -1, output_dim) + bias"
   ]
  },
  {
   "cell_type": "markdown",
   "metadata": {},
   "source": [
    "可以看到结果是一样的。"
   ]
  },
  {
   "cell_type": "code",
   "execution_count": 40,
   "metadata": {
    "ExecuteTime": {
     "end_time": "2020-09-07T10:26:54.449366Z",
     "start_time": "2020-09-07T10:26:54.440448Z"
    }
   },
   "outputs": [
    {
     "name": "stdout",
     "output_type": "stream",
     "text": [
      "tensor(True)\n"
     ]
    }
   ],
   "source": [
    "print(torch.all(y1 == y2))"
   ]
  },
  {
   "cell_type": "markdown",
   "metadata": {},
   "source": [
    "# References\n",
    "1. [Linear — PyTorch 1.6.0 documentation](https://pytorch.org/docs/stable/generated/torch.nn.Linear.html?highlight=nn%20linear#torch.nn.Linear)"
   ]
  }
 ],
 "metadata": {
  "hide_input": false,
  "kernelspec": {
   "display_name": "Python 3.5.5 64-bit ('pytorch': conda)",
   "language": "python",
   "name": "python35564bitpytorchconda72e94a1a4f294f41ae76e825f8204341"
  },
  "language_info": {
   "codemirror_mode": {
    "name": "ipython",
    "version": 3
   },
   "file_extension": ".py",
   "mimetype": "text/x-python",
   "name": "python",
   "nbconvert_exporter": "python",
   "pygments_lexer": "ipython3",
   "version": "3.5.5"
  },
  "toc": {
   "base_numbering": 1,
   "nav_menu": {},
   "number_sections": true,
   "sideBar": true,
   "skip_h1_title": false,
   "title_cell": "Table of Contents",
   "title_sidebar": "Contents",
   "toc_cell": false,
   "toc_position": {},
   "toc_section_display": true,
   "toc_window_display": false
  },
  "varInspector": {
   "cols": {
    "lenName": 16,
    "lenType": 16,
    "lenVar": 40
   },
   "kernels_config": {
    "python": {
     "delete_cmd_postfix": "",
     "delete_cmd_prefix": "del ",
     "library": "var_list.py",
     "varRefreshCmd": "print(var_dic_list())"
    },
    "r": {
     "delete_cmd_postfix": ") ",
     "delete_cmd_prefix": "rm(",
     "library": "var_list.r",
     "varRefreshCmd": "cat(var_dic_list()) "
    }
   },
   "types_to_exclude": [
    "module",
    "function",
    "builtin_function_or_method",
    "instance",
    "_Feature"
   ],
   "window_display": false
  }
 },
 "nbformat": 4,
 "nbformat_minor": 2
}
