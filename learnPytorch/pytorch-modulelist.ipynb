{
 "cells": [
  {
   "cell_type": "markdown",
   "metadata": {},
   "source": [
    "[toc]\n",
    "\n",
    "# Pytorch ModuleList\n",
    "\n",
    "有的时候，我们希望用一个 list 来存放 module，然后用 for 循环来遍历这些module。"
   ]
  },
  {
   "cell_type": "code",
   "execution_count": 43,
   "metadata": {
    "ExecuteTime": {
     "end_time": "2020-10-01T12:14:03.900395Z",
     "start_time": "2020-10-01T12:14:03.888482Z"
    }
   },
   "outputs": [
    {
     "data": {
      "text/plain": [
       "tensor([[0.5875],\n",
       "        [0.4155],\n",
       "        [0.6017],\n",
       "        [0.4432],\n",
       "        [0.4005],\n",
       "        [0.3734],\n",
       "        [0.5208],\n",
       "        [0.4211],\n",
       "        [0.4048],\n",
       "        [0.3235]], grad_fn=<AddmmBackward>)"
      ]
     },
     "execution_count": 43,
     "metadata": {},
     "output_type": "execute_result"
    }
   ],
   "source": [
    "import torch.nn.functional as F\n",
    "\n",
    "\n",
    "class myModel(nn.Module):\n",
    "    def __init__(self):\n",
    "        super(myModel, self).__init__()\n",
    "        self.linears = [nn.Linear(3, 2) for _ in range(5)]\n",
    "        self.fc = nn.Linear(10, 1)\n",
    "    \n",
    "    def forward(self, x):\n",
    "        x = [F.relu(m(x)) for m in self.linears]\n",
    "        x = torch.cat(x, dim=1)\n",
    "        x = self.fc(x)\n",
    "        return x\n",
    "\n",
    "model = myModel()\n",
    "model(x)"
   ]
  },
  {
   "cell_type": "markdown",
   "metadata": {
    "ExecuteTime": {
     "end_time": "2020-10-01T12:08:05.630521Z",
     "start_time": "2020-10-01T12:08:05.625833Z"
    }
   },
   "source": [
    "这样乍一看可以实现功能，但是实际上，使用 list 来存这些 nn.Linear 会导致 nn.Linear 不会被添加到 myModel.modules 中，其参数也不会被添加到 myModel.parameters 中"
   ]
  },
  {
   "cell_type": "code",
   "execution_count": 44,
   "metadata": {
    "ExecuteTime": {
     "end_time": "2020-10-01T12:14:05.434976Z",
     "start_time": "2020-10-01T12:14:05.427862Z"
    }
   },
   "outputs": [
    {
     "name": "stdout",
     "output_type": "stream",
     "text": [
      "myModel(\n",
      "  (fc): Linear(in_features=10, out_features=1, bias=True)\n",
      ")\n",
      "Linear(in_features=10, out_features=1, bias=True)\n",
      "Parameter containing:\n",
      "tensor([[ 0.2114,  0.0426,  0.1360,  0.2596,  0.2948, -0.1039,  0.1681, -0.2994,\n",
      "         -0.1194,  0.3006]], requires_grad=True)\n",
      "Parameter containing:\n",
      "tensor([0.1848], requires_grad=True)\n"
     ]
    }
   ],
   "source": [
    "for m in model.modules():\n",
    "    print(m)\n",
    "\n",
    "for p in model.parameters():\n",
    "    print(p)"
   ]
  },
  {
   "cell_type": "markdown",
   "metadata": {},
   "source": [
    "可以用 nn.ModuleList 来实现这个功能"
   ]
  },
  {
   "cell_type": "code",
   "execution_count": 47,
   "metadata": {
    "ExecuteTime": {
     "end_time": "2020-10-01T12:15:10.636884Z",
     "start_time": "2020-10-01T12:15:10.624362Z"
    }
   },
   "outputs": [
    {
     "data": {
      "text/plain": [
       "tensor([[ 0.5319],\n",
       "        [ 0.3566],\n",
       "        [ 0.2174],\n",
       "        [-0.0533],\n",
       "        [ 0.4019],\n",
       "        [ 0.4418],\n",
       "        [-0.1033],\n",
       "        [ 0.1301],\n",
       "        [ 0.1030],\n",
       "        [ 0.3335]], grad_fn=<AddmmBackward>)"
      ]
     },
     "execution_count": 47,
     "metadata": {},
     "output_type": "execute_result"
    }
   ],
   "source": [
    "import torch.nn.functional as F\n",
    "\n",
    "\n",
    "class myModel2(nn.Module):\n",
    "    def __init__(self):\n",
    "        super(myModel2, self).__init__()\n",
    "        self.linears = nn.ModuleList([nn.Linear(3, 2) for _ in range(5)])\n",
    "        self.fc = nn.Linear(10, 1)\n",
    "    \n",
    "    def forward(self, x):\n",
    "        x = [F.relu(m(x)) for m in self.linears]\n",
    "        x = torch.cat(x, dim=1)\n",
    "        x = self.fc(x)\n",
    "        return x\n",
    "\n",
    "model = myModel2()\n",
    "model(x)"
   ]
  },
  {
   "cell_type": "markdown",
   "metadata": {},
   "source": [
    "可以看到，nn.ModuleList 封装的 nn.Linear 被添加到到 myModel2.modules() 中，其参数也被添加到了 myModel2.parameters() 中"
   ]
  },
  {
   "cell_type": "code",
   "execution_count": 48,
   "metadata": {
    "ExecuteTime": {
     "end_time": "2020-10-01T12:15:11.635923Z",
     "start_time": "2020-10-01T12:15:11.622838Z"
    }
   },
   "outputs": [
    {
     "name": "stdout",
     "output_type": "stream",
     "text": [
      "myModel2(\n",
      "  (linears): ModuleList(\n",
      "    (0): Linear(in_features=3, out_features=2, bias=True)\n",
      "    (1): Linear(in_features=3, out_features=2, bias=True)\n",
      "    (2): Linear(in_features=3, out_features=2, bias=True)\n",
      "    (3): Linear(in_features=3, out_features=2, bias=True)\n",
      "    (4): Linear(in_features=3, out_features=2, bias=True)\n",
      "  )\n",
      "  (fc): Linear(in_features=10, out_features=1, bias=True)\n",
      ")\n",
      "ModuleList(\n",
      "  (0): Linear(in_features=3, out_features=2, bias=True)\n",
      "  (1): Linear(in_features=3, out_features=2, bias=True)\n",
      "  (2): Linear(in_features=3, out_features=2, bias=True)\n",
      "  (3): Linear(in_features=3, out_features=2, bias=True)\n",
      "  (4): Linear(in_features=3, out_features=2, bias=True)\n",
      ")\n",
      "Linear(in_features=3, out_features=2, bias=True)\n",
      "Linear(in_features=3, out_features=2, bias=True)\n",
      "Linear(in_features=3, out_features=2, bias=True)\n",
      "Linear(in_features=3, out_features=2, bias=True)\n",
      "Linear(in_features=3, out_features=2, bias=True)\n",
      "Linear(in_features=10, out_features=1, bias=True)\n",
      "Parameter containing:\n",
      "tensor([[-0.2909,  0.0233, -0.0398],\n",
      "        [ 0.1361, -0.4545, -0.4711]], requires_grad=True)\n",
      "Parameter containing:\n",
      "tensor([ 0.5090, -0.1105], requires_grad=True)\n",
      "Parameter containing:\n",
      "tensor([[-0.3815,  0.3806,  0.1123],\n",
      "        [-0.1137,  0.1578, -0.0899]], requires_grad=True)\n",
      "Parameter containing:\n",
      "tensor([-0.2833, -0.5371], requires_grad=True)\n",
      "Parameter containing:\n",
      "tensor([[-0.4738,  0.1499, -0.1980],\n",
      "        [ 0.5190,  0.3638,  0.4544]], requires_grad=True)\n",
      "Parameter containing:\n",
      "tensor([ 0.3173, -0.5548], requires_grad=True)\n",
      "Parameter containing:\n",
      "tensor([[ 0.1095, -0.1976, -0.1512],\n",
      "        [-0.0618,  0.2623,  0.2572]], requires_grad=True)\n",
      "Parameter containing:\n",
      "tensor([0.1314, 0.3944], requires_grad=True)\n",
      "Parameter containing:\n",
      "tensor([[ 0.3177, -0.0278,  0.2099],\n",
      "        [ 0.4782,  0.1859,  0.4228]], requires_grad=True)\n",
      "Parameter containing:\n",
      "tensor([0.5051, 0.0501], requires_grad=True)\n",
      "Parameter containing:\n",
      "tensor([[-0.1093,  0.1607,  0.2993, -0.2053, -0.3071,  0.2045,  0.2217, -0.1269,\n",
      "          0.1240, -0.1276]], requires_grad=True)\n",
      "Parameter containing:\n",
      "tensor([0.1671], requires_grad=True)\n"
     ]
    }
   ],
   "source": [
    "for m in model.modules():\n",
    "    print(m)\n",
    "\n",
    "for p in model.parameters():\n",
    "    print(p)"
   ]
  }
 ],
 "metadata": {
  "hide_input": false,
  "kernelspec": {
   "display_name": "Python 3",
   "language": "python",
   "name": "python3"
  },
  "language_info": {
   "codemirror_mode": {
    "name": "ipython",
    "version": 3
   },
   "file_extension": ".py",
   "mimetype": "text/x-python",
   "name": "python",
   "nbconvert_exporter": "python",
   "pygments_lexer": "ipython3",
   "version": "3.7.3"
  },
  "toc": {
   "base_numbering": 1,
   "nav_menu": {},
   "number_sections": true,
   "sideBar": true,
   "skip_h1_title": false,
   "title_cell": "Table of Contents",
   "title_sidebar": "Contents",
   "toc_cell": false,
   "toc_position": {},
   "toc_section_display": true,
   "toc_window_display": false
  },
  "varInspector": {
   "cols": {
    "lenName": 16,
    "lenType": 16,
    "lenVar": 40
   },
   "kernels_config": {
    "python": {
     "delete_cmd_postfix": "",
     "delete_cmd_prefix": "del ",
     "library": "var_list.py",
     "varRefreshCmd": "print(var_dic_list())"
    },
    "r": {
     "delete_cmd_postfix": ") ",
     "delete_cmd_prefix": "rm(",
     "library": "var_list.r",
     "varRefreshCmd": "cat(var_dic_list()) "
    }
   },
   "types_to_exclude": [
    "module",
    "function",
    "builtin_function_or_method",
    "instance",
    "_Feature"
   ],
   "window_display": false
  }
 },
 "nbformat": 4,
 "nbformat_minor": 2
}
