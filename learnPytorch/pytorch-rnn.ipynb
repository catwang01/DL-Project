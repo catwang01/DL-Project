{
 "cells": [
  {
   "cell_type": "markdown",
   "metadata": {},
   "source": [
    "[toc]\n",
    "\n",
    "# Pytorch RNN"
   ]
  },
  {
   "cell_type": "markdown",
   "metadata": {
    "ExecuteTime": {
     "end_time": "2020-08-18T06:18:14.242269Z",
     "start_time": "2020-08-18T06:18:14.239053Z"
    }
   },
   "source": [
    "- input_size – The number of expected features in the input x\n",
    "\n",
    "- hidden_size – The number of features in the hidden state h\n",
    "\n",
    "- num_layers – Number of recurrent layers. E.g., setting num_layers=2 would mean stacking two RNNs together to form a stacked RNN, with the second RNN taking in outputs of the first RNN and computing the final results. Default: 1\n",
    "\n",
    "- nonlinearity – The non-linearity to use. Can be either 'tanh' or 'relu'. Default: 'tanh'\n",
    "\n",
    "- bias – If False, then the layer does not use bias weights b_ih and b_hh. Default: True\n",
    "\n",
    "- batch_first – If True, then the input and output tensors are provided as (batch, seq, feature). Default: False\n",
    "\n",
    "- dropout – If non-zero, introduces a Dropout layer on the outputs of each RNN layer except the last layer, with dropout probability equal to dropout. Default: 0\n",
    "\n",
    "- bidirectional – If True, becomes a bidirectional RNN. Default: False\n",
    "    "
   ]
  },
  {
   "cell_type": "markdown",
   "metadata": {
    "ExecuteTime": {
     "end_time": "2020-08-18T06:40:49.942970Z",
     "start_time": "2020-08-18T06:40:49.937915Z"
    }
   },
   "source": [
    "pytorch 中的 RNN 和 tensorflow 中的 tf.keras.layers.SimpleRNN 的差距比较大。主要有下面几点\n",
    "\n",
    "1. pytorch 中的数据默认是以 time major（time first）的格式输入的，而tensorflow 默认以 batch major 的格式输入。\n",
    "2. tensorflow 中的 simplernn 有 return_state 和 reture_sequence 来控制是否返回 sequence 和 hidden_state，而 pytorch 中的 RNN 没有这两个参数，会直接返回 sequence 和 hidden_state。相当于 pytorch 只支持 return_state=True 和 return_sequences=True\n",
    "3. tensorflow 中如果要在深度方向上叠加多个 rnn，需要多个 SimpleRNN 层，并且之前的层的 return_sequences=True，但是 pytorch 中直接设置 num_layers 就可以。"
   ]
  },
  {
   "cell_type": "markdown",
   "metadata": {},
   "source": [
    "## 示例"
   ]
  },
  {
   "cell_type": "code",
   "execution_count": 1,
   "metadata": {
    "ExecuteTime": {
     "end_time": "2020-08-18T07:02:13.343663Z",
     "start_time": "2020-08-18T07:02:13.001981Z"
    }
   },
   "outputs": [
    {
     "name": "stdout",
     "output_type": "stream",
     "text": [
      "torch.Size([5, 3, 2])\n",
      "torch.Size([1, 3, 2])\n",
      "tensor([[[True, True],\n",
      "         [True, True],\n",
      "         [True, True]]])\n"
     ]
    }
   ],
   "source": [
    "from torch import nn\n",
    "import torch\n",
    "\n",
    "batch_size = 3\n",
    "seq_len = 5\n",
    "feature_size = 10\n",
    "\n",
    "n_hidden = 2\n",
    "\n",
    "rnn = nn.RNN(10, n_hidden)\n",
    "h0 = torch.randn(1, batch_size, n_hidden)\n",
    "x = torch.randn(seq_len, batch_size, feature_size)\n",
    "output, hidden_state = rnn(x, h0)\n",
    "\n",
    "print(output.shape)\n",
    "print(hidden_state.shape)\n",
    "print(output[-1]==hidden_state) # hidden_state 是最后一个时间步的 output"
   ]
  },
  {
   "cell_type": "markdown",
   "metadata": {
    "ExecuteTime": {
     "end_time": "2020-08-20T08:20:27.879193Z",
     "start_time": "2020-08-20T08:20:27.876100Z"
    }
   },
   "source": [
    "## num_layers"
   ]
  },
  {
   "cell_type": "markdown",
   "metadata": {},
   "source": [
    "pytorch 中使用 num_layers 来进行 rnn 的堆叠。"
   ]
  },
  {
   "cell_type": "code",
   "execution_count": 2,
   "metadata": {
    "ExecuteTime": {
     "end_time": "2020-08-18T07:02:13.354166Z",
     "start_time": "2020-08-18T07:02:13.346320Z"
    }
   },
   "outputs": [
    {
     "name": "stdout",
     "output_type": "stream",
     "text": [
      "torch.Size([5, 3, 2])\n",
      "torch.Size([3, 3, 2])\n",
      "tensor([[True, True],\n",
      "        [True, True],\n",
      "        [True, True]])\n"
     ]
    }
   ],
   "source": [
    "from torch import nn\n",
    "import torch\n",
    "\n",
    "batch_size = 3\n",
    "seq_len = 5\n",
    "feature_size = 10\n",
    "num_layers = 3\n",
    "\n",
    "n_hidden = 2\n",
    "\n",
    "rnn = nn.RNN(10, n_hidden, num_layers)\n",
    "h0 = torch.randn(num_layers, batch_size, n_hidden)\n",
    "x = torch.randn(seq_len, batch_size, feature_size)\n",
    "output, hidden_state = rnn(x, h0)\n",
    "\n",
    "print(output.shape)\n",
    "print(hidden_state.shape)\n",
    "print(output[-1]==hidden_state[-1]) # hidden_state 是最后一层最后一个时间步的 output"
   ]
  },
  {
   "cell_type": "markdown",
   "metadata": {},
   "source": [
    "注意到，我们只指定了第一层的神经元的个数和最后一层神经元的个数。而中间的神经元的个数没有指定，pytorch 会默认中间层的神经元的层数和输出层相同。"
   ]
  },
  {
   "cell_type": "code",
   "execution_count": 3,
   "metadata": {
    "ExecuteTime": {
     "end_time": "2020-08-18T07:02:13.358562Z",
     "start_time": "2020-08-18T07:02:13.355783Z"
    }
   },
   "outputs": [
    {
     "name": "stdout",
     "output_type": "stream",
     "text": [
      "torch.Size([2, 10])\n",
      "torch.Size([2, 2])\n",
      "torch.Size([2, 2])\n"
     ]
    }
   ],
   "source": [
    "print(rnn.weight_ih_l0.shape) # 第1层是 2 x 10 hidden_size x input_size\n",
    "print(rnn.weight_ih_l1.shape) # 第2层是 2 x 2\n",
    "print(rnn.weight_ih_l2.shape) # 第3层是 2 x 2"
   ]
  },
  {
   "cell_type": "markdown",
   "metadata": {},
   "source": [
    "隐藏层的形状都是 hidden_size x hidden_size"
   ]
  },
  {
   "cell_type": "code",
   "execution_count": 4,
   "metadata": {
    "ExecuteTime": {
     "end_time": "2020-08-18T07:02:13.364880Z",
     "start_time": "2020-08-18T07:02:13.361586Z"
    }
   },
   "outputs": [
    {
     "name": "stdout",
     "output_type": "stream",
     "text": [
      "torch.Size([2, 2])\n",
      "torch.Size([2, 2])\n",
      "torch.Size([2, 2])\n"
     ]
    }
   ],
   "source": [
    "print(rnn.weight_hh_l0.shape)\n",
    "print(rnn.weight_hh_l1.shape)\n",
    "print(rnn.weight_hh_l2.shape)"
   ]
  },
  {
   "cell_type": "markdown",
   "metadata": {},
   "source": [
    "上面的网络的结构如下，由三个 rnn 堆叠而成。\n",
    "\n",
    "![](https://gitee.com/EdwardElric_1683260718/picture_bed/raw/master/img/20200818150047.png)"
   ]
  },
  {
   "cell_type": "markdown",
   "metadata": {},
   "source": [
    "## bidirectional"
   ]
  },
  {
   "cell_type": "markdown",
   "metadata": {},
   "source": [
    "![](https://gitee.com/EdwardElric_1683260718/picture_bed/raw/master/img/20200820165559.png)"
   ]
  },
  {
   "cell_type": "code",
   "execution_count": 42,
   "metadata": {
    "ExecuteTime": {
     "end_time": "2020-08-20T08:59:52.135490Z",
     "start_time": "2020-08-20T08:59:52.126938Z"
    }
   },
   "outputs": [
    {
     "name": "stdout",
     "output_type": "stream",
     "text": [
      "torch.Size([5, 3, 4])\n",
      "torch.Size([2, 3, 2])\n",
      "tensor([[[True, True],\n",
      "         [True, True],\n",
      "         [True, True]],\n",
      "\n",
      "        [[True, True],\n",
      "         [True, True],\n",
      "         [True, True]]])\n"
     ]
    }
   ],
   "source": [
    "from torch import nn\n",
    "import torch\n",
    "\n",
    "batch_size = 3\n",
    "seq_len = 5\n",
    "feature_size = 10\n",
    "n_hidden = 2\n",
    "\n",
    "rnn = nn.RNN(10, n_hidden, bidirectional=True)\n",
    "h0 = torch.zeros(2, batch_size, n_hidden)\n",
    "x = torch.randn(seq_len, batch_size, feature_size)\n",
    "output, hidden_state = rnn(x, h0)\n",
    "\n",
    "print(output.shape) # [seq_len, batch_size, n_hidden * 2]\n",
    "print(hidden_state.shape) # [2, batch_size, n_hidden]\n",
    "\n",
    "h3_left = output[-1, :, :n_hidden]\n",
    "h3_right = output[0, :, n_hidden:]\n",
    "print(hidden_state == torch.cat((h3_left, h3_right)).view(2, -1, n_hidden))"
   ]
  },
  {
   "cell_type": "markdown",
   "metadata": {},
   "source": [
    "# References\n",
    "[RNN — PyTorch 1.6.0 documentation](https://pytorch.org/docs/stable/generated/torch.nn.RNN.html?highlight=rnn#torch.nn.RNN)"
   ]
  }
 ],
 "metadata": {
  "hide_input": false,
  "kernelspec": {
   "display_name": "Python 3.5.5 64-bit ('pytorch': conda)",
   "language": "python",
   "name": "python35564bitpytorchconda72e94a1a4f294f41ae76e825f8204341"
  },
  "language_info": {
   "codemirror_mode": {
    "name": "ipython",
    "version": 3
   },
   "file_extension": ".py",
   "mimetype": "text/x-python",
   "name": "python",
   "nbconvert_exporter": "python",
   "pygments_lexer": "ipython3",
   "version": "3.5.5"
  },
  "toc": {
   "base_numbering": 1,
   "nav_menu": {},
   "number_sections": true,
   "sideBar": true,
   "skip_h1_title": false,
   "title_cell": "Table of Contents",
   "title_sidebar": "Contents",
   "toc_cell": false,
   "toc_position": {},
   "toc_section_display": true,
   "toc_window_display": true
  },
  "varInspector": {
   "cols": {
    "lenName": 16,
    "lenType": 16,
    "lenVar": 40
   },
   "kernels_config": {
    "python": {
     "delete_cmd_postfix": "",
     "delete_cmd_prefix": "del ",
     "library": "var_list.py",
     "varRefreshCmd": "print(var_dic_list())"
    },
    "r": {
     "delete_cmd_postfix": ") ",
     "delete_cmd_prefix": "rm(",
     "library": "var_list.r",
     "varRefreshCmd": "cat(var_dic_list()) "
    }
   },
   "types_to_exclude": [
    "module",
    "function",
    "builtin_function_or_method",
    "instance",
    "_Feature"
   ],
   "window_display": false
  }
 },
 "nbformat": 4,
 "nbformat_minor": 4
}
