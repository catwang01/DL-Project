{
 "cells": [
  {
   "cell_type": "markdown",
   "metadata": {},
   "source": [
    "[toc]"
   ]
  },
  {
   "cell_type": "markdown",
   "metadata": {},
   "source": [
    "# Pytorch 使用过程中的一些函数记录"
   ]
  },
  {
   "cell_type": "code",
   "execution_count": 2,
   "metadata": {
    "ExecuteTime": {
     "end_time": "2020-08-20T09:33:14.677313Z",
     "start_time": "2020-08-20T09:33:14.293051Z"
    }
   },
   "outputs": [],
   "source": [
    "import torch"
   ]
  },
  {
   "cell_type": "markdown",
   "metadata": {
    "ExecuteTime": {
     "end_time": "2020-07-24T09:06:32.370640Z",
     "start_time": "2020-07-24T09:06:32.368354Z"
    }
   },
   "source": [
    "## Tensor.bmm"
   ]
  },
  {
   "cell_type": "markdown",
   "metadata": {},
   "source": [
    "batch matrix multiply"
   ]
  },
  {
   "cell_type": "code",
   "execution_count": 9,
   "metadata": {
    "ExecuteTime": {
     "end_time": "2020-07-24T09:05:51.462953Z",
     "start_time": "2020-07-24T09:05:51.455064Z"
    }
   },
   "outputs": [
    {
     "data": {
      "text/plain": [
       "torch.Size([10, 4, 2])"
      ]
     },
     "execution_count": 9,
     "metadata": {},
     "output_type": "execute_result"
    }
   ],
   "source": [
    "import torch\n",
    "\n",
    "x = torch.randn([10,4,3])\n",
    "y = torch.randn([10,3,2])\n",
    "z = x.bmm(y)\n",
    "z.shape # [10, 4, 3] x [10 ,3, 2] -> [10 ,4, 2]"
   ]
  },
  {
   "cell_type": "markdown",
   "metadata": {},
   "source": [
    "## torch.multinomial"
   ]
  },
  {
   "cell_type": "markdown",
   "metadata": {},
   "source": [
    "返回一个满足给定概率分布的一个多项分布的抽样。"
   ]
  },
  {
   "cell_type": "code",
   "execution_count": 18,
   "metadata": {
    "ExecuteTime": {
     "end_time": "2020-07-24T09:10:41.506843Z",
     "start_time": "2020-07-24T09:10:41.499497Z"
    }
   },
   "outputs": [
    {
     "data": {
      "text/plain": [
       "tensor([1, 1, 1, 1, 1, 1, 1, 1, 1, 1])"
      ]
     },
     "execution_count": 18,
     "metadata": {},
     "output_type": "execute_result"
    }
   ],
   "source": [
    "prob = torch.Tensor([0, 999, 123, 0]) # 这个概率分布没有归一化，在 torch.multinomial 会自动归一化\n",
    "torch.multinomial(prob, 10, replacement=True)"
   ]
  },
  {
   "cell_type": "markdown",
   "metadata": {
    "ExecuteTime": {
     "end_time": "2020-08-14T12:36:47.575193Z",
     "start_time": "2020-08-14T12:36:47.573060Z"
    }
   },
   "source": [
    "## torch.max"
   ]
  },
  {
   "cell_type": "markdown",
   "metadata": {},
   "source": [
    "DataLoader 需要指定 cpu 的线程数。一般指定与核数相同的，可以使用下面的命令得到 cpu 的核数"
   ]
  },
  {
   "cell_type": "code",
   "execution_count": null,
   "metadata": {},
   "outputs": [],
   "source": [
    "import multiprocessing\n",
    "multiprocessing.cpu_count()"
   ]
  },
  {
   "cell_type": "markdown",
   "metadata": {},
   "source": [
    "## 常数 tensor"
   ]
  },
  {
   "cell_type": "markdown",
   "metadata": {},
   "source": [
    "`shape=()` 时可以生成一个常数tensor。使用 `.item()` 可以从这个tensor中取出数字"
   ]
  },
  {
   "cell_type": "code",
   "execution_count": 10,
   "metadata": {
    "ExecuteTime": {
     "end_time": "2020-08-14T12:38:36.128398Z",
     "start_time": "2020-08-14T12:38:36.123557Z"
    }
   },
   "outputs": [
    {
     "data": {
      "text/plain": [
       "0.0"
      ]
     },
     "execution_count": 10,
     "metadata": {},
     "output_type": "execute_result"
    }
   ],
   "source": [
    "b = torch.zeros(())\n",
    "b.item() # 0"
   ]
  },
  {
   "cell_type": "markdown",
   "metadata": {},
   "source": [
    "## torch.max"
   ]
  },
  {
   "cell_type": "markdown",
   "metadata": {},
   "source": [
    "torch.max 有多个重载版本。其中最常见的是 "
   ]
  },
  {
   "cell_type": "code",
   "execution_count": 9,
   "metadata": {
    "ExecuteTime": {
     "end_time": "2020-08-14T12:38:34.152282Z",
     "start_time": "2020-08-14T12:38:34.147606Z"
    }
   },
   "outputs": [
    {
     "data": {
      "text/plain": [
       "torch.return_types.max(\n",
       "values=tensor([1.3190, 2.2014]),\n",
       "indices=tensor([1, 5]))"
      ]
     },
     "execution_count": 9,
     "metadata": {},
     "output_type": "execute_result"
    }
   ],
   "source": [
    "yhat = torch.randn(2, 10)\n",
    "torch.max(yhat, axis=1)"
   ]
  },
  {
   "cell_type": "markdown",
   "metadata": {
    "ExecuteTime": {
     "end_time": "2020-08-14T12:38:01.796314Z",
     "start_time": "2020-08-14T12:38:01.792554Z"
    }
   },
   "source": [
    "上面的不但可以返回 yhat 沿 axis=1 的最大值，还可以返回最大值所对应的下标！"
   ]
  },
  {
   "cell_type": "markdown",
   "metadata": {},
   "source": [
    "## torch.repeat"
   ]
  },
  {
   "cell_type": "code",
   "execution_count": 14,
   "metadata": {
    "ExecuteTime": {
     "end_time": "2020-08-20T09:34:45.396777Z",
     "start_time": "2020-08-20T09:34:45.390294Z"
    }
   },
   "outputs": [
    {
     "name": "stdout",
     "output_type": "stream",
     "text": [
      "tensor([[[2, 2, 2],\n",
      "         [3, 1, 0]]])\n"
     ]
    },
    {
     "data": {
      "text/plain": [
       "tensor([[[2, 2, 2],\n",
       "         [3, 1, 0],\n",
       "         [2, 2, 2],\n",
       "         [3, 1, 0],\n",
       "         [2, 2, 2],\n",
       "         [3, 1, 0]],\n",
       "\n",
       "        [[2, 2, 2],\n",
       "         [3, 1, 0],\n",
       "         [2, 2, 2],\n",
       "         [3, 1, 0],\n",
       "         [2, 2, 2],\n",
       "         [3, 1, 0]]])"
      ]
     },
     "execution_count": 14,
     "metadata": {},
     "output_type": "execute_result"
    }
   ],
   "source": [
    "x = torch.randint(4, (1, 2, 3))\n",
    "print(x)\n",
    "x.repeat(2, 3, 1) # 沿0轴重复2次，沿1轴重复3次，沿2轴不重复"
   ]
  },
  {
   "cell_type": "markdown",
   "metadata": {},
   "source": [
    "如果想让 x 沿 0 轴重复2次，不能用 `x.repeat(2)`，而得用"
   ]
  },
  {
   "cell_type": "code",
   "execution_count": 16,
   "metadata": {
    "ExecuteTime": {
     "end_time": "2020-08-20T09:35:21.932470Z",
     "start_time": "2020-08-20T09:35:21.927244Z"
    }
   },
   "outputs": [
    {
     "data": {
      "text/plain": [
       "tensor([[[2, 2, 2],\n",
       "         [3, 1, 0]],\n",
       "\n",
       "        [[2, 2, 2],\n",
       "         [3, 1, 0]]])"
      ]
     },
     "execution_count": 16,
     "metadata": {},
     "output_type": "execute_result"
    }
   ],
   "source": [
    "x.repeat(2, 1, 1)"
   ]
  },
  {
   "cell_type": "markdown",
   "metadata": {},
   "source": [
    "## torch.tranpose()"
   ]
  },
  {
   "cell_type": "markdown",
   "metadata": {},
   "source": [
    "这个和 np.transpose 不同。这个每次只能调换两个维度的顺序。"
   ]
  },
  {
   "cell_type": "code",
   "execution_count": 18,
   "metadata": {
    "ExecuteTime": {
     "end_time": "2020-08-20T11:01:31.669303Z",
     "start_time": "2020-08-20T11:01:31.664746Z"
    }
   },
   "outputs": [
    {
     "name": "stdout",
     "output_type": "stream",
     "text": [
      "torch.Size([4, 3, 2])\n"
     ]
    }
   ],
   "source": [
    "x = torch.randn(3, 4, 2)\n",
    "print(x.transpose(0, 1).shape)"
   ]
  }
 ],
 "metadata": {
  "hide_input": false,
  "kernelspec": {
   "display_name": "Python 3.5.5 64-bit ('pytorch': conda)",
   "language": "python",
   "name": "python35564bitpytorchconda72e94a1a4f294f41ae76e825f8204341"
  },
  "language_info": {
   "codemirror_mode": {
    "name": "ipython",
    "version": 3
   },
   "file_extension": ".py",
   "mimetype": "text/x-python",
   "name": "python",
   "nbconvert_exporter": "python",
   "pygments_lexer": "ipython3",
   "version": "3.5.5"
  },
  "toc": {
   "base_numbering": 1,
   "nav_menu": {},
   "number_sections": true,
   "sideBar": true,
   "skip_h1_title": false,
   "title_cell": "Table of Contents",
   "title_sidebar": "Contents",
   "toc_cell": false,
   "toc_position": {},
   "toc_section_display": true,
   "toc_window_display": false
  },
  "varInspector": {
   "cols": {
    "lenName": 16,
    "lenType": 16,
    "lenVar": 40
   },
   "kernels_config": {
    "python": {
     "delete_cmd_postfix": "",
     "delete_cmd_prefix": "del ",
     "library": "var_list.py",
     "varRefreshCmd": "print(var_dic_list())"
    },
    "r": {
     "delete_cmd_postfix": ") ",
     "delete_cmd_prefix": "rm(",
     "library": "var_list.r",
     "varRefreshCmd": "cat(var_dic_list()) "
    }
   },
   "types_to_exclude": [
    "module",
    "function",
    "builtin_function_or_method",
    "instance",
    "_Feature"
   ],
   "window_display": false
  }
 },
 "nbformat": 4,
 "nbformat_minor": 2
}
