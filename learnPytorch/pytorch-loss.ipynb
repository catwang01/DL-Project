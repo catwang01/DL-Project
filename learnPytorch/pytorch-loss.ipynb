{
 "cells": [
  {
   "cell_type": "markdown",
   "metadata": {
    "ExecuteTime": {
     "end_time": "2020-08-19T09:26:50.861138Z",
     "start_time": "2020-08-19T09:26:50.792475Z"
    }
   },
   "source": [
    "[toc]\n",
    "\n",
    "# Pytorch Loss"
   ]
  },
  {
   "cell_type": "markdown",
   "metadata": {
    "ExecuteTime": {
     "end_time": "2020-08-19T09:27:44.789835Z",
     "start_time": "2020-08-19T09:27:44.786480Z"
    }
   },
   "source": [
    "## torch.nn.CrossEntropyLoss"
   ]
  },
  {
   "cell_type": "markdown",
   "metadata": {
    "ExecuteTime": {
     "end_time": "2020-08-19T09:26:54.487666Z",
     "start_time": "2020-08-19T09:26:54.480975Z"
    }
   },
   "source": [
    "主要记得下面几点：\n",
    "1. 第一个参数是 logits，也就是不需要过 softmax 函数。\n",
    "2. 第二个参数是不是one_hot形式的，而且其类型应该为 `torch.long`\n",
    "3. 默认是求 mean 的结果，不像 tensorflow，需要手动求 mean\n",
    "\n",
    "使用\n",
    "\n",
    ">The input is expected to contain raw, unnormalized scores for each class."
   ]
  },
  {
   "cell_type": "code",
   "execution_count": 10,
   "metadata": {
    "ExecuteTime": {
     "end_time": "2020-08-19T09:30:24.377198Z",
     "start_time": "2020-08-19T09:30:24.370451Z"
    }
   },
   "outputs": [],
   "source": [
    "import torch\n",
    "import torch.nn as nn\n",
    "\n",
    "loss = nn.CrossEntropyLoss()\n",
    "input = torch.randn(3, 5, requires_grad=True)\n",
    "target = torch.empty(3, dtype=torch.long).random_(5)\n",
    "output = loss(input, target)\n",
    "output.backward()"
   ]
  },
  {
   "cell_type": "markdown",
   "metadata": {},
   "source": [
    "### ignore_index"
   ]
  },
  {
   "cell_type": "markdown",
   "metadata": {},
   "source": [
    "有时，我们希望忽略我们预测出来的标签。比如，我们在使用 rnn 的时候会进行 pad，我们不希望在计算 loss 的时候将 pad_token 也计算进去，因此我们可以使用 ignore_index 来指定那个 index 不希望被计算。"
   ]
  },
  {
   "cell_type": "code",
   "execution_count": 16,
   "metadata": {
    "ExecuteTime": {
     "end_time": "2020-08-22T08:44:15.002798Z",
     "start_time": "2020-08-22T08:44:14.993966Z"
    }
   },
   "outputs": [
    {
     "data": {
      "text/plain": [
       "tensor(1.5425)"
      ]
     },
     "execution_count": 16,
     "metadata": {},
     "output_type": "execute_result"
    }
   ],
   "source": [
    "import torch\n",
    "\n",
    "logits = torch.tensor([[0.1, 0.2, 0.3, 0.4]])\n",
    "target = torch.tensor([0,])\n",
    "xentropy = torch.nn.CrossEntropyLoss()\n",
    "xentropy(logits, target)"
   ]
  },
  {
   "cell_type": "markdown",
   "metadata": {},
   "source": [
    "如果使用 ignore_index 将 0 忽略掉，那么结果是 0"
   ]
  },
  {
   "cell_type": "code",
   "execution_count": 15,
   "metadata": {
    "ExecuteTime": {
     "end_time": "2020-08-22T08:44:14.063562Z",
     "start_time": "2020-08-22T08:44:14.055714Z"
    }
   },
   "outputs": [
    {
     "data": {
      "text/plain": [
       "tensor(0.)"
      ]
     },
     "execution_count": 15,
     "metadata": {},
     "output_type": "execute_result"
    }
   ],
   "source": [
    "import torch\n",
    "\n",
    "logits = torch.tensor([[0.1, 0.2, 0.3, 0.4]])\n",
    "target = torch.tensor([0,])\n",
    "xentropy = torch.nn.CrossEntropyLoss(ignore_index=0)\n",
    "xentropy(logits, target)"
   ]
  },
  {
   "cell_type": "markdown",
   "metadata": {},
   "source": [
    "## torch.nn.NLLLoss()"
   ]
  },
  {
   "cell_type": "markdown",
   "metadata": {
    "ExecuteTime": {
     "end_time": "2020-08-22T16:04:38.977384Z",
     "start_time": "2020-08-22T16:04:38.970208Z"
    }
   },
   "source": [
    "\n",
    "该函数的全程是**negative log likelihood loss**，函数表达式为\n",
    "\n",
    "$$\n",
    "f(x, class) = - x[class]\n",
    "$$\n",
    "\n",
    "例如假设 $x=[0.1,0.2,0.3]$ , $class=2$ ,那么 $f(x,class)=-0.3$"
   ]
  },
  {
   "cell_type": "code",
   "execution_count": 14,
   "metadata": {
    "ExecuteTime": {
     "end_time": "2020-08-22T16:06:00.339537Z",
     "start_time": "2020-08-22T16:06:00.332127Z"
    }
   },
   "outputs": [
    {
     "name": "stdout",
     "output_type": "stream",
     "text": [
      "tensor(-0.3000)\n"
     ]
    }
   ],
   "source": [
    "import torch\n",
    "\n",
    "x = torch.tensor([[0.1, 0.2, 0.3]])\n",
    "y = torch.tensor([2,])\n",
    "loss = torch.nn.NLLLoss()\n",
    "print(loss(x, y))"
   ]
  },
  {
   "cell_type": "markdown",
   "metadata": {},
   "source": [
    "### 和 nn.LogSoftmax() 连用"
   ]
  },
  {
   "cell_type": "markdown",
   "metadata": {},
   "source": [
    "这个函数和 `nn.LogSoftmax()` 结合起来实现 `nn.CrossEntropyLoss()` 的功能"
   ]
  },
  {
   "cell_type": "code",
   "execution_count": 21,
   "metadata": {
    "ExecuteTime": {
     "end_time": "2020-08-19T09:33:46.705461Z",
     "start_time": "2020-08-19T09:33:46.698709Z"
    }
   },
   "outputs": [],
   "source": [
    "m = nn.LogSoftmax(dim=1)\n",
    "loss = nn.NLLLoss()\n",
    "# input is of size N x C = 3 x 5\n",
    "input = torch.randn(3, 5, requires_grad=True)\n",
    "# each element in target has to have 0 <= value < C\n",
    "target = torch.tensor([1, 0, 4])\n",
    "output = loss(m(input), target)\n",
    "output.backward()"
   ]
  },
  {
   "cell_type": "markdown",
   "metadata": {
    "ExecuteTime": {
     "end_time": "2020-08-19T09:33:44.369071Z",
     "start_time": "2020-08-19T09:33:44.363671Z"
    }
   },
   "source": [
    "使用 `nn.CrossEntropyLoss()` 实现相同的功能"
   ]
  },
  {
   "cell_type": "code",
   "execution_count": 20,
   "metadata": {
    "ExecuteTime": {
     "end_time": "2020-08-19T09:33:45.766872Z",
     "start_time": "2020-08-19T09:33:45.761962Z"
    }
   },
   "outputs": [
    {
     "name": "stdout",
     "output_type": "stream",
     "text": [
      "tensor(True)\n"
     ]
    }
   ],
   "source": [
    "xentropy = nn.CrossEntropyLoss()\n",
    "output2 = xentropy(input, target)\n",
    "print(output == output2)"
   ]
  },
  {
   "cell_type": "markdown",
   "metadata": {
    "ExecuteTime": {
     "end_time": "2020-08-19T09:27:18.085230Z",
     "start_time": "2020-08-19T09:27:18.079653Z"
    }
   },
   "source": [
    "\n",
    "# References\n",
    "1. [torch.nn — PyTorch master documentation](https://pytorch.org/docs/stable/nn.html#crossentropyloss)\n",
    "2. [Pytorch里的CrossEntropyLoss详解 - marsggbo - 博客园](https://www.cnblogs.com/marsggbo/p/10401215.html)"
   ]
  }
 ],
 "metadata": {
  "hide_input": false,
  "kernelspec": {
   "display_name": "Python 3.5.5 64-bit ('pytorch': conda)",
   "language": "python",
   "name": "python35564bitpytorchconda72e94a1a4f294f41ae76e825f8204341"
  },
  "language_info": {
   "codemirror_mode": {
    "name": "ipython",
    "version": 3
   },
   "file_extension": ".py",
   "mimetype": "text/x-python",
   "name": "python",
   "nbconvert_exporter": "python",
   "pygments_lexer": "ipython3",
   "version": "3.5.5"
  },
  "toc": {
   "base_numbering": 1,
   "nav_menu": {},
   "number_sections": true,
   "sideBar": true,
   "skip_h1_title": false,
   "title_cell": "Table of Contents",
   "title_sidebar": "Contents",
   "toc_cell": false,
   "toc_position": {},
   "toc_section_display": true,
   "toc_window_display": false
  },
  "varInspector": {
   "cols": {
    "lenName": 16,
    "lenType": 16,
    "lenVar": 40
   },
   "kernels_config": {
    "python": {
     "delete_cmd_postfix": "",
     "delete_cmd_prefix": "del ",
     "library": "var_list.py",
     "varRefreshCmd": "print(var_dic_list())"
    },
    "r": {
     "delete_cmd_postfix": ") ",
     "delete_cmd_prefix": "rm(",
     "library": "var_list.r",
     "varRefreshCmd": "cat(var_dic_list()) "
    }
   },
   "types_to_exclude": [
    "module",
    "function",
    "builtin_function_or_method",
    "instance",
    "_Feature"
   ],
   "window_display": false
  }
 },
 "nbformat": 4,
 "nbformat_minor": 2
}
