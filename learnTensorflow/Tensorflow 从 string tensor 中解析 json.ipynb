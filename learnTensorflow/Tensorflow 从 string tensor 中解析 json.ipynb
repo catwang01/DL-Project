{
 "cells": [
  {
   "cell_type": "markdown",
   "metadata": {},
   "source": [
    "[toc]\n",
    "\n",
    "# Tensorflow 从 string tensor 中解析 json"
   ]
  },
  {
   "cell_type": "code",
   "execution_count": 6,
   "metadata": {},
   "outputs": [
    {
     "name": "stdout",
     "output_type": "stream",
     "text": [
      "[[ 94.   98.5 197.  188. ]\n",
      " [ 94.   98.5 197.  188. ]\n",
      " [ 94.   98.5 197.  188. ]]\n",
      "[3 4]\n"
     ]
    }
   ],
   "source": [
    "import json\n",
    "import numpy as np\n",
    "import tensorflow as tf\n",
    "\n",
    "def get_bbox(s):\n",
    "    obj = json.loads(s.decode('utf-8'))\n",
    "    bbox = obj['bounding_box']\n",
    "    return np.array([bbox['x'], bbox['y'], bbox['height'], bbox['width']], dtype=np.float32)\n",
    "\n",
    "def get_multiple_bboxes(strings):\n",
    "    return [[get_bbox(s) for s in strings]]\n",
    "\n",
    "raw = tf.placeholder(tf.string, [None])\n",
    "[parsed] = tf.py_func(get_multiple_bboxes, [raw], [tf.float32])\n",
    "\n",
    "json_string = \"\"\"{\n",
    "    \"bounding_box\": {\n",
    "        \"y\": 98.5,\n",
    "        \"x\": 94.0,\n",
    "        \"height\": 197,\n",
    "        \"width\": 188\n",
    "     },\n",
    "    \"rotation\": {\n",
    "        \"yaw\": -27.97019577026367,\n",
    "        \"roll\": 2.206029415130615,\n",
    "        \"pitch\": 0.0},\n",
    "        \"confidence\": 3.053506851196289,\n",
    "        \"landmarks\": {\n",
    "            \"1\": {\n",
    "                \"y\": 180.87722778320312,\n",
    "                \"x\": 124.47326660156205},\n",
    "            \"0\": {\n",
    "                \"y\": 178.60653686523438,\n",
    "                \"x\": 183.41931152343795},\n",
    "            \"2\": {\n",
    "                \"y\": 224.5936889648438,\n",
    "                \"x\": 141.62365722656205\n",
    "}}}\"\"\"\n",
    "\n",
    "my_data = np.array([json_string, json_string, json_string])\n",
    "\n",
    "init_op = tf.initialize_all_variables()\n",
    "with tf.Session() as sess:\n",
    "    sess.run(init_op)\n",
    "    print(sess.run(parsed, feed_dict={raw: my_data}))\n",
    "    print(sess.run(tf.shape(parsed), feed_dict={raw: my_data}))\n"
   ]
  },
  {
   "cell_type": "markdown",
   "metadata": {},
   "source": [
    "# References\n",
    "[python - How to read json files in Tensorflow? - Stack Overflow](https://stackoverflow.com/questions/38381887/how-to-read-json-files-in-tensorflow)"
   ]
  }
 ],
 "metadata": {
  "kernelspec": {
   "display_name": "Python [conda env:tars]",
   "language": "python",
   "name": "conda-env-tars-py"
  },
  "language_info": {
   "codemirror_mode": {
    "name": "ipython",
    "version": 3
   },
   "file_extension": ".py",
   "mimetype": "text/x-python",
   "name": "python",
   "nbconvert_exporter": "python",
   "pygments_lexer": "ipython3",
   "version": "3.7.9"
  }
 },
 "nbformat": 4,
 "nbformat_minor": 4
}
