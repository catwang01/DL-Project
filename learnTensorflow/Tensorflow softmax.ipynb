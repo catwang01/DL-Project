{
 "cells": [
  {
   "cell_type": "markdown",
   "metadata": {},
   "source": [
    "[toc]\n",
    "\n",
    "# Tensorflow softmax"
   ]
  },
  {
   "cell_type": "markdown",
   "metadata": {},
   "source": [
    "softmax 默认是 axis=-1，也就是沿着最后一个轴进行归一化"
   ]
  },
  {
   "cell_type": "code",
   "execution_count": 9,
   "metadata": {},
   "outputs": [
    {
     "name": "stdout",
     "output_type": "stream",
     "text": [
      "[[[0.26129097 0.07009715 0.18378055 0.45952004 0.02531134]\n",
      "  [0.07223184 0.6171149  0.08543482 0.03298499 0.19223341]]\n",
      "\n",
      " [[0.3043427  0.07308506 0.01904083 0.5916134  0.01191791]\n",
      "  [0.25839034 0.29768854 0.13115658 0.28711978 0.02564478]]\n",
      "\n",
      " [[0.50265723 0.10258091 0.32757312 0.04472334 0.02246547]\n",
      "  [0.1978573  0.16254538 0.0957991  0.4310247  0.11277357]]]\n"
     ]
    }
   ],
   "source": [
    "import tensorflow as tf\n",
    "\n",
    "x = tf.random.normal(shape=(3,2,5))\n",
    "probs = tf.nn.softmax(x)\n",
    "\n",
    "with tf.Session() as sess:\n",
    "    probs_val = sess.run(probs)\n",
    "    print(probs_val)"
   ]
  },
  {
   "cell_type": "code",
   "execution_count": 11,
   "metadata": {},
   "outputs": [
    {
     "data": {
      "text/plain": [
       "array([[1.       , 0.9999999],\n",
       "       [0.9999999, 1.       ],\n",
       "       [1.0000001, 1.       ]], dtype=float32)"
      ]
     },
     "execution_count": 11,
     "metadata": {},
     "output_type": "execute_result"
    }
   ],
   "source": [
    "probs_val.sum(axis=-1)"
   ]
  }
 ],
 "metadata": {
  "kernelspec": {
   "display_name": "Python [conda env:tars]",
   "language": "python",
   "name": "conda-env-tars-py"
  },
  "language_info": {
   "codemirror_mode": {
    "name": "ipython",
    "version": 3
   },
   "file_extension": ".py",
   "mimetype": "text/x-python",
   "name": "python",
   "nbconvert_exporter": "python",
   "pygments_lexer": "ipython3",
   "version": "3.7.9"
  },
  "toc": {
   "base_numbering": 1,
   "nav_menu": {},
   "number_sections": true,
   "sideBar": true,
   "skip_h1_title": false,
   "title_cell": "Table of Contents",
   "title_sidebar": "Contents",
   "toc_cell": false,
   "toc_position": {},
   "toc_section_display": true,
   "toc_window_display": false
  }
 },
 "nbformat": 4,
 "nbformat_minor": 4
}
