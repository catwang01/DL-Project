{
 "cells": [
  {
   "cell_type": "markdown",
   "metadata": {},
   "source": [
    "[toc]\n",
    "\n",
    "# Tensorflow2 SimpleRNN"
   ]
  },
  {
   "cell_type": "markdown",
   "metadata": {},
   "source": [
    "## 原型"
   ]
  },
  {
   "cell_type": "code",
   "execution_count": 1,
   "metadata": {
    "ExecuteTime": {
     "end_time": "2020-08-18T04:59:54.923438Z",
     "start_time": "2020-08-18T04:59:54.862661Z"
    }
   },
   "outputs": [
    {
     "ename": "NameError",
     "evalue": "name 'tf' is not defined",
     "output_type": "error",
     "traceback": [
      "\u001b[0;31m---------------------------------------------------------------------------\u001b[0m",
      "\u001b[0;31mNameError\u001b[0m                                 Traceback (most recent call last)",
      "\u001b[0;32m<ipython-input-1-58ae1c105679>\u001b[0m in \u001b[0;36m<module>\u001b[0;34m\u001b[0m\n\u001b[0;32m----> 1\u001b[0;31m tf.keras.layers.SimpleRNN(\n\u001b[0m\u001b[1;32m      2\u001b[0m     \u001b[0munits\u001b[0m\u001b[0;34m,\u001b[0m \u001b[0mactivation\u001b[0m\u001b[0;34m=\u001b[0m\u001b[0;34m'tanh'\u001b[0m\u001b[0;34m,\u001b[0m \u001b[0muse_bias\u001b[0m\u001b[0;34m=\u001b[0m\u001b[0;32mTrue\u001b[0m\u001b[0;34m,\u001b[0m \u001b[0mkernel_initializer\u001b[0m\u001b[0;34m=\u001b[0m\u001b[0;34m'glorot_uniform'\u001b[0m\u001b[0;34m,\u001b[0m\u001b[0;34m\u001b[0m\u001b[0;34m\u001b[0m\u001b[0m\n\u001b[1;32m      3\u001b[0m     \u001b[0mrecurrent_initializer\u001b[0m\u001b[0;34m=\u001b[0m\u001b[0;34m'orthogonal'\u001b[0m\u001b[0;34m,\u001b[0m \u001b[0mbias_initializer\u001b[0m\u001b[0;34m=\u001b[0m\u001b[0;34m'zeros'\u001b[0m\u001b[0;34m,\u001b[0m\u001b[0;34m\u001b[0m\u001b[0;34m\u001b[0m\u001b[0m\n\u001b[1;32m      4\u001b[0m     \u001b[0mkernel_regularizer\u001b[0m\u001b[0;34m=\u001b[0m\u001b[0;32mNone\u001b[0m\u001b[0;34m,\u001b[0m \u001b[0mrecurrent_regularizer\u001b[0m\u001b[0;34m=\u001b[0m\u001b[0;32mNone\u001b[0m\u001b[0;34m,\u001b[0m \u001b[0mbias_regularizer\u001b[0m\u001b[0;34m=\u001b[0m\u001b[0;32mNone\u001b[0m\u001b[0;34m,\u001b[0m\u001b[0;34m\u001b[0m\u001b[0;34m\u001b[0m\u001b[0m\n\u001b[1;32m      5\u001b[0m     \u001b[0mactivity_regularizer\u001b[0m\u001b[0;34m=\u001b[0m\u001b[0;32mNone\u001b[0m\u001b[0;34m,\u001b[0m \u001b[0mkernel_constraint\u001b[0m\u001b[0;34m=\u001b[0m\u001b[0;32mNone\u001b[0m\u001b[0;34m,\u001b[0m \u001b[0mrecurrent_constraint\u001b[0m\u001b[0;34m=\u001b[0m\u001b[0;32mNone\u001b[0m\u001b[0;34m,\u001b[0m\u001b[0;34m\u001b[0m\u001b[0;34m\u001b[0m\u001b[0m\n",
      "\u001b[0;31mNameError\u001b[0m: name 'tf' is not defined"
     ]
    }
   ],
   "source": [
    "tf.keras.layers.SimpleRNN(\n",
    "    units, activation='tanh', use_bias=True, kernel_initializer='glorot_uniform',\n",
    "    recurrent_initializer='orthogonal', bias_initializer='zeros',\n",
    "    kernel_regularizer=None, recurrent_regularizer=None, bias_regularizer=None,\n",
    "    activity_regularizer=None, kernel_constraint=None, recurrent_constraint=None,\n",
    "    bias_constraint=None, dropout=0.0, recurrent_dropout=0.0,\n",
    "    return_sequences=False, return_state=False, go_backwards=False, stateful=False,\n",
    "    unroll=False, **kwargs\n",
    ")"
   ]
  },
  {
   "cell_type": "markdown",
   "metadata": {},
   "source": [
    "需要注意的点：\n",
    "1. activation 已经默认使用 tanh 了\n",
    "2. SimpleRNN 中可以设置 dropout，有 `dropout` 和 `recurrent_dropout` 两个可以设置。如果是单独使用 Dropout() 的话，只能设置 `dropout` 不能设置 `recurrent_dropout`\n",
    "3. tensorflow 默认的是 batch_major，即输入的数据格式为 [batch_size, seq_len, feature_size]，而 pytorch 中默认的是 time major（pytorch称为time first）"
   ]
  },
  {
   "cell_type": "markdown",
   "metadata": {},
   "source": [
    "## 使用实例"
   ]
  },
  {
   "cell_type": "markdown",
   "metadata": {
    "ExecuteTime": {
     "end_time": "2020-08-18T05:04:06.939107Z",
     "start_time": "2020-08-18T05:04:06.933903Z"
    }
   },
   "source": [
    "默认只会输出最后一个时间步的 output，如图\n",
    "\n",
    "![](https://gitee.com/EdwardElric_1683260718/picture_bed/raw/master/img/20200818130355.png)"
   ]
  },
  {
   "cell_type": "code",
   "execution_count": 3,
   "metadata": {
    "ExecuteTime": {
     "end_time": "2020-08-18T05:00:11.263350Z",
     "start_time": "2020-08-18T05:00:11.233833Z"
    }
   },
   "outputs": [
    {
     "name": "stdout",
     "output_type": "stream",
     "text": [
      "(2, 5)\n"
     ]
    }
   ],
   "source": [
    "import tensorflow as tf\n",
    "\n",
    "batch_size = 2\n",
    "seq_len = 20\n",
    "feature_size = 10\n",
    "x = tf.random.normal(shape=(batch_size, seq_len, feature_size))\n",
    "rnn = tf.keras.layers.SimpleRNN(5)\n",
    "output = rnn(x)\n",
    "print(output.shape)"
   ]
  },
  {
   "cell_type": "markdown",
   "metadata": {},
   "source": [
    "## return_state"
   ]
  },
  {
   "cell_type": "markdown",
   "metadata": {
    "ExecuteTime": {
     "end_time": "2020-08-18T06:13:43.069113Z",
     "start_time": "2020-08-18T06:13:43.063404Z"
    }
   },
   "source": [
    "使用 return_state 不仅会输出最后一个时间步的 output，还会输出最后一个时间步的 hidden_state\n",
    "\n",
    "![](https://gitee.com/EdwardElric_1683260718/picture_bed/raw/master/img/20200818141330.png)"
   ]
  },
  {
   "cell_type": "markdown",
   "metadata": {},
   "source": [
    "而最后一个时间步的 output，实际上就是最后一个时间步的 hidden_state"
   ]
  },
  {
   "cell_type": "code",
   "execution_count": 5,
   "metadata": {
    "ExecuteTime": {
     "end_time": "2020-08-18T05:06:49.371021Z",
     "start_time": "2020-08-18T05:06:49.349955Z"
    }
   },
   "outputs": [
    {
     "name": "stdout",
     "output_type": "stream",
     "text": [
      "tf.Tensor(\n",
      "[[-0.9258157  -0.50056565  0.4142676   0.89130914 -0.76337886]\n",
      " [ 0.32924217  0.92086834 -0.86574733 -0.80070317  0.98537374]], shape=(2, 5), dtype=float32)\n",
      "tf.Tensor(\n",
      "[[-0.9258157  -0.50056565  0.4142676   0.89130914 -0.76337886]\n",
      " [ 0.32924217  0.92086834 -0.86574733 -0.80070317  0.98537374]], shape=(2, 5), dtype=float32)\n",
      "tf.Tensor(\n",
      "[[ True  True  True  True  True]\n",
      " [ True  True  True  True  True]], shape=(2, 5), dtype=bool)\n"
     ]
    }
   ],
   "source": [
    "import tensorflow as tf\n",
    "\n",
    "batch_size = 2\n",
    "seq_len = 20\n",
    "feature_size = 10\n",
    "x = tf.random.normal(shape=(batch_size, seq_len, feature_size))\n",
    "rnn = tf.keras.layers.SimpleRNN(5, return_state=True)\n",
    "output, hidden_state = rnn(x)\n",
    "print(output)\n",
    "print(hidden_state)\n",
    "print(output==hidden_state) # hidden_state 是 output"
   ]
  },
  {
   "cell_type": "markdown",
   "metadata": {},
   "source": [
    "## return_sequences"
   ]
  },
  {
   "cell_type": "markdown",
   "metadata": {},
   "source": [
    "默认只会输出最后一个时间步的结果。而使用 return_sequences=True，可以输出所有时间步的结果。这在多个 RNN 沿深度方向叠加时会用到。"
   ]
  },
  {
   "cell_type": "markdown",
   "metadata": {},
   "source": [
    "![](https://gitee.com/EdwardElric_1683260718/picture_bed/raw/master/img/20200818130909.png)"
   ]
  },
  {
   "cell_type": "code",
   "execution_count": null,
   "metadata": {
    "ExecuteTime": {
     "end_time": "2020-08-18T04:59:54.927767Z",
     "start_time": "2020-08-18T04:59:54.891Z"
    }
   },
   "outputs": [],
   "source": [
    "import tensorflow as tf\n",
    "\n",
    "batch_size = 2\n",
    "seq_len = 20\n",
    "feature_size = 10\n",
    "x = tf.random.normal(shape=(batch_size, seq_len, feature_size))\n",
    "rnn = tf.keras.layers.SimpleRNN(5, return_sequence=True)\n",
    "output = rnn(x)\n",
    "print(output.shape)"
   ]
  },
  {
   "cell_type": "markdown",
   "metadata": {},
   "source": [
    "## return_state + return_sequences"
   ]
  },
  {
   "cell_type": "markdown",
   "metadata": {
    "ExecuteTime": {
     "end_time": "2020-08-18T05:14:06.606238Z",
     "start_time": "2020-08-18T05:14:06.477693Z"
    }
   },
   "source": [
    "![](https://gitee.com/EdwardElric_1683260718/picture_bed/raw/master/img/20200818131403.png)"
   ]
  },
  {
   "cell_type": "code",
   "execution_count": 7,
   "metadata": {
    "ExecuteTime": {
     "end_time": "2020-08-18T05:14:31.289390Z",
     "start_time": "2020-08-18T05:14:31.266934Z"
    }
   },
   "outputs": [
    {
     "name": "stdout",
     "output_type": "stream",
     "text": [
      "(2, 20, 5)\n",
      "(2, 5)\n",
      "tf.Tensor(\n",
      "[[ True  True  True  True  True]\n",
      " [ True  True  True  True  True]], shape=(2, 5), dtype=bool)\n"
     ]
    }
   ],
   "source": [
    "import tensorflow as tf\n",
    "\n",
    "batch_size = 2\n",
    "seq_len = 20\n",
    "feature_size = 10\n",
    "x = tf.random.normal(shape=(batch_size, seq_len, feature_size))\n",
    "rnn = tf.keras.layers.SimpleRNN(5, return_state=True, return_sequences=True)\n",
    "output, hidden_state = rnn(x)\n",
    "print(output.shape)\n",
    "print(hidden_state.shape)  # return_sequences 不会影响到 hidden_state\n",
    "print(output[:, -1, :] == hidden_state) # hidden_state 取出每个batch的output的最后一个时间步"
   ]
  },
  {
   "cell_type": "markdown",
   "metadata": {},
   "source": [
    "# References\n",
    "\n",
    "[tf.keras.layers.SimpleRNN  |  TensorFlow Core v2.2.0](https://www.tensorflow.org/api_docs/python/tf/keras/layers/SimpleRNN)"
   ]
  }
 ],
 "metadata": {
  "hide_input": false,
  "kernelspec": {
   "display_name": "Python 3.6.10 64-bit ('tensorflow2': conda)",
   "language": "python",
   "name": "python361064bittensorflow2conda916f6dc8789a43e39b82205c8a731f83"
  },
  "language_info": {
   "codemirror_mode": {
    "name": "ipython",
    "version": 3
   },
   "file_extension": ".py",
   "mimetype": "text/x-python",
   "name": "python",
   "nbconvert_exporter": "python",
   "pygments_lexer": "ipython3",
   "version": "3.6.10"
  },
  "toc": {
   "base_numbering": 1,
   "nav_menu": {},
   "number_sections": true,
   "sideBar": true,
   "skip_h1_title": false,
   "title_cell": "Table of Contents",
   "title_sidebar": "Contents",
   "toc_cell": false,
   "toc_position": {},
   "toc_section_display": true,
   "toc_window_display": false
  },
  "varInspector": {
   "cols": {
    "lenName": 16,
    "lenType": 16,
    "lenVar": 40
   },
   "kernels_config": {
    "python": {
     "delete_cmd_postfix": "",
     "delete_cmd_prefix": "del ",
     "library": "var_list.py",
     "varRefreshCmd": "print(var_dic_list())"
    },
    "r": {
     "delete_cmd_postfix": ") ",
     "delete_cmd_prefix": "rm(",
     "library": "var_list.r",
     "varRefreshCmd": "cat(var_dic_list()) "
    }
   },
   "types_to_exclude": [
    "module",
    "function",
    "builtin_function_or_method",
    "instance",
    "_Feature"
   ],
   "window_display": false
  }
 },
 "nbformat": 4,
 "nbformat_minor": 4
}
