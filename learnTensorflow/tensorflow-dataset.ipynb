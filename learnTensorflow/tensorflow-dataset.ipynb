{
 "cells": [
  {
   "cell_type": "markdown",
   "metadata": {},
   "source": [
    "[toc]\n",
    "\n",
    "# Tensorflow Dataset"
   ]
  },
  {
   "cell_type": "markdown",
   "metadata": {},
   "source": [
    "## from_generator\n",
    "\n",
    "下面的代码展示如何使用 `from_generator` 来生成成对数据集。对于只有 X 而没有 y 的数据集，只需要进行小修改即可。"
   ]
  },
  {
   "cell_type": "code",
   "execution_count": 1,
   "metadata": {
    "ExecuteTime": {
     "end_time": "2020-07-25T04:25:47.583265Z",
     "start_time": "2020-07-25T04:25:45.113442Z"
    },
    "tags": []
   },
   "outputs": [
    {
     "name": "stdout",
     "output_type": "stream",
     "text": [
      "2.2.0\n",
      "tf.Tensor(\n",
      "[[0.6225026  0.8020698  0.4233614 ]\n",
      " [0.86357313 0.59371454 0.76686317]\n",
      " [0.7464426  0.0382013  0.04187892]\n",
      " [0.55191517 0.9051724  0.28034532]\n",
      " [0.5614452  0.98364174 0.0055071 ]], shape=(5, 3), dtype=float32) tf.Tensor([1 0 7 7 5], shape=(5,), dtype=int32)\n",
      "tf.Tensor(\n",
      "[[0.2673028  0.8901904  0.7326463 ]\n",
      " [0.36719134 0.18181625 0.27157873]\n",
      " [0.50542533 0.06477964 0.30237773]\n",
      " [0.34118208 0.40437222 0.49460435]\n",
      " [0.12974119 0.5544604  0.75073004]], shape=(5, 3), dtype=float32) tf.Tensor([4 9 0 4 4], shape=(5,), dtype=int32)\n",
      "tf.Tensor(\n",
      "[[0.6225026  0.8020698  0.4233614 ]\n",
      " [0.86357313 0.59371454 0.76686317]\n",
      " [0.7464426  0.0382013  0.04187892]\n",
      " [0.55191517 0.9051724  0.28034532]\n",
      " [0.5614452  0.98364174 0.0055071 ]], shape=(5, 3), dtype=float32) tf.Tensor([1 0 7 7 5], shape=(5,), dtype=int32)\n",
      "tf.Tensor(\n",
      "[[0.2673028  0.8901904  0.7326463 ]\n",
      " [0.36719134 0.18181625 0.27157873]\n",
      " [0.50542533 0.06477964 0.30237773]\n",
      " [0.34118208 0.40437222 0.49460435]\n",
      " [0.12974119 0.5544604  0.75073004]], shape=(5, 3), dtype=float32) tf.Tensor([4 9 0 4 4], shape=(5,), dtype=int32)\n"
     ]
    }
   ],
   "source": [
    "import tensorflow as tf\n",
    "import numpy as np\n",
    "\n",
    "print(tf.__version__) # 2.2.0\n",
    "\n",
    "# 生成数据集\n",
    "x_train = np.random.uniform(0, 1, [10, 3])\n",
    "y_train = np.random.randint(0, 10, [10, ])\n",
    "\n",
    "# 定义生成器\n",
    "def batch_generator():\n",
    "    n_samples = x_train.shape[0]\n",
    "    for i in range(n_samples):\n",
    "        yield x_train[i], y_train[i]\n",
    "\n",
    "# 使用 生成器\n",
    "train_dataset = tf.data.Dataset.from_generator(batch_generator, (tf.float32, tf.int32))\n",
    "\n",
    "# 设置epoch为2\n",
    "train_dataset = train_dataset.repeat(2)\n",
    "# 这里生成的 dataset 还没有分 batch，使用 .batch() 设置batch_size为 5\n",
    "train_dataset = train_dataset.batch(5)\n",
    "for x, y in train_dataset:\n",
    "    print(x, y)"
   ]
  },
  {
   "cell_type": "markdown",
   "metadata": {},
   "source": [
    "**其中有一个坑。 generator 函数返回的应该是一个 tuple 对象，而不是一个 list 对象。**\n",
    "\n",
    "如果将上面的 `batch_generator` 修改成下面的样子，则会报错 `TypeError: `generator` yielded an element that did not match the expected structure. The expected structure was (tf.float32, tf.int32), but the yielded element was [array([0.71891118, 0.55713524, 0.83305131]), 2].`"
   ]
  },
  {
   "cell_type": "code",
   "execution_count": null,
   "metadata": {},
   "outputs": [],
   "source": [
    "# 定义生成器\n",
    "def batch_generator():\n",
    "    n_samples = x_train.shape[0]\n",
    "    for i in range(n_samples):\n",
    "        yield [x_train[i], y_train[i]]"
   ]
  },
  {
   "cell_type": "markdown",
   "metadata": {},
   "source": [
    "## from_tensor_slices"
   ]
  },
  {
   "cell_type": "code",
   "execution_count": 17,
   "metadata": {
    "tags": []
   },
   "outputs": [
    {
     "name": "stdout",
     "output_type": "stream",
     "text": [
      "2.2.0\n",
      "tf.Tensor(\n",
      "[[0.63026611 0.84018849 0.96822053]\n",
      " [0.00950266 0.82345767 0.14237034]\n",
      " [0.3628959  0.36985282 0.76039462]\n",
      " [0.60812065 0.30927249 0.17130571]\n",
      " [0.27561707 0.12677321 0.7169283 ]], shape=(5, 3), dtype=float64) tf.Tensor([6 7 0 5 8], shape=(5,), dtype=int64)\n",
      "tf.Tensor(\n",
      "[[0.32115764 0.44327448 0.6138822 ]\n",
      " [0.71774647 0.05496469 0.48456999]\n",
      " [0.00653992 0.61188734 0.01731185]\n",
      " [0.9451552  0.08030777 0.47051986]\n",
      " [0.06737426 0.55813358 0.97273234]], shape=(5, 3), dtype=float64) tf.Tensor([7 3 7 1 5], shape=(5,), dtype=int64)\n",
      "tf.Tensor(\n",
      "[[0.63026611 0.84018849 0.96822053]\n",
      " [0.00950266 0.82345767 0.14237034]\n",
      " [0.3628959  0.36985282 0.76039462]\n",
      " [0.60812065 0.30927249 0.17130571]\n",
      " [0.27561707 0.12677321 0.7169283 ]], shape=(5, 3), dtype=float64) tf.Tensor([6 7 0 5 8], shape=(5,), dtype=int64)\n",
      "tf.Tensor(\n",
      "[[0.32115764 0.44327448 0.6138822 ]\n",
      " [0.71774647 0.05496469 0.48456999]\n",
      " [0.00653992 0.61188734 0.01731185]\n",
      " [0.9451552  0.08030777 0.47051986]\n",
      " [0.06737426 0.55813358 0.97273234]], shape=(5, 3), dtype=float64) tf.Tensor([7 3 7 1 5], shape=(5,), dtype=int64)\n"
     ]
    }
   ],
   "source": [
    "\n",
    "import tensorflow as tf\n",
    "import numpy as np\n",
    "\n",
    "print(tf.__version__) # 2.2.0\n",
    "\n",
    "# 生成数据集\n",
    "x_train = np.random.uniform(0, 1, [10, 3])\n",
    "y_train = np.random.randint(0, 10, [10, ])\n",
    "\n",
    "\n",
    "# 使用 生成器\n",
    "train_dataset = tf.data.Dataset.from_tensor_slices((x_train, y_train))\n",
    "\n",
    "# 设置epoch为2，设置batch_size为 5\n",
    "train_dataset = train_dataset.repeat(2).batch(5)\n",
    "for x, y in train_dataset:\n",
    "    print(x, y)"
   ]
  },
  {
   "cell_type": "markdown",
   "metadata": {},
   "source": [
    "# References\n",
    "1. [(1条消息)tf.dataset 使用 python generator 加载和预处理数据，dataset.map 对数据进行额外加工_ONE_SIX_MIX的专栏-CSDN博客_dataset.map](https://blog.csdn.net/ONE_SIX_MIX/article/details/80633187)"
   ]
  }
 ],
 "metadata": {
  "hide_input": false,
  "kernelspec": {
   "display_name": "Python 3.7.6 64-bit ('srgan': conda)",
   "language": "python",
   "name": "python37664bitsrgancondad40efa82395a4251b23b581f920438c6"
  },
  "language_info": {
   "codemirror_mode": {
    "name": "ipython",
    "version": 3
   },
   "file_extension": ".py",
   "mimetype": "text/x-python",
   "name": "python",
   "nbconvert_exporter": "python",
   "pygments_lexer": "ipython3",
   "version": "3.7.6"
  },
  "toc": {
   "base_numbering": 1,
   "nav_menu": {},
   "number_sections": true,
   "sideBar": true,
   "skip_h1_title": false,
   "title_cell": "Table of Contents",
   "title_sidebar": "Contents",
   "toc_cell": false,
   "toc_position": {},
   "toc_section_display": true,
   "toc_window_display": false
  },
  "varInspector": {
   "cols": {
    "lenName": 16,
    "lenType": 16,
    "lenVar": 40
   },
   "kernels_config": {
    "python": {
     "delete_cmd_postfix": "",
     "delete_cmd_prefix": "del ",
     "library": "var_list.py",
     "varRefreshCmd": "print(var_dic_list())"
    },
    "r": {
     "delete_cmd_postfix": ") ",
     "delete_cmd_prefix": "rm(",
     "library": "var_list.r",
     "varRefreshCmd": "cat(var_dic_list()) "
    }
   },
   "types_to_exclude": [
    "module",
    "function",
    "builtin_function_or_method",
    "instance",
    "_Feature"
   ],
   "window_display": false
  }
 },
 "nbformat": 4,
 "nbformat_minor": 2
}
