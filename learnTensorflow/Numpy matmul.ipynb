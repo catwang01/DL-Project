{
 "cells": [
  {
   "cell_type": "markdown",
   "metadata": {},
   "source": [
    "[toc]\n",
    "\n",
    "# Numpy matmul"
   ]
  },
  {
   "cell_type": "code",
   "execution_count": 1,
   "metadata": {},
   "outputs": [
    {
     "name": "stdout",
     "output_type": "stream",
     "text": [
      "[[14  9]\n",
      " [30 17]]\n"
     ]
    }
   ],
   "source": [
    "import tensorflow as tf\n",
    "x = tf.constant([[1,2,3],[3,4,5]]) # 2 x 3\n",
    "y = tf.constant([[3,1],[4,1],[1,2]]) # 3 x 2\n",
    "mul = tf.matmul(x, y)\n",
    "with tf.Session() as sess:\n",
    "    ret = sess.run(mul)\n",
    "    print(ret)"
   ]
  },
  {
   "cell_type": "markdown",
   "metadata": {},
   "source": [
    "## 多维矩阵乘法"
   ]
  },
  {
   "cell_type": "markdown",
   "metadata": {},
   "source": [
    "### 3维 x 2维"
   ]
  },
  {
   "cell_type": "markdown",
   "metadata": {},
   "source": [
    "2维乘以2维的矩阵乘法是最常用的，但是 numpy 中很多时候也会使用到3维乘以2维的矩阵乘法，这个时候的矩阵乘法要如何操作呢？"
   ]
  },
  {
   "cell_type": "code",
   "execution_count": 2,
   "metadata": {},
   "outputs": [
    {
     "name": "stdout",
     "output_type": "stream",
     "text": [
      "(4, 3, 5)\n"
     ]
    }
   ],
   "source": [
    "import numpy as np\n",
    "\n",
    "seed = 123\n",
    "np.random.seed(seed)\n",
    "\n",
    "x = np.random.randint(4, size=[4, 3, 2])\n",
    "y = np.random.randint(4, size=[2, 5])\n",
    "\n",
    "ret = np.matmul(x, y)\n",
    "print(ret.shape)"
   ]
  },
  {
   "cell_type": "markdown",
   "metadata": {},
   "source": [
    "#### 理解1 按照第一个纬度切片后相乘"
   ]
  },
  {
   "cell_type": "code",
   "execution_count": 3,
   "metadata": {},
   "outputs": [
    {
     "data": {
      "text/plain": [
       "True"
      ]
     },
     "execution_count": 3,
     "metadata": {},
     "output_type": "execute_result"
    }
   ],
   "source": [
    "import numpy as np\n",
    "\n",
    "seed = 123\n",
    "np.random.seed(seed)\n",
    "\n",
    "x = np.random.randint(4, size=[4, 3, 2])\n",
    "y = np.random.randint(4, size=[2, 5])\n",
    "ret2 = []\n",
    "for i in range(x.shape[0]):\n",
    "    subret = np.matmul(x[i, :, :], y)\n",
    "    ret2.append(subret)\n",
    "ret2 = np.array(ret2)\n",
    "np.all(ret==ret2) # 和 ret 完全相同"
   ]
  },
  {
   "cell_type": "markdown",
   "metadata": {},
   "source": [
    "#### 理解2 reshape 后相乘，之后再 reshape 回需要对形状"
   ]
  },
  {
   "cell_type": "code",
   "execution_count": 4,
   "metadata": {},
   "outputs": [
    {
     "data": {
      "text/plain": [
       "True"
      ]
     },
     "execution_count": 4,
     "metadata": {},
     "output_type": "execute_result"
    }
   ],
   "source": [
    "import numpy as np\n",
    "\n",
    "seed = 123\n",
    "np.random.seed(seed)\n",
    "\n",
    "x = np.random.randint(4, size=[4, 3, 2])\n",
    "y = np.random.randint(4, size=[2, 5])\n",
    "ret3 = np.matmul(x.reshape(-1, 2), y)\n",
    "ret3 = ret3.reshape(-1, 3, 5)\n",
    "np.all(ret==ret3) # 和 ret 完全相同\n",
    "# print(ret3)"
   ]
  },
  {
   "cell_type": "markdown",
   "metadata": {},
   "source": [
    "### 2维 x 3维"
   ]
  },
  {
   "cell_type": "code",
   "execution_count": 5,
   "metadata": {},
   "outputs": [
    {
     "name": "stdout",
     "output_type": "stream",
     "text": [
      "(4, 5, 2)\n"
     ]
    }
   ],
   "source": [
    "import numpy as np\n",
    "\n",
    "seed = 123\n",
    "np.random.seed(seed)\n",
    "\n",
    "x = np.random.randint(4, size=[5, 3])\n",
    "y = np.random.randint(4, size=[4, 3, 2])\n",
    "\n",
    "ret = np.matmul(x, y)\n",
    "print(ret.shape)"
   ]
  },
  {
   "cell_type": "markdown",
   "metadata": {},
   "source": [
    "#### 理解1 按照第一个纬度切片后相乘"
   ]
  },
  {
   "cell_type": "code",
   "execution_count": 6,
   "metadata": {},
   "outputs": [
    {
     "data": {
      "text/plain": [
       "True"
      ]
     },
     "execution_count": 6,
     "metadata": {},
     "output_type": "execute_result"
    }
   ],
   "source": [
    "import numpy as np\n",
    "\n",
    "seed = 123\n",
    "np.random.seed(seed)\n",
    "\n",
    "x = np.random.randint(4, size=[5, 3])\n",
    "y = np.random.randint(4, size=[4, 3, 2])\n",
    "\n",
    "ret2 = []\n",
    "for i in range(y.shape[0]):\n",
    "    subret = np.matmul(x, y[i, :, :])\n",
    "    ret2.append(subret)\n",
    "ret2 = np.array(ret2)\n",
    "np.all(ret==ret2) # 和 ret 完全相同"
   ]
  },
  {
   "cell_type": "markdown",
   "metadata": {},
   "source": [
    "#### 理解2 x 广播之后相乘"
   ]
  },
  {
   "cell_type": "code",
   "execution_count": 7,
   "metadata": {},
   "outputs": [
    {
     "data": {
      "text/plain": [
       "True"
      ]
     },
     "execution_count": 7,
     "metadata": {},
     "output_type": "execute_result"
    }
   ],
   "source": [
    "import numpy as np\n",
    "\n",
    "seed = 123\n",
    "np.random.seed(seed)\n",
    "\n",
    "x = np.random.randint(4, size=[5, 3])\n",
    "y = np.random.randint(4, size=[4, 3, 2])\n",
    "tiled_x = np.tile(x, [4, 1, 1])\n",
    "ret3 = np.matmul(tiled_x, y)\n",
    "ret3 = ret3.reshape(-1, 5, 2)\n",
    "np.all(ret==ret3) # 和 ret 完全相同\n",
    "# print(ret3)"
   ]
  },
  {
   "cell_type": "markdown",
   "metadata": {},
   "source": [
    "# References"
   ]
  }
 ],
 "metadata": {
  "kernelspec": {
   "display_name": "Python [conda env:tars]",
   "language": "python",
   "name": "conda-env-tars-py"
  },
  "language_info": {
   "codemirror_mode": {
    "name": "ipython",
    "version": 3
   },
   "file_extension": ".py",
   "mimetype": "text/x-python",
   "name": "python",
   "nbconvert_exporter": "python",
   "pygments_lexer": "ipython3",
   "version": "3.7.9"
  },
  "toc": {
   "base_numbering": 1,
   "nav_menu": {},
   "number_sections": true,
   "sideBar": true,
   "skip_h1_title": false,
   "title_cell": "Table of Contents",
   "title_sidebar": "Contents",
   "toc_cell": false,
   "toc_position": {},
   "toc_section_display": true,
   "toc_window_display": true
  }
 },
 "nbformat": 4,
 "nbformat_minor": 4
}
