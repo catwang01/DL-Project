{
 "cells": [
  {
   "cell_type": "markdown",
   "metadata": {},
   "source": [
    "[toc]\n",
    "\n",
    "# Tensorflow tf.Variable 和 tf.get_variable"
   ]
  },
  {
   "cell_type": "markdown",
   "metadata": {},
   "source": [
    "Tensorflow 创建变量主要与三个函数 `tf.Variable`，`tf.get_variable`，`tf.variable_scope`有关\n",
    "\n",
    "## tf.variable_scope\n",
    "\n",
    "`tf.variable_scope(name, reuse)` \n",
    "\n",
    "目的是创建一个变量空间，可以将之视为一个文件夹，里面储存相应在这个空间中创建的变量。"
   ]
  },
  {
   "cell_type": "markdown",
   "metadata": {},
   "source": [
    "## tf.Variable\n",
    "\n",
    "`tf.Variable(name, shape)` 创建一个新的变量，需要赋予初始值，可以不给名字，**如果当前命名空间中存在相同变量，会添加后缀 `_1`,`_2` 等来区分并再创建一个**。"
   ]
  },
  {
   "cell_type": "code",
   "execution_count": 28,
   "metadata": {},
   "outputs": [
    {
     "name": "stdout",
     "output_type": "stream",
     "text": [
      "<tf.Variable 'c:0' shape=(2, 2) dtype=float32_ref>\n",
      "<tf.Variable 'c_1:0' shape=(2, 2) dtype=float32_ref>\n",
      "<tf.Variable 'foo/c:0' shape=(2, 2) dtype=float32_ref>\n",
      "<tf.Variable 'foo/c_1:0' shape=(2, 2) dtype=float32_ref>\n",
      "<tf.Variable 'foo_1/c:0' shape=(2, 2) dtype=float32_ref>\n"
     ]
    }
   ],
   "source": [
    "import tensorflow as tf\n",
    "tf.reset_default_graph()\n",
    "\n",
    "a = tf.Variable(tf.ones([2,2]),name='c') # c:0\n",
    "b = tf.Variable(tf.ones([2,2]),name='c') # c_1:0\n",
    "    \n",
    "with tf.variable_scope(\"foo\"):\n",
    "    a = tf.Variable(tf.ones([2,2]), name='c') # foo/c:0\n",
    "    b = tf.Variable(tf.ones([2,2]), name='c') # foo/c_1:0\n",
    "    \n",
    "with tf.variable_scope(\"foo\"):\n",
    "    a = tf.Variable(tf.ones([2,2]),name='c') # foo_1/c:0\n",
    "\n",
    "for var in tf.trainable_variables():\n",
    "    print(var)"
   ]
  },
  {
   "cell_type": "markdown",
   "metadata": {},
   "source": [
    "## tf.get_variable\n",
    "    \n",
    "`tf.get_variable(name, shape)` 必须要给一个名字，通常和 `tf.variable_scope` 一起使用。\n",
    "\n",
    "1. 当 tf.variable_scope 的 reuse=False 时\n",
    "    1. 如果 name 不存在于当前命名空间，tf.get_variable 会创建变量\n",
    "    2. 如果 name 存在于当前命名空间，tf.get_variable 会报错 \n",
    "    \n",
    "    ```\n",
    "    Variable xxx already exists, disallowed. Did you mean to set reuse=True or reuse=tf.AUTO_REUSE in VarScope?\n",
    "    ```\n",
    "2. 当 tf.variable_scope 的 reuse=True 时\n",
    "    1. 如果 name 不存在于当前命名空间，tf.get_variable 会报错\n",
    "    ```\n",
    "    Variable xxx does not exist, or was not created with tf.get_variable(). Did you mean to set reuse=tf.AUTO_REUSE in VarScope?\n",
    "    ```\n",
    "    2.  如果 name 存在于当前命名空间，tf.get_variable 会获取这个变量的值\n",
    "    \n",
    "注意：这里同名的变量要求是之前用 `get_variable` 创建的，即无法获取用 `tf.Variable` 创建的同名向量。"
   ]
  },
  {
   "cell_type": "code",
   "execution_count": 29,
   "metadata": {},
   "outputs": [
    {
     "name": "stdout",
     "output_type": "stream",
     "text": [
      "<tf.Variable 'c:0' shape=(2, 2) dtype=float32_ref>\n",
      "<tf.Variable 'foo/c:0' shape=(2, 2) dtype=float32_ref>\n"
     ]
    }
   ],
   "source": [
    "import tensorflow as tf\n",
    "tf.reset_default_graph()\n",
    "\n",
    "a = tf.get_variable('c', [2,2]) # 'c:0'\n",
    "\n",
    "with tf.variable_scope(\"foo\"):\n",
    "    b = tf.get_variable('c',[2,2]) # foo/c:0\n",
    "    \n",
    "with tf.variable_scope(\"foo\", reuse=True):\n",
    "    b = tf.get_variable('c',[2,2]) # 这里重用了 `foo/c:0`\n",
    "\n",
    "for var in tf.trainable_variables():\n",
    "    print(var)"
   ]
  },
  {
   "cell_type": "markdown",
   "metadata": {},
   "source": [
    "如果将上面的 `reuse=True` 删除，会报错：\n",
    "\n",
    "```\n",
    "Variable foo/c already exists, disallowed. Did you mean to set reuse=True or reuse=tf.AUTO_REUSE in VarScope?\n",
    "```"
   ]
  },
  {
   "cell_type": "markdown",
   "metadata": {},
   "source": [
    "# References\n",
    "1. [tensorflow笔记 变量_thormas1996的博客-CSDN博客](https://blog.csdn.net/thormas1996/article/details/81129379)"
   ]
  }
 ],
 "metadata": {
  "kernelspec": {
   "display_name": "Python [conda env:tars]",
   "language": "python",
   "name": "conda-env-tars-py"
  },
  "language_info": {
   "codemirror_mode": {
    "name": "ipython",
    "version": 3
   },
   "file_extension": ".py",
   "mimetype": "text/x-python",
   "name": "python",
   "nbconvert_exporter": "python",
   "pygments_lexer": "ipython3",
   "version": "3.7.9"
  },
  "toc": {
   "base_numbering": 1,
   "nav_menu": {},
   "number_sections": true,
   "sideBar": true,
   "skip_h1_title": false,
   "title_cell": "Table of Contents",
   "title_sidebar": "Contents",
   "toc_cell": false,
   "toc_position": {},
   "toc_section_display": true,
   "toc_window_display": true
  }
 },
 "nbformat": 4,
 "nbformat_minor": 4
}
