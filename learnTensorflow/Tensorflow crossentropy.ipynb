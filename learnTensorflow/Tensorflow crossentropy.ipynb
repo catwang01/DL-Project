{
 "cells": [
  {
   "cell_type": "markdown",
   "metadata": {},
   "source": [
    "[toc]\n",
    "\n",
    "# Tensorflow crossentropy "
   ]
  },
  {
   "cell_type": "code",
   "execution_count": 14,
   "metadata": {},
   "outputs": [
    {
     "name": "stdout",
     "output_type": "stream",
     "text": [
      "[-0.5096881  7.2809286  4.830508 ]\n"
     ]
    }
   ],
   "source": [
    "import tensorflow as tf\n",
    "\n",
    "batch_size, nclass = 3, 4\n",
    "logits = tf.random.truncated_normal([batch_size, nclass])\n",
    "labels = tf.random.truncated_normal([batch_size, nclass])\n",
    "\n",
    "# [batch_size]\n",
    "softmax_ret = tf.nn.softmax_cross_entropy_with_logits(labels=labels, logits=logits)\n",
    "\n",
    "with tf.Session() as sess:\n",
    "    ret = sess.run(softmax_ret)\n",
    "    print(ret) "
   ]
  },
  {
   "cell_type": "code",
   "execution_count": 17,
   "metadata": {},
   "outputs": [
    {
     "name": "stdout",
     "output_type": "stream",
     "text": [
      "[[ 0.49649793  0.33734643 -0.36940873  0.24192703]\n",
      " [-0.98695374 -0.0262391   0.3136371  -1.5682083 ]\n",
      " [-0.3025692  -0.6598132  -1.4551672  -1.2052009 ]]\n"
     ]
    }
   ],
   "source": [
    "import tensorflow as tf\n",
    "import numpy as np\n",
    "\n",
    "batch_size, seq_len, nclass = 3, 4, 2\n",
    "logits = tf.random.truncated_normal([batch_size, seq_len, nclass])\n",
    "labels = tf.random.truncated_normal([batch_size, seq_len, nclass])\n",
    "\n",
    "\n",
    "\n",
    "# [batch_size, seq_len]\n",
    "softmax_ret = tf.nn.softmax_cross_entropy_with_logits(labels=labels, logits=logits)\n",
    "\n",
    "with tf.Session() as sess:\n",
    "    ret = sess.run(softmax_ret)\n",
    "    print(ret) "
   ]
  },
  {
   "cell_type": "markdown",
   "metadata": {},
   "source": [
    "## sparse_softmax_cross_entropy_with_logits"
   ]
  },
  {
   "cell_type": "markdown",
   "metadata": {},
   "source": [
    "### 三维"
   ]
  },
  {
   "cell_type": "markdown",
   "metadata": {},
   "source": [
    "常常是序列标注任务。一个句子有多个单词，每个单词都有一个 label"
   ]
  },
  {
   "cell_type": "code",
   "execution_count": 22,
   "metadata": {},
   "outputs": [
    {
     "name": "stdout",
     "output_type": "stream",
     "text": [
      "[[3.3915517 3.1047626 3.2631962 1.1493012 3.0194685]\n",
      " [1.896068  2.0224884 2.1923144 2.168262  2.1832938]]\n"
     ]
    }
   ],
   "source": [
    "import tensorflow as tf\n",
    "import numpy as np\n",
    "\n",
    "batch_size, seq_len, nclass = 2, 5, 4\n",
    "logits = tf.random.truncated_normal([batch_size, seq_len, nclass])\n",
    "labels = tf.constant(np.random.randint(0, nclass-1, [batch_size, seq_len]), tf.int64)\n",
    "\n",
    "# [batch_size, seq_len]\n",
    "softmax_op = tf.nn.sparse_softmax_cross_entropy_with_logits(labels=labels, logits=logits)\n",
    "with tf.Session() as sess:\n",
    "    ret = sess.run(softmax_op)\n",
    "    print(ret)"
   ]
  }
 ],
 "metadata": {
  "kernelspec": {
   "display_name": "Python [conda env:tars]",
   "language": "python",
   "name": "conda-env-tars-py"
  },
  "language_info": {
   "codemirror_mode": {
    "name": "ipython",
    "version": 3
   },
   "file_extension": ".py",
   "mimetype": "text/x-python",
   "name": "python",
   "nbconvert_exporter": "python",
   "pygments_lexer": "ipython3",
   "version": "3.7.9"
  }
 },
 "nbformat": 4,
 "nbformat_minor": 4
}
