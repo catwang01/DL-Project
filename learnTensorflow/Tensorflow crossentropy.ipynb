{
 "cells": [
  {
   "cell_type": "markdown",
   "metadata": {},
   "source": [
    "[toc]\n",
    "\n",
    "# Tensorflow crossentropy "
   ]
  },
  {
   "cell_type": "markdown",
   "metadata": {},
   "source": [
    "## tf.nn.softmax_cross_entropy_with_logits"
   ]
  },
  {
   "cell_type": "code",
   "execution_count": 14,
   "metadata": {},
   "outputs": [
    {
     "name": "stdout",
     "output_type": "stream",
     "text": [
      "[-0.5096881  7.2809286  4.830508 ]\n"
     ]
    }
   ],
   "source": [
    "import tensorflow as tf\n",
    "\n",
    "batch_size, nclass = 3, 4\n",
    "logits = tf.random.truncated_normal([batch_size, nclass])\n",
    "labels = tf.random.truncated_normal([batch_size, nclass])\n",
    "\n",
    "# [batch_size]\n",
    "softmax_ret = tf.nn.softmax_cross_entropy_with_logits(labels=labels, logits=logits)\n",
    "\n",
    "with tf.Session() as sess:\n",
    "    ret = sess.run(softmax_ret)\n",
    "    print(ret) "
   ]
  },
  {
   "cell_type": "code",
   "execution_count": 17,
   "metadata": {},
   "outputs": [
    {
     "name": "stdout",
     "output_type": "stream",
     "text": [
      "[[ 0.49649793  0.33734643 -0.36940873  0.24192703]\n",
      " [-0.98695374 -0.0262391   0.3136371  -1.5682083 ]\n",
      " [-0.3025692  -0.6598132  -1.4551672  -1.2052009 ]]\n"
     ]
    }
   ],
   "source": [
    "import tensorflow as tf\n",
    "import numpy as np\n",
    "\n",
    "batch_size, seq_len, nclass = 3, 4, 2\n",
    "logits = tf.random.truncated_normal([batch_size, seq_len, nclass])\n",
    "labels = tf.random.truncated_normal([batch_size, seq_len, nclass])\n",
    "\n",
    "\n",
    "# [batch_size, seq_len]\n",
    "softmax_ret = tf.nn.softmax_cross_entropy_with_logits(labels=labels, logits=logits)\n",
    "\n",
    "with tf.Session() as sess:\n",
    "    ret = sess.run(softmax_ret)\n",
    "    print(ret) "
   ]
  },
  {
   "cell_type": "markdown",
   "metadata": {},
   "source": [
    "### mask"
   ]
  },
  {
   "cell_type": "code",
   "execution_count": 17,
   "metadata": {},
   "outputs": [
    {
     "name": "stdout",
     "output_type": "stream",
     "text": [
      "0.34863514\n"
     ]
    }
   ],
   "source": [
    "import tensorflow as tf\n",
    "\n",
    "batch_size = 100\n",
    "w0, w1 = 0.25, 0.57\n",
    "\n",
    "# [batch_size, 2]\n",
    "logits = tf.Variable(tf.random_normal(shape=(batch_size, 2), stddev=1.))\n",
    "\n",
    "# [batch_size,]\n",
    "y = tf.random_uniform(shape=(batch_size,), maxval=2, dtype=tf.int32)\n",
    "\n",
    "loss_per_example = tf.nn.sparse_softmax_cross_entropy_with_logits(logits=logits, labels=y)\n",
    "weights = tf.where(tf.cast(y, tf.bool), tf.ones((batch_size,))*w0, tf.ones((batch_size,))*w1)\n",
    "\n",
    "# weighted cost\n",
    "loss = tf.reduce_mean(tf.multiply(loss_per_example, weights))\n",
    "\n",
    "with tf.Session() as sess:\n",
    "    sess.run(tf.global_variables_initializer())\n",
    "    loss_val = sess.run(loss)\n",
    "    print(loss_val)"
   ]
  },
  {
   "cell_type": "markdown",
   "metadata": {},
   "source": [
    "## sparse_softmax_cross_entropy_with_logits"
   ]
  },
  {
   "cell_type": "markdown",
   "metadata": {},
   "source": [
    "### 三维"
   ]
  },
  {
   "cell_type": "markdown",
   "metadata": {},
   "source": [
    "常常是序列标注任务。一个句子有多个单词，每个单词都有一个 label"
   ]
  },
  {
   "cell_type": "code",
   "execution_count": 18,
   "metadata": {},
   "outputs": [
    {
     "name": "stdout",
     "output_type": "stream",
     "text": [
      "[[1 1 1 1 0]\n",
      " [2 0 0 2 2]]\n",
      "[[2.6557298  0.9863844  0.8881042  1.8395048  2.4123902 ]\n",
      " [0.57340413 2.8348143  2.0145783  1.7515566  1.6782222 ]]\n"
     ]
    }
   ],
   "source": [
    "import tensorflow as tf\n",
    "import numpy as np\n",
    "\n",
    "batch_size, seq_len, nclass = 2, 5, 4\n",
    "logits = tf.random.truncated_normal([batch_size, seq_len, nclass])\n",
    "labels = tf.constant(np.random.randint(0, nclass-1, [batch_size, seq_len]), tf.int64)\n",
    "\n",
    "# [batch_size, seq_len]\n",
    "softmax_op = tf.nn.sparse_softmax_cross_entropy_with_logits(labels=labels, logits=logits)\n",
    "with tf.Session() as sess:\n",
    "    ret = sess.run([labels, softmax_op])\n",
    "    print(ret[0])\n",
    "    print(ret[1])"
   ]
  },
  {
   "cell_type": "code",
   "execution_count": null,
   "metadata": {},
   "outputs": [],
   "source": []
  }
 ],
 "metadata": {
  "kernelspec": {
   "display_name": "Python [conda env:tars]",
   "language": "python",
   "name": "conda-env-tars-py"
  },
  "language_info": {
   "codemirror_mode": {
    "name": "ipython",
    "version": 3
   },
   "file_extension": ".py",
   "mimetype": "text/x-python",
   "name": "python",
   "nbconvert_exporter": "python",
   "pygments_lexer": "ipython3",
   "version": "3.7.9"
  },
  "toc": {
   "base_numbering": 1,
   "nav_menu": {},
   "number_sections": true,
   "sideBar": true,
   "skip_h1_title": false,
   "title_cell": "Table of Contents",
   "title_sidebar": "Contents",
   "toc_cell": false,
   "toc_position": {},
   "toc_section_display": true,
   "toc_window_display": true
  }
 },
 "nbformat": 4,
 "nbformat_minor": 4
}
