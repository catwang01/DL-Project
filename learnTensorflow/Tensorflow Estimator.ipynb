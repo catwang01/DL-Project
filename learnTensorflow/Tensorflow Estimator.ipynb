{
 "cells": [
  {
   "cell_type": "markdown",
   "metadata": {},
   "source": [
    "[toc]\n",
    "\n",
    "# Tensorflow Estimator"
   ]
  },
  {
   "cell_type": "code",
   "execution_count": 1,
   "metadata": {
    "ExecuteTime": {
     "end_time": "2021-03-10T13:46:13.323722Z",
     "start_time": "2021-03-10T13:46:11.115398Z"
    }
   },
   "outputs": [
    {
     "name": "stdout",
     "output_type": "stream",
     "text": [
      "train_path: /Users/ed/.keras/datasets/./data\n",
      "test_path: /Users/ed/.keras/datasets/./data\n"
     ]
    }
   ],
   "source": [
    "import warnings\n",
    "warnings.filterwarnings('ignore')\n",
    "import tensorflow as tf\n",
    "\n",
    "TRAIN_URL = \"http://download.tensorflow.org/data/iris_training.csv\"\n",
    "TEST_URL = \"http://download.tensorflow.org/data/iris_test.csv\"\n",
    "\n",
    "def downloadfiles():\n",
    "    train_path = tf.keras.utils.get_file(fname=r'./data', origin=TRAIN_URL)\n",
    "    test_path = tf.keras.utils.get_file(fname=r'./data', origin=TEST_URL)\n",
    "    return train_path, test_path\n",
    "\n",
    "train_path,test_path = downloadfiles()\n",
    "print(\"train_path: {}\\ntest_path: {}\".format(train_path, test_path))"
   ]
  },
  {
   "cell_type": "markdown",
   "metadata": {},
   "source": [
    "## 定义模型层"
   ]
  },
  {
   "cell_type": "markdown",
   "metadata": {},
   "source": [
    "### 定义模型"
   ]
  },
  {
   "cell_type": "markdown",
   "metadata": {},
   "source": [
    "模型的主要部分"
   ]
  },
  {
   "cell_type": "code",
   "execution_count": 2,
   "metadata": {
    "ExecuteTime": {
     "end_time": "2021-03-10T13:46:13.336645Z",
     "start_time": "2021-03-10T13:46:13.326352Z"
    }
   },
   "outputs": [],
   "source": [
    "def create_model(features, feature_columns, hiddens, output_dim):\n",
    "    inputs = tf.feature_column.input_layer(features=features, \n",
    "                                           feature_columns=feature_columns)\n",
    "\n",
    "    for hidden_unit in hiddens:\n",
    "        inputs = tf.layers.dense(inputs=inputs, \n",
    "                                 units=hidden_unit, \n",
    "                                 activation=tf.nn.relu)\n",
    "    logits = tf.layers.dense(inputs=inputs, units=output_dim)\n",
    "    return logits"
   ]
  },
  {
   "cell_type": "markdown",
   "metadata": {},
   "source": [
    "光有模型的主要部分还不够，我们常常希望我们的模型可以在不同情况下输出不同的值。比如\n",
    "\n",
    "- 如果我们在训练阶段，那么我们希望模型输出 loss 和 train_op\n",
    "- 如果我们在测试阶段，那么我们希望模型可以输出一些指标，如 acc、precision、recall\n",
    "- 如果我们在预测阶段，那么我们希望模型可以直接输出预测结果。\n",
    "\n",
    "这就需要我们通过模型层，根据不同的 mode 来改变我们模型的输出。"
   ]
  },
  {
   "cell_type": "markdown",
   "metadata": {},
   "source": [
    "![ee723668dc7b29f293d05ee10e3e3feb.png](evernotecid://17DACF27-DD15-47AE-A79A-0E370E882109/appyinxiangcom/22483756/ENResource/p13198)"
   ]
  },
  {
   "cell_type": "markdown",
   "metadata": {},
   "source": [
    "模型层是一个回调函数，它接受一堆参数，并返回一个 `tf.estimator.EstimatorSpec`\n",
    "\n",
    "我们的模型会根据不同的 mode 来转换不同的输出。这个是通过判断 mode 来返回不同的 `tf.estimator.EstimatorSpec` 来实现的"
   ]
  },
  {
   "cell_type": "markdown",
   "metadata": {},
   "source": [
    "### tf.estimator.EstimatorSpec"
   ]
  },
  {
   "cell_type": "markdown",
   "metadata": {},
   "source": [
    "#### 原型\n",
    "\n",
    "它是一个class(类)，是定义在model\\_fn中的，并且model\\_fn返回的也是它的一个实例，这个实例是用来初始化Estimator类的。其源代码如下:\n",
    "\n",
    "```\n",
    "class EstimatorSpec():\n",
    "  def __new__(cls,\n",
    "              mode,\n",
    "              predictions=None,\n",
    "              loss=None,\n",
    "              train_op=None,\n",
    "              eval_metric_ops=None,\n",
    "              export_outputs=None,\n",
    "              training_chief_hooks=None,\n",
    "              training_hooks=None,\n",
    "              scaffold=None,\n",
    "              evaluation_hooks=None,\n",
    "              prediction_hooks=None):\n",
    "```\n",
    "\n",
    "重要函数参数：\n",
    "\n",
    "*   mode：一个ModeKeys,指定是training(训练)、evaluation(计算)还是prediction(预测).\n",
    "*   predictions：Predictions `Tensor` or dict of `Tensor`.\n",
    "*   loss：Training loss `Tensor`. Must be either scalar, or with shape `[1]`.\n",
    "*   train\\_op：适用于训练的步骤.\n",
    "*   eval\\_metric\\_ops: Dict of metric results keyed by name.\n",
    "    The values of the dict can be one of the following:\n",
    "    *   (1) instance of `Metric` class.\n",
    "    *   (2) Results of calling a metric function, namely a `(metric_tensor, update_op)` tuple. `metric_tensor` should be evaluated without any impact on state (typically is a pure computation results based on variables.). For example, it should not trigger the `update_op` or requires any input fetching.\n",
    "\n",
    "其他参数的作用可参见[源代码](https://github.com/tensorflow/estimator/tree/master/tensorflow_estimator/python/estimator/model_fn.py)说明"
   ]
  },
  {
   "cell_type": "markdown",
   "metadata": {},
   "source": [
    "#### 不同模式需要传入不同参数\n",
    "\n",
    "根据mode的值的不同,需要不同的参数,即：\n",
    "\n",
    "*   对于mode == ModeKeys.TRAIN：必填字段是 loss 和 train_op.\n",
    "*   对于mode == ModeKeys.EVAL：必填字段是 loss.\n",
    "*   对于mode == ModeKeys.PREDICT：必填字段是predictions.\n",
    "\n",
    "上面的参数说明看起来还是一头雾水，下面给出例子帮助理解："
   ]
  },
  {
   "cell_type": "markdown",
   "metadata": {
    "ExecuteTime": {
     "end_time": "2021-03-09T15:01:19.051396Z",
     "start_time": "2021-03-09T15:01:19.016941Z"
    }
   },
   "source": [
    "##### 最简单的情况： predict\n",
    "\n",
    "只需要传入`mode`和`predictions`\n",
    "\n",
    "```\n",
    "elif mode == tf.estimator.ModeKeys.EVAL:\n",
    "    return tf.estimator.EstimatorSpec(mode=mode,\n",
    "                                      loss=loss,\n",
    "                                      eval_metric_ops=get_metric(labels,predict_cls))\n",
    "```\n",
    "\n",
    "##### 评估模式：eval\n",
    "\n",
    "需要传入`mode`,`loss`,`eval_metric_ops`\n",
    "\n",
    "如果调用 Estimator 的 evaluate 方法，则 `model_fn` 会收到 mode = ModeKeys.EVAL。在这种情况下，模型函数必须返回一个包含模型损失和一个或多个指标（可选）的 tf.estimator.EstimatorSpec。\n",
    "\n",
    "\n",
    "返回方式如下：\n",
    "\n",
    "```\n",
    "# Compute loss.\n",
    "loss = tf.losses.sparse_softmax_cross_entropy(labels=labels, logits=logits)\n",
    "metrics = {'accuracy': accuracy}\n",
    "# Compute evaluation metrics.\n",
    "accuracy = tf.metrics.accuracy(labels=labels,\n",
    "                               predictions=predicted_classes,\n",
    "                               name='acc_op')\n",
    "\n",
    "if mode == tf.estimator.ModeKeys.EVAL:\n",
    "    return tf.estimator.EstimatorSpec(mode=mode,\n",
    "                                      loss=loss,\n",
    "                                      eval_metric_ops=get_metric(labels,predict_cls))\n",
    "```"
   ]
  },
  {
   "cell_type": "markdown",
   "metadata": {},
   "source": [
    "##### 训练模式：train"
   ]
  },
  {
   "cell_type": "markdown",
   "metadata": {
    "ExecuteTime": {
     "end_time": "2021-03-09T15:01:12.607369Z",
     "start_time": "2021-03-09T15:01:12.597628Z"
    }
   },
   "source": [
    "需要传入`mode`,`loss`,`train_op`\n",
    "\n",
    "loss同eval模式：\n",
    "\n",
    "```\n",
    "if mode == tf.estimator.ModeKeys.EVAL:\n",
    "    loss = tf.losses.sparse_softmax_cross_entropy(labels=labels, logits=logits)\n",
    "    optimizer = tf.train.AdagradOptimizer(learning_rate=0.1)\n",
    "    train_op = optimizer.minimize(loss,global_step=tf.train.get_global_step())\n",
    "    return tf.estimator.EstimatorSpec(mode, loss=loss, train_op=train_op)\n",
    "```"
   ]
  },
  {
   "cell_type": "markdown",
   "metadata": {},
   "source": [
    "##### 通用模式\n",
    "\n",
    "`model_fn` 可以还可以填充独立于模式的所有参数.在这种情况下,Estimator将忽略某些参数.在eval和infer模式中, `train_op` 将被忽略.例子如下：\n",
    "\n",
    "```\n",
    "def my_model_fn(mode, features, labels):\n",
    "  predictions = ...\n",
    "  loss = ...\n",
    "  train_op = ...\n",
    "  return tf.estimator.EstimatorSpec(\n",
    "      mode=mode,\n",
    "      predictions=predictions,\n",
    "      loss=loss,\n",
    "      train_op=train_op)\n",
    "```"
   ]
  },
  {
   "cell_type": "markdown",
   "metadata": {
    "ExecuteTime": {
     "end_time": "2021-03-09T15:07:14.079758Z",
     "start_time": "2021-03-09T15:07:14.076321Z"
    }
   },
   "source": [
    "### 模型层代码示例"
   ]
  },
  {
   "cell_type": "code",
   "execution_count": 3,
   "metadata": {
    "ExecuteTime": {
     "end_time": "2021-03-10T13:46:13.427833Z",
     "start_time": "2021-03-10T13:46:13.347560Z"
    }
   },
   "outputs": [],
   "source": [
    " def get_metric(labels, predictions):\n",
    "    '''\n",
    "    define metrics\n",
    "    '''\n",
    "    accuracy = tf.metrics.accuracy(labels=labels, \n",
    "                                   predictions=predictions, \n",
    "                                   name='iris_accuracy')\n",
    "    recall = tf.metrics.recall(labels=labels,\n",
    "                               predictions=predictions,\n",
    "                               name='iris_recall')\n",
    "    precision = tf.metrics.precision(labels=labels,\n",
    "                                     predictions=predictions,\n",
    "                                     name='iris_precision')\n",
    "\n",
    "    return {\n",
    "        'accuracy':accuracy,\n",
    "        'recall': recall,\n",
    "        'precision': precision              \n",
    "    }\n",
    "\n",
    "def model_fn(features, labels, mode, params):\n",
    "    lr = params['lr']\n",
    "    logits = create_model(features, params['feature_columns'], params['hiddens'], params['output_dim'])\n",
    "    predict_cls = tf.argmax(logits, axis=1)\n",
    "    \n",
    "    if mode != tf.estimator.ModeKeys.PREDICT:\n",
    "        loss = tf.losses.sparse_softmax_cross_entropy(labels=labels,logits=logits)\n",
    "\n",
    "    if mode == tf.estimator.ModeKeys.TRAIN:\n",
    "        train_op = tf.train.AdamOptimizer(lr).minimize(loss=loss, global_step=tf.train.get_global_step())\n",
    "        return tf.estimator.EstimatorSpec(mode=mode,\n",
    "                                          loss=loss,\n",
    "                                          train_op=train_op)\n",
    "\n",
    "    elif mode == tf.estimator.ModeKeys.EVAL:\n",
    "        return tf.estimator.EstimatorSpec(mode=mode,\n",
    "                                          loss=loss,\n",
    "                                          eval_metric_ops=get_metric(labels,predict_cls))\n",
    "\n",
    "    elif mode == tf.estimator.ModeKeys.PREDICT:\n",
    "        predict_pro  = tf.nn.softmax(logits)\n",
    "        predictions={'predict_cls':predict_cls,\n",
    "                     'predict_pro':predict_pro}\n",
    "        return tf.estimator.EstimatorSpec(mode=mode,\n",
    "                                          predictions=predictions)  "
   ]
  },
  {
   "cell_type": "markdown",
   "metadata": {},
   "source": [
    "## 定义输入层 input_fn"
   ]
  },
  {
   "cell_type": "markdown",
   "metadata": {},
   "source": [
    "输出层是一个函数，返回 dataset"
   ]
  },
  {
   "cell_type": "code",
   "execution_count": 4,
   "metadata": {
    "ExecuteTime": {
     "end_time": "2021-03-10T13:46:13.475429Z",
     "start_time": "2021-03-10T13:46:13.431114Z"
    }
   },
   "outputs": [],
   "source": [
    "CSV_TYPES=[[0.0], [0.0], [0.0], [0.0], [0]]\n",
    "CSV_COLUMN_NAMES = ['SepalLength', 'SepalWidth',\n",
    "                    'PetalLength', 'PetalWidth', 'label']\n",
    "label = ['Setosa', 'Versicolor', 'Virginica']\n",
    "\n",
    "def input_fn_builder(file_path, epochs, batch_size, istrain=False):\n",
    "    \n",
    "    def parse_line(line): # 这个给 map 函数用来解析行\n",
    "        '''\n",
    "        parse csv line to features fromat\n",
    "        '''\n",
    "        fields = tf.decode_csv(line,record_defaults=CSV_TYPES)\n",
    "        features = dict(zip(CSV_COLUMN_NAMES,fields))\n",
    "        label = features.pop('label')\n",
    "        return features,label\n",
    "    \n",
    "    def input_fn():\n",
    "        dataset = tf.data.TextLineDataset(file_path).skip(1)\n",
    "        dataset = dataset.map(parse_line)\n",
    "        if istrain:\n",
    "            dataset = dataset.shuffle(1000)\n",
    "        dataset = dataset.repeat(epochs).batch(batch_size)\n",
    "        return dataset # 返回的顺序要和 model_fn一致 或者 dataset元素 格式为（features,label）元组 也可以\n",
    "    \n",
    "    return input_fn"
   ]
  },
  {
   "cell_type": "markdown",
   "metadata": {
    "ExecuteTime": {
     "end_time": "2021-03-09T15:08:06.934100Z",
     "start_time": "2021-03-09T15:08:06.930251Z"
    }
   },
   "source": [
    "## 创建 estimator 并运行"
   ]
  },
  {
   "cell_type": "markdown",
   "metadata": {
    "ExecuteTime": {
     "end_time": "2021-03-09T15:08:06.934100Z",
     "start_time": "2021-03-09T15:08:06.930251Z"
    }
   },
   "source": [
    "### 创建 estimator"
   ]
  },
  {
   "cell_type": "code",
   "execution_count": 5,
   "metadata": {
    "ExecuteTime": {
     "end_time": "2021-03-10T13:46:13.491287Z",
     "start_time": "2021-03-10T13:46:13.477540Z"
    }
   },
   "outputs": [],
   "source": [
    "model_dir = './model'\n",
    "BATCH_SIZE = 16\n",
    "EPOCHS = 400\n",
    "STEPS = 40\n",
    "LR = 0.0001\n",
    "\n",
    "params = {}\n",
    "feature_columns = []\n",
    "for i in range(len(CSV_COLUMN_NAMES)-1):\n",
    "    feature_columns.append(\n",
    "         tf.feature_column.numeric_column(CSV_COLUMN_NAMES[i])\n",
    "    )\n",
    "params['feature_columns'] = feature_columns\n",
    "params['hiddens'] = [128, 256, 256]\n",
    "params['output_dim'] = len(label)\n",
    "params['lr'] = LR"
   ]
  },
  {
   "cell_type": "markdown",
   "metadata": {
    "heading_collapsed": true
   },
   "source": [
    "### 定义 Runconfig"
   ]
  },
  {
   "cell_type": "markdown",
   "metadata": {
    "ExecuteTime": {
     "end_time": "2021-03-10T09:25:18.541503Z",
     "start_time": "2021-03-10T09:25:18.520032Z"
    },
    "hidden": true
   },
   "source": [
    "在创建 estimator 的时候需要传入`tf.estimator.RunConfig`,其源代码如下：\n",
    "\n",
    "```text\n",
    "class RunConfig(object):\n",
    "  \"\"\"This class specifies the configurations for an `Estimator` run.\"\"\"\n",
    "\n",
    "  def __init__(self,\n",
    "               model_dir=None,\n",
    "               tf_random_seed=None,\n",
    "               save_summary_steps=100,\n",
    "               save_checkpoints_steps=_USE_DEFAULT,\n",
    "               save_checkpoints_secs=_USE_DEFAULT,\n",
    "               session_config=None,\n",
    "               keep_checkpoint_max=5,\n",
    "               keep_checkpoint_every_n_hours=10000,\n",
    "               log_step_count_steps=100,\n",
    "               train_distribute=None,\n",
    "               device_fn=None,\n",
    "               protocol=None,\n",
    "               eval_distribute=None,\n",
    "               experimental_distribute=None,\n",
    "               experimental_max_worker_delay_secs=None,\n",
    "               session_creation_timeout_secs=7200):\n",
    "```\n",
    "\n",
    "*   `model_dir`: 指定存储模型参数，graph等的路径\n",
    "*   `save_summary_steps`: 每隔多少step就存一次`Summaries`，这个是配合 tensorboard 来使用的\n",
    "*   `save_checkpoints_steps`:每隔多少个step就存一次checkpoint\n",
    "*   `save_checkpoints_secs`: 每隔多少秒就存一次checkpoint，不可以和`save_checkpoints_steps`同时指定。如果二者都不指定，则使用默认值，即**每600秒**存一次。如果二者都设置为`None`，则不存checkpoints。\n",
    "*   `keep_checkpoint_max`：指定最多保留多少个checkpoints，也就是说当超出指定数量后会将旧的checkpoint删除。当设置为`None`或`0`时，则保留所有checkpoints。\n",
    "*   `keep_checkpoint_every_n_hours`：\n",
    "*   `log_step_count_steps`:**该参数的作用是,(相对于总的step数而言)指定每隔多少step就记录一次训练过程中loss的值，同时也会记录`global steps/s`，通过这个也可以得到模型训练的速度快慢。**"
   ]
  },
  {
   "cell_type": "code",
   "execution_count": 6,
   "metadata": {
    "ExecuteTime": {
     "end_time": "2021-03-10T13:46:13.496981Z",
     "start_time": "2021-03-10T13:46:13.493283Z"
    },
    "hidden": true
   },
   "outputs": [],
   "source": [
    "config = tf.estimator.RunConfig(save_checkpoints_steps=100)"
   ]
  },
  {
   "cell_type": "markdown",
   "metadata": {
    "ExecuteTime": {
     "end_time": "2021-03-09T15:08:06.934100Z",
     "start_time": "2021-03-09T15:08:06.930251Z"
    },
    "heading_collapsed": true
   },
   "source": [
    "### 创建 estimator"
   ]
  },
  {
   "cell_type": "code",
   "execution_count": 7,
   "metadata": {
    "ExecuteTime": {
     "end_time": "2021-03-10T13:46:13.507138Z",
     "start_time": "2021-03-10T13:46:13.498874Z"
    },
    "hidden": true
   },
   "outputs": [
    {
     "name": "stdout",
     "output_type": "stream",
     "text": [
      "INFO:tensorflow:Using config: {'_model_dir': './model', '_tf_random_seed': None, '_save_summary_steps': 100, '_save_checkpoints_steps': 100, '_save_checkpoints_secs': None, '_session_config': allow_soft_placement: true\n",
      "graph_options {\n",
      "  rewrite_options {\n",
      "    meta_optimizer_iterations: ONE\n",
      "  }\n",
      "}\n",
      ", '_keep_checkpoint_max': 5, '_keep_checkpoint_every_n_hours': 10000, '_log_step_count_steps': 100, '_train_distribute': None, '_device_fn': None, '_protocol': None, '_eval_distribute': None, '_experimental_distribute': None, '_experimental_max_worker_delay_secs': None, '_session_creation_timeout_secs': 7200, '_service': None, '_cluster_spec': <tensorflow.python.training.server_lib.ClusterSpec object at 0x149eafc18>, '_task_type': 'worker', '_task_id': 0, '_global_id_in_cluster': 0, '_master': '', '_evaluation_master': '', '_is_chief': True, '_num_ps_replicas': 0, '_num_worker_replicas': 1}\n"
     ]
    }
   ],
   "source": [
    "estimator = tf.estimator.Estimator(\n",
    "    model_fn=model_fn, # 这里需要一个函数\n",
    "    model_dir=model_dir, \n",
    "    params=params,\n",
    "    config=config)"
   ]
  },
  {
   "cell_type": "markdown",
   "metadata": {
    "ExecuteTime": {
     "end_time": "2021-03-09T15:11:39.169721Z",
     "start_time": "2021-03-09T15:11:39.166783Z"
    }
   },
   "source": [
    "### 运行"
   ]
  },
  {
   "cell_type": "markdown",
   "metadata": {
    "ExecuteTime": {
     "end_time": "2021-03-10T05:48:28.501972Z",
     "start_time": "2021-03-10T05:48:28.468364Z"
    }
   },
   "source": [
    "#### train"
   ]
  },
  {
   "cell_type": "code",
   "execution_count": 8,
   "metadata": {
    "ExecuteTime": {
     "end_time": "2021-03-10T13:46:16.217817Z",
     "start_time": "2021-03-10T13:46:13.509839Z"
    }
   },
   "outputs": [
    {
     "name": "stdout",
     "output_type": "stream",
     "text": [
      "WARNING:tensorflow:From /anaconda3/envs/tensorflow1.15/lib/python3.6/site-packages/tensorflow_core/python/training/training_util.py:236: Variable.initialized_value (from tensorflow.python.ops.variables) is deprecated and will be removed in a future version.\n",
      "Instructions for updating:\n",
      "Use Variable.read_value. Variables in 2.X are initialized automatically both in eager and graph (inside tf.defun) contexts.\n",
      "WARNING:tensorflow:From /anaconda3/envs/tensorflow1.15/lib/python3.6/site-packages/tensorflow_core/python/autograph/converters/directives.py:119: The name tf.decode_csv is deprecated. Please use tf.io.decode_csv instead.\n",
      "\n",
      "INFO:tensorflow:Calling model_fn.\n",
      "WARNING:tensorflow:From /anaconda3/envs/tensorflow1.15/lib/python3.6/site-packages/tensorflow_core/python/feature_column/feature_column.py:206: NumericColumn._get_dense_tensor (from tensorflow.python.feature_column.feature_column_v2) is deprecated and will be removed in a future version.\n",
      "Instructions for updating:\n",
      "The old _FeatureColumn APIs are being deprecated. Please use the new FeatureColumn APIs instead.\n",
      "WARNING:tensorflow:From /anaconda3/envs/tensorflow1.15/lib/python3.6/site-packages/tensorflow_core/python/feature_column/feature_column.py:2158: NumericColumn._transform_feature (from tensorflow.python.feature_column.feature_column_v2) is deprecated and will be removed in a future version.\n",
      "Instructions for updating:\n",
      "The old _FeatureColumn APIs are being deprecated. Please use the new FeatureColumn APIs instead.\n",
      "WARNING:tensorflow:From /anaconda3/envs/tensorflow1.15/lib/python3.6/site-packages/tensorflow_core/python/feature_column/feature_column.py:207: NumericColumn._variable_shape (from tensorflow.python.feature_column.feature_column_v2) is deprecated and will be removed in a future version.\n",
      "Instructions for updating:\n",
      "The old _FeatureColumn APIs are being deprecated. Please use the new FeatureColumn APIs instead.\n",
      "WARNING:tensorflow:From <ipython-input-2-68ee3eba995b>:8: dense (from tensorflow.python.layers.core) is deprecated and will be removed in a future version.\n",
      "Instructions for updating:\n",
      "Use keras.layers.Dense instead.\n",
      "WARNING:tensorflow:From /anaconda3/envs/tensorflow1.15/lib/python3.6/site-packages/tensorflow_core/python/layers/core.py:187: Layer.apply (from tensorflow.python.keras.engine.base_layer) is deprecated and will be removed in a future version.\n",
      "Instructions for updating:\n",
      "Please use `layer.__call__` method instead.\n",
      "WARNING:tensorflow:From /anaconda3/envs/tensorflow1.15/lib/python3.6/site-packages/tensorflow_core/python/ops/losses/losses_impl.py:121: where (from tensorflow.python.ops.array_ops) is deprecated and will be removed in a future version.\n",
      "Instructions for updating:\n",
      "Use tf.where in 2.0, which has the same broadcast rule as np.where\n",
      "INFO:tensorflow:Done calling model_fn.\n",
      "INFO:tensorflow:Create CheckpointSaverHook.\n",
      "INFO:tensorflow:Graph was finalized.\n",
      "INFO:tensorflow:Restoring parameters from ./model/model.ckpt-12160\n",
      "WARNING:tensorflow:From /anaconda3/envs/tensorflow1.15/lib/python3.6/site-packages/tensorflow_core/python/training/saver.py:1069: get_checkpoint_mtimes (from tensorflow.python.training.checkpoint_management) is deprecated and will be removed in a future version.\n",
      "Instructions for updating:\n",
      "Use standard file utilities to get mtimes.\n",
      "INFO:tensorflow:Running local_init_op.\n",
      "INFO:tensorflow:Done running local_init_op.\n",
      "INFO:tensorflow:Saving checkpoints for 12160 into ./model/model.ckpt.\n",
      "INFO:tensorflow:loss = 0.00074076233, step = 12161\n",
      "INFO:tensorflow:Saving checkpoints for 12200 into ./model/model.ckpt.\n",
      "WARNING:tensorflow:From /anaconda3/envs/tensorflow1.15/lib/python3.6/site-packages/tensorflow_core/python/training/saver.py:963: remove_checkpoint (from tensorflow.python.training.checkpoint_management) is deprecated and will be removed in a future version.\n",
      "Instructions for updating:\n",
      "Use standard file APIs to delete files with this prefix.\n",
      "INFO:tensorflow:Loss for final step: 0.016322406.\n"
     ]
    },
    {
     "data": {
      "text/plain": [
       "<tensorflow_estimator.python.estimator.estimator.Estimator at 0x149eafa58>"
      ]
     },
     "execution_count": 8,
     "metadata": {},
     "output_type": "execute_result"
    }
   ],
   "source": [
    "# input_fn 是一个函数\n",
    "estimator.train(input_fn=input_fn_builder(file_path=train_path, batch_size=BATCH_SIZE, epochs=EPOCHS), \n",
    "                steps=STEPS)"
   ]
  },
  {
   "cell_type": "markdown",
   "metadata": {},
   "source": [
    "#### evaluate\n"
   ]
  },
  {
   "cell_type": "code",
   "execution_count": 9,
   "metadata": {
    "ExecuteTime": {
     "end_time": "2021-03-10T13:46:16.797038Z",
     "start_time": "2021-03-10T13:46:16.220004Z"
    }
   },
   "outputs": [
    {
     "name": "stdout",
     "output_type": "stream",
     "text": [
      "INFO:tensorflow:Calling model_fn.\n",
      "WARNING:tensorflow:From /anaconda3/envs/tensorflow1.15/lib/python3.6/site-packages/tensorflow_core/python/ops/metrics_impl.py:2200: div (from tensorflow.python.ops.math_ops) is deprecated and will be removed in a future version.\n",
      "Instructions for updating:\n",
      "Deprecated in favor of operator or tf.math.divide.\n",
      "INFO:tensorflow:Done calling model_fn.\n",
      "INFO:tensorflow:Starting evaluation at 2021-03-10T21:46:16Z\n",
      "INFO:tensorflow:Graph was finalized.\n",
      "INFO:tensorflow:Restoring parameters from ./model/model.ckpt-12200\n",
      "INFO:tensorflow:Running local_init_op.\n",
      "INFO:tensorflow:Done running local_init_op.\n",
      "INFO:tensorflow:Evaluation [4/40]\n",
      "INFO:tensorflow:Evaluation [8/40]\n",
      "INFO:tensorflow:Evaluation [12/40]\n",
      "INFO:tensorflow:Evaluation [16/40]\n",
      "INFO:tensorflow:Evaluation [20/40]\n",
      "INFO:tensorflow:Evaluation [24/40]\n",
      "INFO:tensorflow:Evaluation [28/40]\n",
      "INFO:tensorflow:Evaluation [32/40]\n",
      "INFO:tensorflow:Evaluation [36/40]\n",
      "INFO:tensorflow:Evaluation [40/40]\n",
      "INFO:tensorflow:Finished evaluation at 2021-03-10-21:46:16\n",
      "INFO:tensorflow:Saving dict for global step 12200: accuracy = 0.9921875, global_step = 12200, loss = 0.012836829, precision = 1.0, recall = 1.0\n",
      "INFO:tensorflow:Saving 'checkpoint_path' summary for global step 12200: ./model/model.ckpt-12200\n"
     ]
    },
    {
     "data": {
      "text/plain": [
       "{'accuracy': 0.9921875,\n",
       " 'global_step': 12200,\n",
       " 'loss': 0.012836829,\n",
       " 'precision': 1.0,\n",
       " 'recall': 1.0}"
      ]
     },
     "execution_count": 9,
     "metadata": {},
     "output_type": "execute_result"
    }
   ],
   "source": [
    "# evaluate(  input_fn,    steps=None,    hooks=None,    checkpoint_path=None,    name=None)\n",
    "estimator.evaluate(input_fn=input_fn_builder(file_path=test_path,\n",
    "                                            batch_size=BATCH_SIZE,\n",
    "                                            epochs=EPOCHS), steps=STEPS)"
   ]
  },
  {
   "cell_type": "markdown",
   "metadata": {},
   "source": [
    "#### predict "
   ]
  },
  {
   "cell_type": "code",
   "execution_count": 10,
   "metadata": {
    "ExecuteTime": {
     "end_time": "2021-03-10T13:46:16.801525Z",
     "start_time": "2021-03-10T13:46:16.798458Z"
    }
   },
   "outputs": [
    {
     "data": {
      "text/plain": [
       "<generator object Estimator.predict at 0x14c4bdf10>"
      ]
     },
     "execution_count": 10,
     "metadata": {},
     "output_type": "execute_result"
    }
   ],
   "source": [
    "# predict(input_fn,    predict_keys=None,    hooks=None,    checkpoint_path=None,    yield_single_examples=True)\n",
    "estimator.predict(...)"
   ]
  },
  {
   "cell_type": "markdown",
   "metadata": {},
   "source": [
    "#### train_and_evaluate"
   ]
  },
  {
   "cell_type": "markdown",
   "metadata": {},
   "source": [
    "我们通常在训练网络时，每训练一段时间就会 evaluate 一下看一下结果。此时，我们可以使用 `tf.estimator.train_and_evalute` 这个函数"
   ]
  },
  {
   "cell_type": "code",
   "execution_count": 11,
   "metadata": {
    "ExecuteTime": {
     "end_time": "2021-03-10T13:46:28.507516Z",
     "start_time": "2021-03-10T13:46:16.802913Z"
    }
   },
   "outputs": [
    {
     "name": "stdout",
     "output_type": "stream",
     "text": [
      "INFO:tensorflow:Not using Distribute Coordinator.\n",
      "INFO:tensorflow:Running training and evaluation locally (non-distributed).\n",
      "INFO:tensorflow:Start train and evaluate loop. The evaluate will happen after every checkpoint. Checkpoint frequency is determined based on RunConfig arguments: save_checkpoints_steps 100 or save_checkpoints_secs None.\n",
      "INFO:tensorflow:Calling model_fn.\n",
      "INFO:tensorflow:Done calling model_fn.\n",
      "INFO:tensorflow:Create CheckpointSaverHook.\n",
      "INFO:tensorflow:Graph was finalized.\n",
      "INFO:tensorflow:Restoring parameters from ./model/model.ckpt-12200\n",
      "INFO:tensorflow:Running local_init_op.\n",
      "INFO:tensorflow:Done running local_init_op.\n",
      "INFO:tensorflow:Saving checkpoints for 12200 into ./model/model.ckpt.\n",
      "INFO:tensorflow:loss = 0.00083466497, step = 12201\n",
      "INFO:tensorflow:Saving checkpoints for 12300 into ./model/model.ckpt.\n",
      "INFO:tensorflow:Calling model_fn.\n",
      "INFO:tensorflow:Done calling model_fn.\n",
      "INFO:tensorflow:Starting evaluation at 2021-03-10T21:46:18Z\n",
      "INFO:tensorflow:Graph was finalized.\n",
      "INFO:tensorflow:Restoring parameters from ./model/model.ckpt-12300\n",
      "INFO:tensorflow:Running local_init_op.\n",
      "INFO:tensorflow:Done running local_init_op.\n",
      "INFO:tensorflow:Evaluation [10/100]\n",
      "INFO:tensorflow:Evaluation [20/100]\n",
      "INFO:tensorflow:Evaluation [30/100]\n",
      "INFO:tensorflow:Evaluation [40/100]\n",
      "INFO:tensorflow:Evaluation [50/100]\n",
      "INFO:tensorflow:Evaluation [60/100]\n",
      "INFO:tensorflow:Evaluation [70/100]\n",
      "INFO:tensorflow:Evaluation [80/100]\n",
      "INFO:tensorflow:Evaluation [90/100]\n",
      "INFO:tensorflow:Evaluation [100/100]\n",
      "INFO:tensorflow:Finished evaluation at 2021-03-10-21:46:19\n",
      "INFO:tensorflow:Saving dict for global step 12300: accuracy = 0.991875, global_step = 12300, loss = 0.012723528, precision = 1.0, recall = 1.0\n",
      "INFO:tensorflow:Saving 'checkpoint_path' summary for global step 12300: ./model/model.ckpt-12300\n",
      "INFO:tensorflow:global_step/sec: 66.3026\n",
      "INFO:tensorflow:loss = 0.0138154505, step = 12301 (1.510 sec)\n",
      "INFO:tensorflow:Saving checkpoints for 12400 into ./model/model.ckpt.\n",
      "INFO:tensorflow:Skip the current checkpoint eval due to throttle secs (600 secs).\n",
      "INFO:tensorflow:global_step/sec: 261.906\n",
      "INFO:tensorflow:loss = 0.06269371, step = 12401 (0.382 sec)\n",
      "INFO:tensorflow:Saving checkpoints for 12500 into ./model/model.ckpt.\n",
      "INFO:tensorflow:Skip the current checkpoint eval due to throttle secs (600 secs).\n",
      "INFO:tensorflow:global_step/sec: 260.64\n",
      "INFO:tensorflow:loss = 0.0006611597, step = 12501 (0.385 sec)\n",
      "INFO:tensorflow:Saving checkpoints for 12600 into ./model/model.ckpt.\n",
      "INFO:tensorflow:Skip the current checkpoint eval due to throttle secs (600 secs).\n",
      "INFO:tensorflow:global_step/sec: 344.309\n",
      "INFO:tensorflow:loss = 0.01279292, step = 12601 (0.289 sec)\n",
      "INFO:tensorflow:Saving checkpoints for 12700 into ./model/model.ckpt.\n",
      "INFO:tensorflow:Skip the current checkpoint eval due to throttle secs (600 secs).\n",
      "INFO:tensorflow:global_step/sec: 357.412\n",
      "INFO:tensorflow:loss = 0.05306547, step = 12701 (0.280 sec)\n",
      "INFO:tensorflow:Saving checkpoints for 12800 into ./model/model.ckpt.\n",
      "INFO:tensorflow:Skip the current checkpoint eval due to throttle secs (600 secs).\n",
      "INFO:tensorflow:global_step/sec: 418.293\n",
      "INFO:tensorflow:loss = 0.00060666294, step = 12801 (0.239 sec)\n",
      "INFO:tensorflow:Saving checkpoints for 12900 into ./model/model.ckpt.\n",
      "INFO:tensorflow:Skip the current checkpoint eval due to throttle secs (600 secs).\n",
      "INFO:tensorflow:global_step/sec: 411.257\n",
      "INFO:tensorflow:loss = 0.010294709, step = 12901 (0.243 sec)\n",
      "INFO:tensorflow:Saving checkpoints for 13000 into ./model/model.ckpt.\n",
      "INFO:tensorflow:Skip the current checkpoint eval due to throttle secs (600 secs).\n",
      "INFO:tensorflow:global_step/sec: 365.513\n",
      "INFO:tensorflow:loss = 0.050787106, step = 13001 (0.273 sec)\n",
      "INFO:tensorflow:Saving checkpoints for 13100 into ./model/model.ckpt.\n",
      "INFO:tensorflow:Skip the current checkpoint eval due to throttle secs (600 secs).\n",
      "INFO:tensorflow:global_step/sec: 398.147\n",
      "INFO:tensorflow:loss = 0.0006305372, step = 13101 (0.251 sec)\n",
      "INFO:tensorflow:Saving checkpoints for 13200 into ./model/model.ckpt.\n",
      "INFO:tensorflow:Skip the current checkpoint eval due to throttle secs (600 secs).\n",
      "INFO:tensorflow:global_step/sec: 428.9\n",
      "INFO:tensorflow:loss = 0.009815714, step = 13201 (0.233 sec)\n",
      "INFO:tensorflow:Saving checkpoints for 13300 into ./model/model.ckpt.\n",
      "INFO:tensorflow:Skip the current checkpoint eval due to throttle secs (600 secs).\n",
      "INFO:tensorflow:global_step/sec: 364.005\n",
      "INFO:tensorflow:loss = 0.047151003, step = 13301 (0.275 sec)\n",
      "INFO:tensorflow:Saving checkpoints for 13400 into ./model/model.ckpt.\n",
      "INFO:tensorflow:Skip the current checkpoint eval due to throttle secs (600 secs).\n",
      "INFO:tensorflow:global_step/sec: 309.987\n",
      "INFO:tensorflow:loss = 0.000478864, step = 13401 (0.323 sec)\n",
      "INFO:tensorflow:Saving checkpoints for 13500 into ./model/model.ckpt.\n",
      "INFO:tensorflow:Skip the current checkpoint eval due to throttle secs (600 secs).\n",
      "INFO:tensorflow:global_step/sec: 273.754\n",
      "INFO:tensorflow:loss = 0.0084670065, step = 13501 (0.366 sec)\n",
      "INFO:tensorflow:Saving checkpoints for 13600 into ./model/model.ckpt.\n",
      "INFO:tensorflow:Skip the current checkpoint eval due to throttle secs (600 secs).\n",
      "INFO:tensorflow:global_step/sec: 299.392\n",
      "INFO:tensorflow:loss = 0.038145218, step = 13601 (0.332 sec)\n",
      "INFO:tensorflow:Saving checkpoints for 13700 into ./model/model.ckpt.\n",
      "INFO:tensorflow:Skip the current checkpoint eval due to throttle secs (600 secs).\n",
      "INFO:tensorflow:global_step/sec: 319.478\n",
      "INFO:tensorflow:loss = 0.00046275524, step = 13701 (0.313 sec)\n",
      "INFO:tensorflow:Saving checkpoints for 13800 into ./model/model.ckpt.\n",
      "INFO:tensorflow:Skip the current checkpoint eval due to throttle secs (600 secs).\n",
      "INFO:tensorflow:global_step/sec: 292.478\n",
      "INFO:tensorflow:loss = 0.010429781, step = 13801 (0.341 sec)\n",
      "INFO:tensorflow:Saving checkpoints for 13900 into ./model/model.ckpt.\n",
      "INFO:tensorflow:Skip the current checkpoint eval due to throttle secs (600 secs).\n",
      "INFO:tensorflow:global_step/sec: 299.767\n",
      "INFO:tensorflow:loss = 0.035237305, step = 13901 (0.334 sec)\n",
      "INFO:tensorflow:Saving checkpoints for 14000 into ./model/model.ckpt.\n",
      "INFO:tensorflow:Skip the current checkpoint eval due to throttle secs (600 secs).\n",
      "INFO:tensorflow:global_step/sec: 304.367\n",
      "INFO:tensorflow:loss = 0.00042375564, step = 14001 (0.329 sec)\n",
      "INFO:tensorflow:Saving checkpoints for 14100 into ./model/model.ckpt.\n",
      "INFO:tensorflow:Skip the current checkpoint eval due to throttle secs (600 secs).\n",
      "INFO:tensorflow:global_step/sec: 322.099\n",
      "INFO:tensorflow:loss = 0.0070618624, step = 14101 (0.310 sec)\n",
      "INFO:tensorflow:Saving checkpoints for 14200 into ./model/model.ckpt.\n",
      "INFO:tensorflow:Skip the current checkpoint eval due to throttle secs (600 secs).\n",
      "INFO:tensorflow:global_step/sec: 299.076\n",
      "INFO:tensorflow:loss = 0.033758935, step = 14201 (0.334 sec)\n",
      "INFO:tensorflow:Saving checkpoints for 14300 into ./model/model.ckpt.\n",
      "INFO:tensorflow:Skip the current checkpoint eval due to throttle secs (600 secs).\n",
      "INFO:tensorflow:global_step/sec: 328.753\n",
      "INFO:tensorflow:loss = 0.00033960302, step = 14301 (0.303 sec)\n",
      "INFO:tensorflow:Saving checkpoints for 14400 into ./model/model.ckpt.\n",
      "INFO:tensorflow:Skip the current checkpoint eval due to throttle secs (600 secs).\n",
      "INFO:tensorflow:global_step/sec: 444.887\n",
      "INFO:tensorflow:loss = 0.007321241, step = 14401 (0.225 sec)\n",
      "INFO:tensorflow:Saving checkpoints for 14500 into ./model/model.ckpt.\n",
      "INFO:tensorflow:Skip the current checkpoint eval due to throttle secs (600 secs).\n",
      "INFO:tensorflow:global_step/sec: 450.995\n",
      "INFO:tensorflow:loss = 0.029818587, step = 14501 (0.222 sec)\n",
      "INFO:tensorflow:Saving checkpoints for 14600 into ./model/model.ckpt.\n",
      "INFO:tensorflow:Skip the current checkpoint eval due to throttle secs (600 secs).\n",
      "INFO:tensorflow:global_step/sec: 436.363\n",
      "INFO:tensorflow:loss = 0.000293572, step = 14601 (0.230 sec)\n",
      "INFO:tensorflow:Saving checkpoints for 14700 into ./model/model.ckpt.\n",
      "INFO:tensorflow:Skip the current checkpoint eval due to throttle secs (600 secs).\n",
      "INFO:tensorflow:global_step/sec: 433.306\n",
      "INFO:tensorflow:loss = 0.007160187, step = 14701 (0.230 sec)\n",
      "INFO:tensorflow:Saving checkpoints for 14800 into ./model/model.ckpt.\n",
      "INFO:tensorflow:Skip the current checkpoint eval due to throttle secs (600 secs).\n",
      "INFO:tensorflow:global_step/sec: 441.587\n"
     ]
    },
    {
     "name": "stdout",
     "output_type": "stream",
     "text": [
      "INFO:tensorflow:loss = 0.0247358, step = 14801 (0.226 sec)\n",
      "INFO:tensorflow:Saving checkpoints for 14900 into ./model/model.ckpt.\n",
      "INFO:tensorflow:Skip the current checkpoint eval due to throttle secs (600 secs).\n",
      "INFO:tensorflow:global_step/sec: 469.746\n",
      "INFO:tensorflow:loss = 0.00026475833, step = 14901 (0.213 sec)\n",
      "INFO:tensorflow:Saving checkpoints for 15000 into ./model/model.ckpt.\n",
      "INFO:tensorflow:Skip the current checkpoint eval due to throttle secs (600 secs).\n",
      "INFO:tensorflow:global_step/sec: 483.816\n",
      "INFO:tensorflow:loss = 0.006713499, step = 15001 (0.207 sec)\n",
      "INFO:tensorflow:Saving checkpoints for 15100 into ./model/model.ckpt.\n",
      "INFO:tensorflow:Skip the current checkpoint eval due to throttle secs (600 secs).\n",
      "INFO:tensorflow:global_step/sec: 418.803\n",
      "INFO:tensorflow:loss = 0.023794128, step = 15101 (0.239 sec)\n",
      "INFO:tensorflow:Saving checkpoints for 15200 into ./model/model.ckpt.\n",
      "INFO:tensorflow:Skip the current checkpoint eval due to throttle secs (600 secs).\n",
      "INFO:tensorflow:Calling model_fn.\n",
      "INFO:tensorflow:Done calling model_fn.\n",
      "INFO:tensorflow:Starting evaluation at 2021-03-10T21:46:27Z\n",
      "INFO:tensorflow:Graph was finalized.\n",
      "INFO:tensorflow:Restoring parameters from ./model/model.ckpt-15200\n",
      "INFO:tensorflow:Running local_init_op.\n",
      "INFO:tensorflow:Done running local_init_op.\n",
      "INFO:tensorflow:Evaluation [10/100]\n",
      "INFO:tensorflow:Evaluation [20/100]\n",
      "INFO:tensorflow:Evaluation [30/100]\n",
      "INFO:tensorflow:Evaluation [40/100]\n",
      "INFO:tensorflow:Evaluation [50/100]\n",
      "INFO:tensorflow:Evaluation [60/100]\n",
      "INFO:tensorflow:Evaluation [70/100]\n",
      "INFO:tensorflow:Evaluation [80/100]\n",
      "INFO:tensorflow:Evaluation [90/100]\n",
      "INFO:tensorflow:Evaluation [100/100]\n",
      "INFO:tensorflow:Finished evaluation at 2021-03-10-21:46:28\n",
      "INFO:tensorflow:Saving dict for global step 15200: accuracy = 1.0, global_step = 15200, loss = 0.0047949255, precision = 1.0, recall = 1.0\n",
      "INFO:tensorflow:Saving 'checkpoint_path' summary for global step 15200: ./model/model.ckpt-15200\n",
      "INFO:tensorflow:Loss for final step: 4.4925396e-06.\n"
     ]
    },
    {
     "data": {
      "text/plain": [
       "({'accuracy': 1.0,\n",
       "  'global_step': 15200,\n",
       "  'loss': 0.0047949255,\n",
       "  'precision': 1.0,\n",
       "  'recall': 1.0},\n",
       " [])"
      ]
     },
     "execution_count": 11,
     "metadata": {},
     "output_type": "execute_result"
    }
   ],
   "source": [
    "train_spec = tf.estimator.TrainSpec(\n",
    "    input_fn=input_fn_builder(train_path, batch_size=BATCH_SIZE, epochs=EPOCHS), \n",
    "    max_steps=20000,\n",
    ")\n",
    "eval_spec = tf.estimator.EvalSpec(\n",
    "    input_fn=input_fn_builder(test_path, batch_size=BATCH_SIZE, epochs=EPOCHS), \n",
    ")\n",
    "tf.estimator.train_and_evaluate(\n",
    "    estimator,\n",
    "    train_spec,\n",
    "    eval_spec\n",
    ")"
   ]
  },
  {
   "cell_type": "markdown",
   "metadata": {},
   "source": [
    "在当前的实现中，`estimator.evaluate` 将被调用多次。这意味着在每次评估时，会重新创建评估图（包括`eval_input_fn`）。`estimator.train` 只会被调用一次。"
   ]
  },
  {
   "cell_type": "code",
   "execution_count": 12,
   "metadata": {
    "ExecuteTime": {
     "end_time": "2021-03-10T13:46:39.716473Z",
     "start_time": "2021-03-10T13:46:28.509553Z"
    }
   },
   "outputs": [
    {
     "name": "stdout",
     "output_type": "stream",
     "text": [
      "INFO:tensorflow:Not using Distribute Coordinator.\n",
      "INFO:tensorflow:Running training and evaluation locally (non-distributed).\n",
      "INFO:tensorflow:Start train and evaluate loop. The evaluate will happen after every checkpoint. Checkpoint frequency is determined based on RunConfig arguments: save_checkpoints_steps 100 or save_checkpoints_secs None.\n",
      "INFO:tensorflow:Calling model_fn.\n",
      "INFO:tensorflow:Done calling model_fn.\n",
      "INFO:tensorflow:Create CheckpointSaverHook.\n",
      "INFO:tensorflow:Graph was finalized.\n",
      "INFO:tensorflow:Restoring parameters from ./model/model.ckpt-15200\n",
      "INFO:tensorflow:Running local_init_op.\n",
      "INFO:tensorflow:Done running local_init_op.\n",
      "INFO:tensorflow:Saving checkpoints for 15200 into ./model/model.ckpt.\n",
      "INFO:tensorflow:loss = 0.0002259884, step = 15201\n",
      "INFO:tensorflow:Saving checkpoints for 15300 into ./model/model.ckpt.\n",
      "INFO:tensorflow:Calling model_fn.\n",
      "INFO:tensorflow:Done calling model_fn.\n",
      "INFO:tensorflow:Starting evaluation at 2021-03-10T21:46:30Z\n",
      "INFO:tensorflow:Graph was finalized.\n",
      "INFO:tensorflow:Restoring parameters from ./model/model.ckpt-15300\n",
      "INFO:tensorflow:Running local_init_op.\n",
      "INFO:tensorflow:Done running local_init_op.\n",
      "INFO:tensorflow:Evaluation [10/100]\n",
      "INFO:tensorflow:Evaluation [20/100]\n",
      "INFO:tensorflow:Evaluation [30/100]\n",
      "INFO:tensorflow:Evaluation [40/100]\n",
      "INFO:tensorflow:Evaluation [50/100]\n",
      "INFO:tensorflow:Evaluation [60/100]\n",
      "INFO:tensorflow:Evaluation [70/100]\n",
      "INFO:tensorflow:Evaluation [80/100]\n",
      "INFO:tensorflow:Evaluation [90/100]\n",
      "INFO:tensorflow:Evaluation [100/100]\n",
      "INFO:tensorflow:Finished evaluation at 2021-03-10-21:46:30\n",
      "INFO:tensorflow:Saving dict for global step 15300: accuracy = 1.0, global_step = 15300, loss = 0.004759055, precision = 1.0, recall = 1.0\n",
      "INFO:tensorflow:Saving 'checkpoint_path' summary for global step 15300: ./model/model.ckpt-15300\n",
      "INFO:tensorflow:global_step/sec: 81.5193\n",
      "INFO:tensorflow:loss = 0.0049863164, step = 15301 (1.228 sec)\n",
      "INFO:tensorflow:Saving checkpoints for 15400 into ./model/model.ckpt.\n",
      "INFO:tensorflow:Skip the current checkpoint eval due to throttle secs (10 secs).\n",
      "INFO:tensorflow:global_step/sec: 430.282\n",
      "INFO:tensorflow:loss = 0.021152511, step = 15401 (0.232 sec)\n",
      "INFO:tensorflow:Saving checkpoints for 15500 into ./model/model.ckpt.\n",
      "INFO:tensorflow:Skip the current checkpoint eval due to throttle secs (10 secs).\n",
      "INFO:tensorflow:global_step/sec: 430.685\n",
      "INFO:tensorflow:loss = 0.00019851797, step = 15501 (0.232 sec)\n",
      "INFO:tensorflow:Saving checkpoints for 15600 into ./model/model.ckpt.\n",
      "INFO:tensorflow:Skip the current checkpoint eval due to throttle secs (10 secs).\n",
      "INFO:tensorflow:global_step/sec: 424.8\n",
      "INFO:tensorflow:loss = 0.0052195424, step = 15601 (0.235 sec)\n",
      "INFO:tensorflow:Saving checkpoints for 15700 into ./model/model.ckpt.\n",
      "INFO:tensorflow:Skip the current checkpoint eval due to throttle secs (10 secs).\n",
      "INFO:tensorflow:global_step/sec: 456.97\n",
      "INFO:tensorflow:loss = 0.016791536, step = 15701 (0.219 sec)\n",
      "INFO:tensorflow:Saving checkpoints for 15800 into ./model/model.ckpt.\n",
      "INFO:tensorflow:Skip the current checkpoint eval due to throttle secs (10 secs).\n",
      "INFO:tensorflow:global_step/sec: 457.706\n",
      "INFO:tensorflow:loss = 0.00014338885, step = 15801 (0.218 sec)\n",
      "INFO:tensorflow:Saving checkpoints for 15900 into ./model/model.ckpt.\n",
      "INFO:tensorflow:Skip the current checkpoint eval due to throttle secs (10 secs).\n",
      "INFO:tensorflow:global_step/sec: 433.238\n",
      "INFO:tensorflow:loss = 0.0050627943, step = 15901 (0.231 sec)\n",
      "INFO:tensorflow:Saving checkpoints for 16000 into ./model/model.ckpt.\n",
      "INFO:tensorflow:Skip the current checkpoint eval due to throttle secs (10 secs).\n",
      "INFO:tensorflow:global_step/sec: 349.63\n",
      "INFO:tensorflow:loss = 0.016045101, step = 16001 (0.287 sec)\n",
      "INFO:tensorflow:Saving checkpoints for 16100 into ./model/model.ckpt.\n",
      "INFO:tensorflow:Skip the current checkpoint eval due to throttle secs (10 secs).\n",
      "INFO:tensorflow:global_step/sec: 257.878\n",
      "INFO:tensorflow:loss = 0.00012190821, step = 16101 (0.387 sec)\n",
      "INFO:tensorflow:Saving checkpoints for 16200 into ./model/model.ckpt.\n",
      "INFO:tensorflow:Skip the current checkpoint eval due to throttle secs (10 secs).\n",
      "INFO:tensorflow:global_step/sec: 301.098\n",
      "INFO:tensorflow:loss = 0.004018124, step = 16201 (0.332 sec)\n",
      "INFO:tensorflow:Saving checkpoints for 16300 into ./model/model.ckpt.\n",
      "INFO:tensorflow:Skip the current checkpoint eval due to throttle secs (10 secs).\n",
      "INFO:tensorflow:global_step/sec: 325.077\n",
      "INFO:tensorflow:loss = 0.014845902, step = 16301 (0.308 sec)\n",
      "INFO:tensorflow:Saving checkpoints for 16400 into ./model/model.ckpt.\n",
      "INFO:tensorflow:Skip the current checkpoint eval due to throttle secs (10 secs).\n",
      "INFO:tensorflow:global_step/sec: 316.475\n",
      "INFO:tensorflow:loss = 9.676094e-05, step = 16401 (0.315 sec)\n",
      "INFO:tensorflow:Saving checkpoints for 16500 into ./model/model.ckpt.\n",
      "INFO:tensorflow:Skip the current checkpoint eval due to throttle secs (10 secs).\n",
      "INFO:tensorflow:global_step/sec: 316.542\n",
      "INFO:tensorflow:loss = 0.0032033517, step = 16501 (0.316 sec)\n",
      "INFO:tensorflow:Saving checkpoints for 16600 into ./model/model.ckpt.\n",
      "INFO:tensorflow:Skip the current checkpoint eval due to throttle secs (10 secs).\n",
      "INFO:tensorflow:global_step/sec: 312.65\n",
      "INFO:tensorflow:loss = 0.012331427, step = 16601 (0.320 sec)\n",
      "INFO:tensorflow:Saving checkpoints for 16700 into ./model/model.ckpt.\n",
      "INFO:tensorflow:Skip the current checkpoint eval due to throttle secs (10 secs).\n",
      "INFO:tensorflow:global_step/sec: 281.886\n",
      "INFO:tensorflow:loss = 7.059189e-05, step = 16701 (0.355 sec)\n",
      "INFO:tensorflow:Saving checkpoints for 16800 into ./model/model.ckpt.\n",
      "INFO:tensorflow:Skip the current checkpoint eval due to throttle secs (10 secs).\n",
      "INFO:tensorflow:global_step/sec: 290.435\n",
      "INFO:tensorflow:loss = 0.0031025033, step = 16801 (0.344 sec)\n",
      "INFO:tensorflow:Saving checkpoints for 16900 into ./model/model.ckpt.\n",
      "INFO:tensorflow:Skip the current checkpoint eval due to throttle secs (10 secs).\n",
      "INFO:tensorflow:global_step/sec: 344.907\n",
      "INFO:tensorflow:loss = 0.011034679, step = 16901 (0.289 sec)\n",
      "INFO:tensorflow:Saving checkpoints for 17000 into ./model/model.ckpt.\n",
      "INFO:tensorflow:Skip the current checkpoint eval due to throttle secs (10 secs).\n",
      "INFO:tensorflow:global_step/sec: 431.763\n",
      "INFO:tensorflow:loss = 6.52853e-05, step = 17001 (0.232 sec)\n",
      "INFO:tensorflow:Saving checkpoints for 17100 into ./model/model.ckpt.\n",
      "INFO:tensorflow:Skip the current checkpoint eval due to throttle secs (10 secs).\n",
      "INFO:tensorflow:global_step/sec: 426.874\n",
      "INFO:tensorflow:loss = 0.0026350012, step = 17101 (0.234 sec)\n",
      "INFO:tensorflow:Saving checkpoints for 17200 into ./model/model.ckpt.\n",
      "INFO:tensorflow:Skip the current checkpoint eval due to throttle secs (10 secs).\n",
      "INFO:tensorflow:global_step/sec: 432.968\n",
      "INFO:tensorflow:loss = 0.007870833, step = 17201 (0.231 sec)\n",
      "INFO:tensorflow:Saving checkpoints for 17300 into ./model/model.ckpt.\n",
      "INFO:tensorflow:Skip the current checkpoint eval due to throttle secs (10 secs).\n",
      "INFO:tensorflow:global_step/sec: 458.785\n",
      "INFO:tensorflow:loss = 5.3092714e-05, step = 17301 (0.217 sec)\n",
      "INFO:tensorflow:Saving checkpoints for 17400 into ./model/model.ckpt.\n",
      "INFO:tensorflow:Skip the current checkpoint eval due to throttle secs (10 secs).\n",
      "INFO:tensorflow:global_step/sec: 455.261\n",
      "INFO:tensorflow:loss = 0.0026741643, step = 17401 (0.220 sec)\n",
      "INFO:tensorflow:Saving checkpoints for 17500 into ./model/model.ckpt.\n",
      "INFO:tensorflow:Skip the current checkpoint eval due to throttle secs (10 secs).\n",
      "INFO:tensorflow:global_step/sec: 468.189\n",
      "INFO:tensorflow:loss = 0.008606378, step = 17501 (0.214 sec)\n",
      "INFO:tensorflow:Saving checkpoints for 17600 into ./model/model.ckpt.\n",
      "INFO:tensorflow:Skip the current checkpoint eval due to throttle secs (10 secs).\n",
      "INFO:tensorflow:global_step/sec: 485.873\n",
      "INFO:tensorflow:loss = 3.9900056e-05, step = 17601 (0.206 sec)\n",
      "INFO:tensorflow:Saving checkpoints for 17700 into ./model/model.ckpt.\n",
      "INFO:tensorflow:Skip the current checkpoint eval due to throttle secs (10 secs).\n",
      "INFO:tensorflow:global_step/sec: 439.065\n",
      "INFO:tensorflow:loss = 0.0031595514, step = 17701 (0.228 sec)\n",
      "INFO:tensorflow:Saving checkpoints for 17800 into ./model/model.ckpt.\n",
      "INFO:tensorflow:Skip the current checkpoint eval due to throttle secs (10 secs).\n",
      "INFO:tensorflow:global_step/sec: 376.384\n"
     ]
    },
    {
     "name": "stdout",
     "output_type": "stream",
     "text": [
      "INFO:tensorflow:loss = 0.005578086, step = 17801 (0.266 sec)\n",
      "INFO:tensorflow:Saving checkpoints for 17900 into ./model/model.ckpt.\n",
      "INFO:tensorflow:Skip the current checkpoint eval due to throttle secs (10 secs).\n",
      "INFO:tensorflow:global_step/sec: 377.993\n",
      "INFO:tensorflow:loss = 3.6564223e-05, step = 17901 (0.265 sec)\n",
      "INFO:tensorflow:Saving checkpoints for 18000 into ./model/model.ckpt.\n",
      "INFO:tensorflow:Skip the current checkpoint eval due to throttle secs (10 secs).\n",
      "INFO:tensorflow:global_step/sec: 277.783\n",
      "INFO:tensorflow:loss = 0.0018612951, step = 18001 (0.361 sec)\n",
      "INFO:tensorflow:Saving checkpoints for 18100 into ./model/model.ckpt.\n",
      "INFO:tensorflow:Skip the current checkpoint eval due to throttle secs (10 secs).\n",
      "INFO:tensorflow:global_step/sec: 333.755\n",
      "INFO:tensorflow:loss = 0.005983887, step = 18101 (0.299 sec)\n",
      "INFO:tensorflow:Saving checkpoints for 18200 into ./model/model.ckpt.\n",
      "INFO:tensorflow:Skip the current checkpoint eval due to throttle secs (10 secs).\n",
      "INFO:tensorflow:Calling model_fn.\n",
      "INFO:tensorflow:Done calling model_fn.\n",
      "INFO:tensorflow:Starting evaluation at 2021-03-10T21:46:39Z\n",
      "INFO:tensorflow:Graph was finalized.\n",
      "INFO:tensorflow:Restoring parameters from ./model/model.ckpt-18200\n",
      "INFO:tensorflow:Running local_init_op.\n",
      "INFO:tensorflow:Done running local_init_op.\n",
      "INFO:tensorflow:Evaluation [10/100]\n",
      "INFO:tensorflow:Evaluation [20/100]\n",
      "INFO:tensorflow:Evaluation [30/100]\n",
      "INFO:tensorflow:Evaluation [40/100]\n",
      "INFO:tensorflow:Evaluation [50/100]\n",
      "INFO:tensorflow:Evaluation [60/100]\n",
      "INFO:tensorflow:Evaluation [70/100]\n",
      "INFO:tensorflow:Evaluation [80/100]\n",
      "INFO:tensorflow:Evaluation [90/100]\n",
      "INFO:tensorflow:Evaluation [100/100]\n",
      "INFO:tensorflow:Finished evaluation at 2021-03-10-21:46:39\n",
      "INFO:tensorflow:Saving dict for global step 18200: accuracy = 1.0, global_step = 18200, loss = 0.001147564, precision = 1.0, recall = 1.0\n",
      "INFO:tensorflow:Saving 'checkpoint_path' summary for global step 18200: ./model/model.ckpt-18200\n",
      "INFO:tensorflow:Loss for final step: 4.3958272e-07.\n"
     ]
    },
    {
     "data": {
      "text/plain": [
       "({'accuracy': 1.0,\n",
       "  'global_step': 18200,\n",
       "  'loss': 0.001147564,\n",
       "  'precision': 1.0,\n",
       "  'recall': 1.0},\n",
       " [])"
      ]
     },
     "execution_count": 12,
     "metadata": {},
     "output_type": "execute_result"
    }
   ],
   "source": [
    "train_spec = tf.estimator.TrainSpec(\n",
    "    input_fn=input_fn_builder(train_path, batch_size=BATCH_SIZE, epochs=EPOCHS), \n",
    "    max_steps=20000,\n",
    ")\n",
    "eval_spec = tf.estimator.EvalSpec(\n",
    "    input_fn=input_fn_builder(test_path, batch_size=BATCH_SIZE, epochs=EPOCHS), \n",
    "    throttle_secs=10,\n",
    ")\n",
    "tf.estimator.train_and_evaluate(\n",
    "    estimator,\n",
    "    train_spec,\n",
    "    eval_spec\n",
    ")"
   ]
  },
  {
   "cell_type": "markdown",
   "metadata": {
    "ExecuteTime": {
     "end_time": "2021-03-10T08:49:27.564997Z",
     "start_time": "2021-03-10T08:49:27.559367Z"
    }
   },
   "source": [
    "### 常见问题"
   ]
  },
  {
   "cell_type": "markdown",
   "metadata": {},
   "source": [
    "#### INFO:tensorflow:Skip the current checkpoint eval due to throttle secs (600 secs).\n"
   ]
  },
  {
   "cell_type": "markdown",
   "metadata": {
    "ExecuteTime": {
     "end_time": "2021-03-10T08:56:12.274606Z",
     "start_time": "2021-03-10T08:56:12.266689Z"
    }
   },
   "source": [
    "如果出现这个报错，可能是因为 throttle secs 设置的太小。 \n",
    "\n",
    "tensorflow 会在保存 checkpoint 的时候进行 evalute，而 throttle secs 是两次 evaluate 间的最小间隔\n",
    "\n",
    "如果 throttle secs 设置太大，导致 checkpoint 保存时还没有经过 throttle secs 这么多的时间，所以就会跳过 evalute 的步骤。\n",
    "\n",
    "而 tensorflow estiamtor 默认的 throttle secs 是 600s 也就是 10min，对于一些训练比较快的网络来说，可能会出现 `INFO:tensorflow:Skip the current checkpoint eval due to throttle secs (600 secs)` 的报错。\n",
    "        \n",
    "解决方式是将 throttle secs 变小一些"
   ]
  },
  {
   "cell_type": "code",
   "execution_count": 13,
   "metadata": {
    "ExecuteTime": {
     "end_time": "2021-03-10T13:46:47.129444Z",
     "start_time": "2021-03-10T13:46:39.719718Z"
    }
   },
   "outputs": [
    {
     "name": "stdout",
     "output_type": "stream",
     "text": [
      "INFO:tensorflow:Not using Distribute Coordinator.\n",
      "INFO:tensorflow:Running training and evaluation locally (non-distributed).\n",
      "INFO:tensorflow:Start train and evaluate loop. The evaluate will happen after every checkpoint. Checkpoint frequency is determined based on RunConfig arguments: save_checkpoints_steps 100 or save_checkpoints_secs None.\n",
      "INFO:tensorflow:Calling model_fn.\n",
      "INFO:tensorflow:Done calling model_fn.\n",
      "INFO:tensorflow:Create CheckpointSaverHook.\n",
      "INFO:tensorflow:Graph was finalized.\n",
      "INFO:tensorflow:Restoring parameters from ./model/model.ckpt-18200\n",
      "INFO:tensorflow:Running local_init_op.\n",
      "INFO:tensorflow:Done running local_init_op.\n",
      "INFO:tensorflow:Saving checkpoints for 18200 into ./model/model.ckpt.\n",
      "INFO:tensorflow:loss = 3.137398e-05, step = 18201\n",
      "INFO:tensorflow:Saving checkpoints for 18300 into ./model/model.ckpt.\n",
      "INFO:tensorflow:Calling model_fn.\n",
      "INFO:tensorflow:Done calling model_fn.\n",
      "INFO:tensorflow:Starting evaluation at 2021-03-10T21:46:41Z\n",
      "INFO:tensorflow:Graph was finalized.\n",
      "INFO:tensorflow:Restoring parameters from ./model/model.ckpt-18300\n",
      "INFO:tensorflow:Running local_init_op.\n",
      "INFO:tensorflow:Done running local_init_op.\n",
      "INFO:tensorflow:Evaluation [10/100]\n",
      "INFO:tensorflow:Evaluation [20/100]\n",
      "INFO:tensorflow:Evaluation [30/100]\n",
      "INFO:tensorflow:Evaluation [40/100]\n",
      "INFO:tensorflow:Evaluation [50/100]\n",
      "INFO:tensorflow:Evaluation [60/100]\n",
      "INFO:tensorflow:Evaluation [70/100]\n",
      "INFO:tensorflow:Evaluation [80/100]\n",
      "INFO:tensorflow:Evaluation [90/100]\n",
      "INFO:tensorflow:Evaluation [100/100]\n",
      "INFO:tensorflow:Finished evaluation at 2021-03-10-21:46:41\n",
      "INFO:tensorflow:Saving dict for global step 18300: accuracy = 1.0, global_step = 18300, loss = 0.0011498659, precision = 1.0, recall = 1.0\n",
      "INFO:tensorflow:Saving 'checkpoint_path' summary for global step 18300: ./model/model.ckpt-18300\n",
      "INFO:tensorflow:global_step/sec: 115.416\n",
      "INFO:tensorflow:loss = 0.0014757899, step = 18301 (0.867 sec)\n",
      "INFO:tensorflow:Saving checkpoints for 18400 into ./model/model.ckpt.\n",
      "INFO:tensorflow:Skip the current checkpoint eval due to throttle secs (10 secs).\n",
      "INFO:tensorflow:global_step/sec: 423.392\n",
      "INFO:tensorflow:loss = 0.0045210146, step = 18401 (0.236 sec)\n",
      "INFO:tensorflow:Saving checkpoints for 18500 into ./model/model.ckpt.\n",
      "INFO:tensorflow:Skip the current checkpoint eval due to throttle secs (10 secs).\n",
      "INFO:tensorflow:global_step/sec: 378.151\n",
      "INFO:tensorflow:loss = 2.4299075e-05, step = 18501 (0.264 sec)\n",
      "INFO:tensorflow:Saving checkpoints for 18600 into ./model/model.ckpt.\n",
      "INFO:tensorflow:Skip the current checkpoint eval due to throttle secs (10 secs).\n",
      "INFO:tensorflow:global_step/sec: 409.896\n",
      "INFO:tensorflow:loss = 0.0017499904, step = 18601 (0.244 sec)\n",
      "INFO:tensorflow:Saving checkpoints for 18700 into ./model/model.ckpt.\n",
      "INFO:tensorflow:Skip the current checkpoint eval due to throttle secs (10 secs).\n",
      "INFO:tensorflow:global_step/sec: 310.877\n",
      "INFO:tensorflow:loss = 0.003577829, step = 18701 (0.322 sec)\n",
      "INFO:tensorflow:Saving checkpoints for 18800 into ./model/model.ckpt.\n",
      "INFO:tensorflow:Skip the current checkpoint eval due to throttle secs (10 secs).\n",
      "INFO:tensorflow:global_step/sec: 339.516\n",
      "INFO:tensorflow:loss = 2.2332853e-05, step = 18801 (0.294 sec)\n",
      "INFO:tensorflow:Saving checkpoints for 18900 into ./model/model.ckpt.\n",
      "INFO:tensorflow:Skip the current checkpoint eval due to throttle secs (10 secs).\n",
      "INFO:tensorflow:global_step/sec: 294.332\n",
      "INFO:tensorflow:loss = 0.0010836658, step = 18901 (0.341 sec)\n",
      "INFO:tensorflow:Saving checkpoints for 19000 into ./model/model.ckpt.\n",
      "INFO:tensorflow:Skip the current checkpoint eval due to throttle secs (10 secs).\n",
      "INFO:tensorflow:global_step/sec: 310.164\n",
      "INFO:tensorflow:loss = 0.0046950434, step = 19001 (0.321 sec)\n",
      "INFO:tensorflow:Saving checkpoints for 19100 into ./model/model.ckpt.\n",
      "INFO:tensorflow:Skip the current checkpoint eval due to throttle secs (10 secs).\n",
      "INFO:tensorflow:global_step/sec: 310.105\n",
      "INFO:tensorflow:loss = 1.7603244e-05, step = 19101 (0.322 sec)\n",
      "INFO:tensorflow:Saving checkpoints for 19200 into ./model/model.ckpt.\n",
      "INFO:tensorflow:Skip the current checkpoint eval due to throttle secs (10 secs).\n",
      "INFO:tensorflow:global_step/sec: 280.482\n",
      "INFO:tensorflow:loss = 0.0012515436, step = 19201 (0.357 sec)\n",
      "INFO:tensorflow:Saving checkpoints for 19300 into ./model/model.ckpt.\n",
      "INFO:tensorflow:Skip the current checkpoint eval due to throttle secs (10 secs).\n",
      "INFO:tensorflow:global_step/sec: 297.224\n",
      "INFO:tensorflow:loss = 0.0029756208, step = 19301 (0.336 sec)\n",
      "INFO:tensorflow:Saving checkpoints for 19400 into ./model/model.ckpt.\n",
      "INFO:tensorflow:Skip the current checkpoint eval due to throttle secs (10 secs).\n",
      "INFO:tensorflow:global_step/sec: 303.708\n",
      "INFO:tensorflow:loss = 1.3178687e-05, step = 19401 (0.329 sec)\n",
      "INFO:tensorflow:Saving checkpoints for 19500 into ./model/model.ckpt.\n",
      "INFO:tensorflow:Skip the current checkpoint eval due to throttle secs (10 secs).\n",
      "INFO:tensorflow:global_step/sec: 337.93\n",
      "INFO:tensorflow:loss = 0.0009194782, step = 19501 (0.295 sec)\n",
      "INFO:tensorflow:Saving checkpoints for 19600 into ./model/model.ckpt.\n",
      "INFO:tensorflow:Skip the current checkpoint eval due to throttle secs (10 secs).\n",
      "INFO:tensorflow:global_step/sec: 432.975\n",
      "INFO:tensorflow:loss = 0.0024171392, step = 19601 (0.231 sec)\n",
      "INFO:tensorflow:Saving checkpoints for 19700 into ./model/model.ckpt.\n",
      "INFO:tensorflow:Skip the current checkpoint eval due to throttle secs (10 secs).\n",
      "INFO:tensorflow:global_step/sec: 408.749\n",
      "INFO:tensorflow:loss = 1.0772611e-05, step = 19701 (0.245 sec)\n",
      "INFO:tensorflow:Saving checkpoints for 19800 into ./model/model.ckpt.\n",
      "INFO:tensorflow:Skip the current checkpoint eval due to throttle secs (10 secs).\n",
      "INFO:tensorflow:global_step/sec: 433.843\n",
      "INFO:tensorflow:loss = 0.0008252074, step = 19801 (0.230 sec)\n",
      "INFO:tensorflow:Saving checkpoints for 19900 into ./model/model.ckpt.\n",
      "INFO:tensorflow:Skip the current checkpoint eval due to throttle secs (10 secs).\n",
      "INFO:tensorflow:global_step/sec: 452.722\n",
      "INFO:tensorflow:loss = 0.0018225856, step = 19901 (0.221 sec)\n",
      "INFO:tensorflow:Saving checkpoints for 20000 into ./model/model.ckpt.\n",
      "INFO:tensorflow:Skip the current checkpoint eval due to throttle secs (10 secs).\n",
      "INFO:tensorflow:Calling model_fn.\n",
      "INFO:tensorflow:Done calling model_fn.\n",
      "INFO:tensorflow:Starting evaluation at 2021-03-10T21:46:46Z\n",
      "INFO:tensorflow:Graph was finalized.\n",
      "INFO:tensorflow:Restoring parameters from ./model/model.ckpt-20000\n",
      "INFO:tensorflow:Running local_init_op.\n",
      "INFO:tensorflow:Done running local_init_op.\n",
      "INFO:tensorflow:Evaluation [10/100]\n",
      "INFO:tensorflow:Evaluation [20/100]\n",
      "INFO:tensorflow:Evaluation [30/100]\n",
      "INFO:tensorflow:Evaluation [40/100]\n",
      "INFO:tensorflow:Evaluation [50/100]\n",
      "INFO:tensorflow:Evaluation [60/100]\n",
      "INFO:tensorflow:Evaluation [70/100]\n",
      "INFO:tensorflow:Evaluation [80/100]\n",
      "INFO:tensorflow:Evaluation [90/100]\n",
      "INFO:tensorflow:Evaluation [100/100]\n",
      "INFO:tensorflow:Finished evaluation at 2021-03-10-21:46:47\n",
      "INFO:tensorflow:Saving dict for global step 20000: accuracy = 1.0, global_step = 20000, loss = 0.0004243722, precision = 1.0, recall = 1.0\n",
      "INFO:tensorflow:Saving 'checkpoint_path' summary for global step 20000: ./model/model.ckpt-20000\n",
      "INFO:tensorflow:Loss for final step: 1.4901144e-07.\n"
     ]
    },
    {
     "data": {
      "text/plain": [
       "({'accuracy': 1.0,\n",
       "  'global_step': 20000,\n",
       "  'loss': 0.0004243722,\n",
       "  'precision': 1.0,\n",
       "  'recall': 1.0},\n",
       " [])"
      ]
     },
     "execution_count": 13,
     "metadata": {},
     "output_type": "execute_result"
    }
   ],
   "source": [
    "train_spec = tf.estimator.TrainSpec(\n",
    "    input_fn=input_fn_builder(train_path, batch_size=BATCH_SIZE, epochs=EPOCHS), \n",
    "    max_steps=20000,\n",
    ")\n",
    "eval_spec = tf.estimator.EvalSpec(\n",
    "    input_fn=input_fn_builder(test_path, batch_size=BATCH_SIZE, epochs=EPOCHS), \n",
    "    throttle_secs=10,\n",
    ")\n",
    "tf.estimator.train_and_evaluate(\n",
    "    estimator,\n",
    "    train_spec,\n",
    "    eval_spec\n",
    ")"
   ]
  },
  {
   "cell_type": "markdown",
   "metadata": {},
   "source": [
    "## serving"
   ]
  },
  {
   "cell_type": "markdown",
   "metadata": {},
   "source": [
    "tensorflow 使用 pb 模型格式作为 serving 的模型。而 train 和 test 还都是 checkpoint 格式的数据，需要将我们 train 出来的 checkpoint 格式的数据转换为 pb 格式的数据。\n",
    "\n",
    "`tf.estimator` 提供了 `tf.estimator.export_savedmodel` 这个函数来实现上面的功能，它做了下面的几件事\n",
    "\n",
    "1. 增加placeholders到graph中，serving系统在获得inference请求时会进行feed数据\n",
    "\n",
    "2. 增加了额外ops：可以将原有输入格式的数据转换成模型所需特征tensors"
   ]
  },
  {
   "cell_type": "markdown",
   "metadata": {},
   "source": [
    "### 定义 serving 层"
   ]
  },
  {
   "cell_type": "markdown",
   "metadata": {},
   "source": [
    "#### tf.estimator.export.ServingInputReceiver"
   ]
  },
  {
   "cell_type": "code",
   "execution_count": 14,
   "metadata": {
    "ExecuteTime": {
     "end_time": "2021-03-10T13:46:47.141040Z",
     "start_time": "2021-03-10T13:46:47.130947Z"
    }
   },
   "outputs": [],
   "source": [
    "def serving_input_receiver_fn():\n",
    "    input_str = tf.placeholder(tf.string,name='inputs')\n",
    "    \n",
    "    # 在这里的处理方式，根据输入的不同，处理方式 会不同，我这里只是demo\n",
    "    line = tf.string_split(input_str,',').values \n",
    "    features = {\n",
    "      'SepalLength': tf.string_to_number([line[0]], tf.float32),\n",
    "      'SepalWidth': tf.string_to_number([line[1]], tf.float32),\n",
    "      'PetalLength':  tf.string_to_number([line[2]], tf.float32),\n",
    "      'PetalWidth': tf.string_to_number([line[3]], tf.float32)\n",
    "    }   \n",
    "    \n",
    "    receiver_tensors = {'inputs': input_str}\n",
    "\n",
    "    return tf.estimator.export.ServingInputReceiver(features, receiver_tensors)"
   ]
  },
  {
   "cell_type": "markdown",
   "metadata": {},
   "source": [
    "上面的例子中，有 receiver_tensors 和 features，其中 reciever_tensors 是我们的输入，而 reciever_tensors 是模型的输入。 `serving_input_receiver_fn` 的第二个作用就是编写将 receiver_tensors 变成 features 的逻辑。"
   ]
  },
  {
   "cell_type": "markdown",
   "metadata": {},
   "source": [
    "#### tf.estimator.export.build_raw_serving_input_receiver_fn"
   ]
  },
  {
   "cell_type": "markdown",
   "metadata": {},
   "source": [
    "如果我们的输入不需要经过处理，那么可以简单的使用 `tf.estimator.export.build_raw_serving_input_receiver_fn` 函数"
   ]
  },
  {
   "cell_type": "code",
   "execution_count": 15,
   "metadata": {
    "ExecuteTime": {
     "end_time": "2021-03-10T13:46:47.153673Z",
     "start_time": "2021-03-10T13:46:47.142848Z"
    }
   },
   "outputs": [],
   "source": [
    "def raw_serving_input_fn():\n",
    "    SepalLength = tf.placeholder(tf.float32, [None], name='SepalLength')\n",
    "    SepalWidth = tf.placeholder(tf.float32, [None], name='SepalWidth')\n",
    "    PetalLength = tf.placeholder(tf.float32, [None], name='PetalLength')\n",
    "    PetalWidth = tf.placeholder(tf.float32, [None], name='PetalWidth')\n",
    "    input_fn = tf.estimator.export.build_raw_serving_input_receiver_fn({\n",
    "        'SepalLength': SepalLength,\n",
    "        'SepalWidth': SepalWidth,\n",
    "        'PetalLength': PetalLength,\n",
    "        'PetalWidth': PetalWidth,\n",
    "    })()\n",
    "    return input_fn"
   ]
  },
  {
   "cell_type": "markdown",
   "metadata": {},
   "source": [
    "### 导出模型"
   ]
  },
  {
   "cell_type": "code",
   "execution_count": 16,
   "metadata": {
    "ExecuteTime": {
     "end_time": "2021-03-10T13:46:47.388156Z",
     "start_time": "2021-03-10T13:46:47.155761Z"
    }
   },
   "outputs": [
    {
     "name": "stdout",
     "output_type": "stream",
     "text": [
      "WARNING:tensorflow:From <ipython-input-16-a432eefc665d>:1: Estimator.export_savedmodel (from tensorflow_estimator.python.estimator.estimator) is deprecated and will be removed in a future version.\n",
      "Instructions for updating:\n",
      "This function has been renamed, use `export_saved_model` instead.\n",
      "INFO:tensorflow:Calling model_fn.\n",
      "INFO:tensorflow:Done calling model_fn.\n",
      "WARNING:tensorflow:From /anaconda3/envs/tensorflow1.15/lib/python3.6/site-packages/tensorflow_core/python/saved_model/signature_def_utils_impl.py:201: build_tensor_info (from tensorflow.python.saved_model.utils_impl) is deprecated and will be removed in a future version.\n",
      "Instructions for updating:\n",
      "This function will only be available through the v1 compatibility library as tf.compat.v1.saved_model.utils.build_tensor_info or tf.compat.v1.saved_model.build_tensor_info.\n",
      "INFO:tensorflow:Signatures INCLUDED in export for Classify: None\n",
      "INFO:tensorflow:Signatures INCLUDED in export for Regress: None\n",
      "INFO:tensorflow:Signatures INCLUDED in export for Predict: ['serving_default']\n",
      "INFO:tensorflow:Signatures INCLUDED in export for Train: None\n",
      "INFO:tensorflow:Signatures INCLUDED in export for Eval: None\n",
      "INFO:tensorflow:Restoring parameters from ./model/model.ckpt-20000\n",
      "INFO:tensorflow:Assets added to graph.\n",
      "INFO:tensorflow:No assets to write.\n",
      "INFO:tensorflow:SavedModel written to: export_base/iris/temp-b'1615384007'/saved_model.pb\n"
     ]
    },
    {
     "data": {
      "text/plain": [
       "b'export_base/iris/1615384007'"
      ]
     },
     "execution_count": 16,
     "metadata": {},
     "output_type": "execute_result"
    }
   ],
   "source": [
    "estimator.export_savedmodel('export_base/iris', serving_input_receiver_fn=raw_serving_input_fn)"
   ]
  },
  {
   "cell_type": "markdown",
   "metadata": {},
   "source": [
    "可以看到，export_base/iris 目录下多了一个 1611673453 目录，这个目录中存放这 pb 文件和 variables 文件"
   ]
  },
  {
   "cell_type": "code",
   "execution_count": 17,
   "metadata": {
    "ExecuteTime": {
     "end_time": "2021-03-10T13:46:47.525467Z",
     "start_time": "2021-03-10T13:46:47.391029Z"
    }
   },
   "outputs": [
    {
     "name": "stdout",
     "output_type": "stream",
     "text": [
      "\u001b[01;34mexport_base/iris\u001b[00m\r\n",
      "├── \u001b[01;34m1615303044\u001b[00m\r\n",
      "│   ├── saved_model.pb\r\n",
      "│   └── \u001b[01;34mvariables\u001b[00m\r\n",
      "│       ├── variables.data-00000-of-00001\r\n",
      "│       └── variables.index\r\n",
      "├── \u001b[01;34m1615303276\u001b[00m\r\n",
      "│   ├── saved_model.pb\r\n",
      "│   └── \u001b[01;34mvariables\u001b[00m\r\n",
      "│       ├── variables.data-00000-of-00001\r\n",
      "│       └── variables.index\r\n",
      "├── \u001b[01;34m1615356142\u001b[00m\r\n",
      "│   ├── saved_model.pb\r\n",
      "│   └── \u001b[01;34mvariables\u001b[00m\r\n",
      "│       ├── variables.data-00000-of-00001\r\n",
      "│       └── variables.index\r\n",
      "├── \u001b[01;34m1615366653\u001b[00m\r\n",
      "│   ├── saved_model.pb\r\n",
      "│   └── \u001b[01;34mvariables\u001b[00m\r\n",
      "│       ├── variables.data-00000-of-00001\r\n",
      "│       └── variables.index\r\n",
      "└── \u001b[01;34m1615384007\u001b[00m\r\n",
      "    ├── saved_model.pb\r\n",
      "    └── \u001b[01;34mvariables\u001b[00m\r\n",
      "        ├── variables.data-00000-of-00001\r\n",
      "        └── variables.index\r\n",
      "\r\n",
      "10 directories, 15 files\r\n"
     ]
    }
   ],
   "source": [
    "!tree export_base/iris"
   ]
  },
  {
   "cell_type": "markdown",
   "metadata": {},
   "source": [
    "### 使用 saved_model_cli"
   ]
  },
  {
   "cell_type": "code",
   "execution_count": 18,
   "metadata": {
    "ExecuteTime": {
     "end_time": "2021-03-10T13:46:50.017152Z",
     "start_time": "2021-03-10T13:46:47.527982Z"
    }
   },
   "outputs": [
    {
     "name": "stdout",
     "output_type": "stream",
     "text": [
      "Traceback (most recent call last):\r\n",
      "  File \"/anaconda3/envs/tensorflow1.15/bin/saved_model_cli\", line 11, in <module>\r\n",
      "    sys.exit(main())\r\n",
      "  File \"/anaconda3/envs/tensorflow1.15/lib/python3.6/site-packages/tensorflow_core/python/tools/saved_model_cli.py\", line 990, in main\r\n",
      "    args.func(args)\r\n",
      "  File \"/anaconda3/envs/tensorflow1.15/lib/python3.6/site-packages/tensorflow_core/python/tools/saved_model_cli.py\", line 691, in show\r\n",
      "    _show_all(args.dir)\r\n",
      "  File \"/anaconda3/envs/tensorflow1.15/lib/python3.6/site-packages/tensorflow_core/python/tools/saved_model_cli.py\", line 272, in _show_all\r\n",
      "    tag_sets = saved_model_utils.get_saved_model_tag_sets(saved_model_dir)\r\n",
      "  File \"/anaconda3/envs/tensorflow1.15/lib/python3.6/site-packages/tensorflow_core/python/tools/saved_model_utils.py\", line 88, in get_saved_model_tag_sets\r\n",
      "    saved_model = read_saved_model(saved_model_dir)\r\n",
      "  File \"/anaconda3/envs/tensorflow1.15/lib/python3.6/site-packages/tensorflow_core/python/tools/saved_model_utils.py\", line 55, in read_saved_model\r\n",
      "    raise IOError(\"SavedModel file does not exist at: %s\" % saved_model_dir)\r\n",
      "OSError: SavedModel file does not exist at: export_base/iris/1611673453\r\n"
     ]
    }
   ],
   "source": [
    "!saved_model_cli show --dir export_base/iris/1611673453 --all"
   ]
  },
  {
   "cell_type": "markdown",
   "metadata": {},
   "source": [
    "使用 saved_model_cli 还可以用一组输入进行测试"
   ]
  },
  {
   "cell_type": "code",
   "execution_count": 19,
   "metadata": {
    "ExecuteTime": {
     "end_time": "2021-03-10T13:46:51.575119Z",
     "start_time": "2021-03-10T13:46:50.019010Z"
    }
   },
   "outputs": [
    {
     "name": "stdout",
     "output_type": "stream",
     "text": [
      "Traceback (most recent call last):\r\n",
      "  File \"/anaconda3/envs/tensorflow1.15/bin/saved_model_cli\", line 11, in <module>\r\n",
      "    sys.exit(main())\r\n",
      "  File \"/anaconda3/envs/tensorflow1.15/lib/python3.6/site-packages/tensorflow_core/python/tools/saved_model_cli.py\", line 990, in main\r\n",
      "    args.func(args)\r\n",
      "  File \"/anaconda3/envs/tensorflow1.15/lib/python3.6/site-packages/tensorflow_core/python/tools/saved_model_cli.py\", line 724, in run\r\n",
      "    init_tpu=args.init_tpu, tf_debug=args.tf_debug)\r\n",
      "  File \"/anaconda3/envs/tensorflow1.15/lib/python3.6/site-packages/tensorflow_core/python/tools/saved_model_cli.py\", line 384, in run_saved_model_with_feed_dict\r\n",
      "    tag_set)\r\n",
      "  File \"/anaconda3/envs/tensorflow1.15/lib/python3.6/site-packages/tensorflow_core/python/tools/saved_model_utils.py\", line 113, in get_meta_graph_def\r\n",
      "    saved_model = read_saved_model(saved_model_dir)\r\n",
      "  File \"/anaconda3/envs/tensorflow1.15/lib/python3.6/site-packages/tensorflow_core/python/tools/saved_model_utils.py\", line 55, in read_saved_model\r\n",
      "    raise IOError(\"SavedModel file does not exist at: %s\" % saved_model_dir)\r\n",
      "OSError: SavedModel file does not exist at: export_base/iris/1611673453\r\n"
     ]
    }
   ],
   "source": [
    "!saved_model_cli run --dir export_base/iris/1611673453 \\\n",
    "    --tag_set serve \\\n",
    "    --signature_def \"serving_default\" \\\n",
    "    --input_expr 'SepalLength=[5.1,5.9,6.9];SepalWidth=[3.3,3.0,3.1];PetalLength=[1.7,4.2,5.4];PetalWidth=[0.5,1.5,2.1]'"
   ]
  },
  {
   "cell_type": "code",
   "execution_count": 20,
   "metadata": {
    "ExecuteTime": {
     "end_time": "2021-03-10T13:46:51.582678Z",
     "start_time": "2021-03-10T13:46:51.577202Z"
    }
   },
   "outputs": [
    {
     "ename": "SyntaxError",
     "evalue": "invalid syntax (<ipython-input-20-364fc1d53bb4>, line 1)",
     "output_type": "error",
     "traceback": [
      "\u001b[0;36m  File \u001b[0;32m\"<ipython-input-20-364fc1d53bb4>\"\u001b[0;36m, line \u001b[0;32m1\u001b[0m\n\u001b[0;31m    saved_model_cli run --dir slot_model.savedmodel/1612339274     --tag_set serve     --signature_def \"serving_default\"     --input_expr 'input_ids=[[1,2,3,4,5,6,7,8,9,10]]'\u001b[0m\n\u001b[0m                      ^\u001b[0m\n\u001b[0;31mSyntaxError\u001b[0m\u001b[0;31m:\u001b[0m invalid syntax\n"
     ]
    }
   ],
   "source": [
    "saved_model_cli run --dir slot_model.savedmodel/1612339274 \\\n",
    "    --tag_set serve \\\n",
    "    --signature_def \"serving_default\" \\\n",
    "    --input_expr 'input_ids=[[1,2,3,4,5,6,7,8,9,10]]'"
   ]
  },
  {
   "cell_type": "code",
   "execution_count": null,
   "metadata": {
    "ExecuteTime": {
     "end_time": "2021-03-10T13:46:51.583883Z",
     "start_time": "2021-03-10T13:46:12.418Z"
    }
   },
   "outputs": [],
   "source": [
    "model_path = 'export_base/iris/1608121703'\n",
    "# 2. 使用 tornado/flask\n",
    "# steps：\n",
    "# 1. load model\n",
    "predictor = tf.contrib.predictor.from_saved_model(model_path) # model_path必须指定具体的版本号\n",
    "\n",
    "# 2. predict\n",
    "predict_result = predictor(input_params) # input_params 格式必须 符合 serving_input_receiver_fn中入参\n",
    "                                        #     predict_result 格式和 model_fn中返回格式一致\n",
    "# 3. using tornado\n",
    "class b_vxHandler(tornado.web.RequestHandler): \n",
    "\n",
    "    def post(self, version):\n",
    "        try:\n",
    "            predict_result = predictor(input_params)\n",
    "        except BaseException as err:\n",
    "            self.finish(....)\n",
    "\n",
    "\n",
    "application = tornado.web.Application([\n",
    "    (r\"/b/(?P<version>v\\d+)\", b_vxHandler),\n",
    "])\n",
    "\n",
    "\n",
    "if __name__ == \"__main__\":\n",
    "    # tornado.options.parse_command_line()\n",
    "    application.listen(options.port)\n",
    "    tornado.ioloop.IOLoop.instance().start()"
   ]
  },
  {
   "cell_type": "markdown",
   "metadata": {
    "ExecuteTime": {
     "end_time": "2021-03-10T10:51:33.105783Z",
     "start_time": "2021-03-10T10:51:33.077893Z"
    }
   },
   "source": [
    "## 一些常见参数的设置位置"
   ]
  },
  {
   "cell_type": "markdown",
   "metadata": {
    "ExecuteTime": {
     "end_time": "2021-03-10T10:52:32.018202Z",
     "start_time": "2021-03-10T10:52:32.014011Z"
    }
   },
   "source": [
    "由于 tf.estimator 的封装程度较高，导致有许多参数分别在不同的地方设置，我们挑选一些比较重要的参数，说明它们是如何设置的。"
   ]
  },
  {
   "cell_type": "markdown",
   "metadata": {},
   "source": [
    "### lr"
   ]
  },
  {
   "cell_type": "markdown",
   "metadata": {
    "ExecuteTime": {
     "end_time": "2021-03-10T10:53:03.436321Z",
     "start_time": "2021-03-10T10:53:03.432202Z"
    }
   },
   "source": [
    "这个是在 model_fn 中，创建 train_op 的时候返回的。"
   ]
  },
  {
   "cell_type": "markdown",
   "metadata": {},
   "source": [
    "### epoch 和 batch_size"
   ]
  },
  {
   "cell_type": "markdown",
   "metadata": {
    "ExecuteTime": {
     "end_time": "2021-03-10T10:54:30.707750Z",
     "start_time": "2021-03-10T10:54:30.704299Z"
    }
   },
   "source": [
    "这两个是在 input_fn 中构建数据集的时候设置的，一般会有下面的语句来设置\n",
    "\n",
    "```\n",
    "dataset.repeat(epochs).batch(batch_size)\n",
    "```"
   ]
  },
  {
   "cell_type": "markdown",
   "metadata": {},
   "source": [
    "# References\n",
    "1. [《Estimator工程实现》系列三： SavedModel模型保存导出示例 - 简书](https://www.jianshu.com/p/72058da4d7f7)\n",
    "\n",
    "2. [tensorflow中模型的保存与使用总结 — carlos9310](https://carlos9310.github.io/2019/10/13/tensorflow-model-save-use/#run)\n",
    "\n",
    "3. [TensorFlow之estimator详解 - marsggbo - 博客园](https://www.cnblogs.com/marsggbo/p/11232897.html#%E4%BB%80%E4%B9%88%E6%98%AFtf.estimator.estimatorspec)\n",
    "\n",
    "4. [(1条消息) tf.estimator.train_and_evaluate 详解_黑暗星球-CSDN博客](https://blog.csdn.net/u014061630/article/details/83109642)"
   ]
  }
 ],
 "metadata": {
  "hide_input": false,
  "kernelspec": {
   "display_name": "Python [conda env:tensorflow1.15]",
   "language": "python",
   "name": "conda-env-tensorflow1.15-py"
  },
  "language_info": {
   "codemirror_mode": {
    "name": "ipython",
    "version": 3
   },
   "file_extension": ".py",
   "mimetype": "text/x-python",
   "name": "python",
   "nbconvert_exporter": "python",
   "pygments_lexer": "ipython3",
   "version": "3.6.2"
  },
  "toc": {
   "base_numbering": 1,
   "nav_menu": {},
   "number_sections": true,
   "sideBar": true,
   "skip_h1_title": false,
   "title_cell": "Table of Contents",
   "title_sidebar": "Contents",
   "toc_cell": false,
   "toc_position": {
    "height": "calc(100% - 180px)",
    "left": "10px",
    "top": "150px",
    "width": "288px"
   },
   "toc_section_display": true,
   "toc_window_display": true
  },
  "varInspector": {
   "cols": {
    "lenName": 16,
    "lenType": 16,
    "lenVar": 40
   },
   "kernels_config": {
    "python": {
     "delete_cmd_postfix": "",
     "delete_cmd_prefix": "del ",
     "library": "var_list.py",
     "varRefreshCmd": "print(var_dic_list())"
    },
    "r": {
     "delete_cmd_postfix": ") ",
     "delete_cmd_prefix": "rm(",
     "library": "var_list.r",
     "varRefreshCmd": "cat(var_dic_list()) "
    }
   },
   "types_to_exclude": [
    "module",
    "function",
    "builtin_function_or_method",
    "instance",
    "_Feature"
   ],
   "window_display": false
  }
 },
 "nbformat": 4,
 "nbformat_minor": 4
}
