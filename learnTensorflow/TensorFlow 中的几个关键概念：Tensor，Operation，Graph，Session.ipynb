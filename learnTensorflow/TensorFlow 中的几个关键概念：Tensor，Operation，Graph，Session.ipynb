{
 "cells": [
  {
   "cell_type": "code",
   "execution_count": null,
   "metadata": {},
   "outputs": [],
   "source": [
    "[toc]\n",
    "\n",
    "# TensorFlow 中的几个关键概念：Tensor，Operation，Graph，Session\n",
    "\n",
    "前言：TensorFlow是一种符号式编程框架，首先要构造一个图（graph），然后在这个图上做运算。打个比方，graph就像一条生产线，session就像生产者。生产线具有一系列的加工步骤（加减乘除等运算），生产者把原料投进去，就能得到产品。不同生产者都可以使用这条生产线，只要他们的加工步骤是一样的就行。同样的，一个graph可以供多个session使用，而一个session不一定需要使用graph的全部，可以只使用其中的一部分。\n",
    "\n",
    "## 一、Tensorflow的工作流程\n",
    "\n",
    "1.  根据需求，创建计算图Graph\n",
    "2.  开启会话Session，读取数据运行Graph\n",
    "3.  获取结果\n",
    "\n",
    "![](https://pic4.zhimg.com/v2-e922ec623e1c8e0d3721d6f8e37daa53_b.jpg)\n"
   ]
  },
  {
   "cell_type": "markdown",
   "metadata": {},
   "source": [
    "## **二、TensorFlow 几个关键概念：Tensor，Operation，Graph，Session**\n",
    "\n",
    "### 1. Tensor（数据节点）\n",
    "\n",
    "（1）Tensor定义\n",
    "\n",
    "在 TensorFlow 中，所有在节点之间传递的数据都为 Tensor 对象。\n",
    "\n",
    "Tensor定义：A Tensor is a symbolic handle to one of the outputs of an Operation. **It does not hold the values of that operation’s output**, but instead provides a means of computing those values in a TensorFlow tf.Session\n",
    "\n",
    "也就是说，Tensor本身是不存储数据的，创建一个Tensor实际就是声明了一个数据节点。只有开启Session进行运算的时候，才会获取到数据。\n",
    "\n",
    "（2）Tensor的阶\n",
    "\n",
    "如下图所示，Rank为0、1、2时分别称为标量、向量和矩阵，Rank为3时是3阶张量，Rank大于3时是N阶张量。这些标量、向量、矩阵和张量里的元素可以是数组，可以是tensor或者其他python基本数据类型。当所有元素类型一致且均为tensor（数组）时，则可将Rank的阶数当做tensor（数组）的阶数。通常我们讨论的数据类型是指元素的数据类型。\n",
    "\n",
    "![](https://pic4.zhimg.com/v2-d4877269be47ca75b734931aee0ddadb_b.jpg)\n",
    "Tensor的阶数\n",
    "\n",
    "（3）Tensor的几个重要属性\n",
    "\n",
    "shape：类似于Numpy中ndarray.shape，比方说一个2行3列的二维矩阵，他的形状就是2行3列。\n",
    "\n",
    "dtype：类似于Numpy中ndarray.dtype，常用的类型有：\n",
    "\n",
    "> tf.uint8: 8\\-bit unsigned integer.\n",
    "> tf.int32: 32\\-bit signed integer.\n",
    "> tf.int64: 64\\-bit signed integer.\n",
    "> tf.String: String.\n",
    "> tf.float32: 32\\-bit single\\-precision floating\\-point.\n",
    "> tf.float64: 64\\-bit double\\-precision floating\\-point.\n",
    "\n",
    "name：每个Tensor都必须有name属性。在创建Tensor时，如果用户没有指定name，Tensorflow会自动设置；在同一张Graph中，不会有Tensor重名，当用户设定的name重名时，Tensorlfow会自动加入后缀进行区分。\n",
    "\n",
    "（4）几种Tensor\n",
    "\n",
    "*   **常量Tensor**：值不能改变,最常见的常量创建方式为tf.constant(value, dtype=None, shape=None, name=\"Const\", verify\\_shape=False),其中value不可少，verify\\_shape表示常量的形状是否可以被更改，默认不可更改。初此之外还有以下常量的创建方法："
   ]
  },
  {
   "cell_type": "markdown",
   "metadata": {},
   "source": [
    "```\n",
    "# 产生全 0 的张量\n",
    "tensor_a = tf.zeros(shape=[3,4], dtype=tf.float32, name=None)\n",
    "a = tf.zeros_like(tensor_a, dtype=None, name=None)#tensor_a with all elements set to zero.\n",
    "# 产生全 1 的张量\n",
    "tensor_b = tf.ones(shape=[3,4], dtype=tf.float32, name=None)\n",
    "b = tf.ones_like(tensor_b, dtype=None, name=None)\n",
    "# Creates a tensor of shape  and fills it with value\n",
    "#tf.fill(dims, value, name=None)\n",
    "tf.fill([2, 3], 9) ==> [[9, 9, 9]\n",
    "                        [9, 9, 9]]\n",
    "# 产生常量 Tensor, value 值可为 python 标准数据类型、Numpy 等\n",
    "tf.constant(-1.0, shape=[2, 3]) => [[-1., -1., -1.]  # Note: 注意 shape 的用法(广播机制)\n",
    "                                    [-1., -1., -1.]]\n",
    "tf.constant([1,2,3,4,5,6], shape=[2,3]) => [[1, 2, 3]\n",
    "                                            [4, 5, 6]]\n",
    "```"
   ]
  },
  {
   "cell_type": "code",
   "execution_count": 1,
   "metadata": {},
   "outputs": [
    {
     "ename": "SyntaxError",
     "evalue": "invalid character in identifier (<ipython-input-1-b886adc6f38d>, line 1)",
     "output_type": "error",
     "traceback": [
      "\u001b[0;36m  File \u001b[0;32m\"<ipython-input-1-b886adc6f38d>\"\u001b[0;36m, line \u001b[0;32m1\u001b[0m\n\u001b[0;31m    注意：常量tensor无需初始化，可以直接获取tensor的值。\u001b[0m\n\u001b[0m                                   ^\u001b[0m\n\u001b[0;31mSyntaxError\u001b[0m\u001b[0;31m:\u001b[0m invalid character in identifier\n"
     ]
    }
   ],
   "source": [
    "注意：常量tensor无需初始化，可以直接获取tensor的值。\n",
    "但仍然遵循tensorflow的运行机制，即数据只会在session中流动，\n",
    "即无论是初始化赋值还是取出tensor的值都必须在session中执行\n",
    "\n",
    "\n",
    "#### 变量Tensor\n",
    "\n",
    "值可以改变，**可训练**。在神经网络中，变量一般可作为储存权重和其他信息的矩阵，而常量可作为储存超参数或其他结构信息的变量。"
   ]
  },
  {
   "cell_type": "markdown",
   "metadata": {},
   "source": [
    "#### 变量初始化"
   ]
  },
  {
   "cell_type": "markdown",
   "metadata": {},
   "source": [
    "必须初始化变量（将初始值initial_value传给tensor）后才能取出tensor的值，常见的初始化方法如下：\n",
    "\n",
    "1. 全局变量初始化(其实全局变量初始化方法就是将初始值通过变量的assign方法向变量分配值)\n",
    "2. 将一个变量的值赋值给另一个变量；\n",
    "3. 运行变量的初始化函数variable.initializer();\n",
    "4. restore恢复变量值"
   ]
  },
  {
   "cell_type": "code",
   "execution_count": 2,
   "metadata": {},
   "outputs": [
    {
     "name": "stderr",
     "output_type": "stream",
     "text": [
      "/opt/anaconda3/envs/tars/lib/python3.7/site-packages/tensorflow/python/framework/dtypes.py:516: FutureWarning: Passing (type, 1) or '1type' as a synonym of type is deprecated; in a future version of numpy, it will be understood as (type, (1,)) / '(1,)type'.\n",
      "  _np_qint8 = np.dtype([(\"qint8\", np.int8, 1)])\n",
      "/opt/anaconda3/envs/tars/lib/python3.7/site-packages/tensorflow/python/framework/dtypes.py:517: FutureWarning: Passing (type, 1) or '1type' as a synonym of type is deprecated; in a future version of numpy, it will be understood as (type, (1,)) / '(1,)type'.\n",
      "  _np_quint8 = np.dtype([(\"quint8\", np.uint8, 1)])\n",
      "/opt/anaconda3/envs/tars/lib/python3.7/site-packages/tensorflow/python/framework/dtypes.py:518: FutureWarning: Passing (type, 1) or '1type' as a synonym of type is deprecated; in a future version of numpy, it will be understood as (type, (1,)) / '(1,)type'.\n",
      "  _np_qint16 = np.dtype([(\"qint16\", np.int16, 1)])\n",
      "/opt/anaconda3/envs/tars/lib/python3.7/site-packages/tensorflow/python/framework/dtypes.py:519: FutureWarning: Passing (type, 1) or '1type' as a synonym of type is deprecated; in a future version of numpy, it will be understood as (type, (1,)) / '(1,)type'.\n",
      "  _np_quint16 = np.dtype([(\"quint16\", np.uint16, 1)])\n",
      "/opt/anaconda3/envs/tars/lib/python3.7/site-packages/tensorflow/python/framework/dtypes.py:520: FutureWarning: Passing (type, 1) or '1type' as a synonym of type is deprecated; in a future version of numpy, it will be understood as (type, (1,)) / '(1,)type'.\n",
      "  _np_qint32 = np.dtype([(\"qint32\", np.int32, 1)])\n",
      "/opt/anaconda3/envs/tars/lib/python3.7/site-packages/tensorflow/python/framework/dtypes.py:525: FutureWarning: Passing (type, 1) or '1type' as a synonym of type is deprecated; in a future version of numpy, it will be understood as (type, (1,)) / '(1,)type'.\n",
      "  np_resource = np.dtype([(\"resource\", np.ubyte, 1)])\n"
     ]
    },
    {
     "name": "stdout",
     "output_type": "stream",
     "text": [
      "[[-0.30484375 -0.28239942 -0.24617383 ...  0.03378935  0.23692106\n",
      "  -0.30959684]\n",
      " [ 0.02124093 -0.56106323 -0.4319002  ... -0.17990465  0.25717613\n",
      "  -0.75606394]\n",
      " [ 0.06222272  0.46132556  0.16025361 ... -0.3126479   0.01613351\n",
      "   0.3921509 ]\n",
      " ...\n",
      " [-0.39207277 -0.21199372  0.44391528 ...  0.32433954 -0.22668724\n",
      "   0.37477973]\n",
      " [ 0.29704857 -0.5534732  -0.17758574 ...  0.16526787 -0.50276715\n",
      "  -0.21533553]\n",
      " [-0.68663037  0.02550755  0.6820415  ...  0.14728025 -0.24712875\n",
      "   0.6034345 ]] [0. 0. 0. 0. 0. 0. 0. 0. 0. 0. 0. 0. 0. 0. 0. 0. 0. 0. 0. 0. 0. 0. 0. 0.\n",
      " 0. 0. 0. 0. 0. 0. 0. 0. 0. 0. 0. 0. 0. 0. 0. 0. 0. 0. 0. 0. 0. 0. 0. 0.\n",
      " 0. 0. 0. 0. 0. 0. 0. 0. 0. 0. 0. 0. 0. 0. 0. 0. 0. 0. 0. 0. 0. 0. 0. 0.\n",
      " 0. 0. 0. 0. 0. 0. 0. 0. 0. 0. 0. 0. 0. 0. 0. 0. 0. 0. 0. 0. 0. 0. 0. 0.\n",
      " 0. 0. 0. 0. 0. 0. 0. 0. 0. 0. 0. 0. 0. 0. 0. 0. 0. 0. 0. 0. 0. 0. 0. 0.\n",
      " 0. 0. 0. 0. 0. 0. 0. 0. 0. 0. 0. 0. 0. 0. 0. 0. 0. 0. 0. 0. 0. 0. 0. 0.\n",
      " 0. 0. 0. 0. 0. 0. 0. 0. 0. 0. 0. 0. 0. 0. 0. 0. 0. 0. 0. 0. 0. 0. 0. 0.\n",
      " 0. 0. 0. 0. 0. 0. 0. 0. 0. 0. 0. 0. 0. 0. 0. 0. 0. 0. 0. 0. 0. 0. 0. 0.\n",
      " 0. 0. 0. 0. 0. 0. 0. 0.]\n"
     ]
    },
    {
     "name": "stderr",
     "output_type": "stream",
     "text": [
      "/opt/anaconda3/envs/tars/lib/python3.7/site-packages/tensorboard/compat/tensorflow_stub/dtypes.py:541: FutureWarning: Passing (type, 1) or '1type' as a synonym of type is deprecated; in a future version of numpy, it will be understood as (type, (1,)) / '(1,)type'.\n",
      "  _np_qint8 = np.dtype([(\"qint8\", np.int8, 1)])\n",
      "/opt/anaconda3/envs/tars/lib/python3.7/site-packages/tensorboard/compat/tensorflow_stub/dtypes.py:542: FutureWarning: Passing (type, 1) or '1type' as a synonym of type is deprecated; in a future version of numpy, it will be understood as (type, (1,)) / '(1,)type'.\n",
      "  _np_quint8 = np.dtype([(\"quint8\", np.uint8, 1)])\n",
      "/opt/anaconda3/envs/tars/lib/python3.7/site-packages/tensorboard/compat/tensorflow_stub/dtypes.py:543: FutureWarning: Passing (type, 1) or '1type' as a synonym of type is deprecated; in a future version of numpy, it will be understood as (type, (1,)) / '(1,)type'.\n",
      "  _np_qint16 = np.dtype([(\"qint16\", np.int16, 1)])\n",
      "/opt/anaconda3/envs/tars/lib/python3.7/site-packages/tensorboard/compat/tensorflow_stub/dtypes.py:544: FutureWarning: Passing (type, 1) or '1type' as a synonym of type is deprecated; in a future version of numpy, it will be understood as (type, (1,)) / '(1,)type'.\n",
      "  _np_quint16 = np.dtype([(\"quint16\", np.uint16, 1)])\n",
      "/opt/anaconda3/envs/tars/lib/python3.7/site-packages/tensorboard/compat/tensorflow_stub/dtypes.py:545: FutureWarning: Passing (type, 1) or '1type' as a synonym of type is deprecated; in a future version of numpy, it will be understood as (type, (1,)) / '(1,)type'.\n",
      "  _np_qint32 = np.dtype([(\"qint32\", np.int32, 1)])\n",
      "/opt/anaconda3/envs/tars/lib/python3.7/site-packages/tensorboard/compat/tensorflow_stub/dtypes.py:550: FutureWarning: Passing (type, 1) or '1type' as a synonym of type is deprecated; in a future version of numpy, it will be understood as (type, (1,)) / '(1,)type'.\n",
      "  np_resource = np.dtype([(\"resource\", np.ubyte, 1)])\n"
     ]
    }
   ],
   "source": [
    "#1.全局变量初始化：tf.global_variables_initializer()\n",
    "import tensorflow as tf\n",
    "\n",
    "weights = tf.Variable(tf.random_normal([784, 200], stddev=0.35), name=\"weights\")\n",
    "biases = tf.Variable(tf.zeros([200]), name=\"biases\")\n",
    "\n",
    "# Add an Op to initialize global variables.\n",
    "init_op = tf.global_variables_initializer()\n",
    "\n",
    "# Launch the graph in a session.\n",
    "with tf.Session() as sess:\n",
    "    # Run the Op that initializes global variables.\n",
    "    sess.run(init_op)\n",
    "    print(weights.eval(), biases.eval())#初始化成功才能取出tensor的值"
   ]
  },
  {
   "cell_type": "code",
   "execution_count": 3,
   "metadata": {},
   "outputs": [
    {
     "name": "stdout",
     "output_type": "stream",
     "text": [
      "WARNING:tensorflow:From <ipython-input-3-6c33d9ff5fd4>:5: Variable.initialized_value (from tensorflow.python.ops.variables) is deprecated and will be removed in a future version.\n",
      "Instructions for updating:\n",
      "Use Variable.read_value. Variables in 2.X are initialized automatically both in eager and graph (inside tf.defun) contexts.\n",
      "[1. 1. 1.] [1. 1. 1.] [2. 2. 2.]\n"
     ]
    }
   ],
   "source": [
    "#2.将一个变量的值赋值给另一个变量：initialized_value()\n",
    "import tensorflow as tf\n",
    "\n",
    "w = tf.Variable(tf.ones(shape=[3]), name='w')\n",
    "w2 = tf.Variable(w.initialized_value(), name='w2')#用已经初始化的w的值作为w2的初始值\n",
    "w_twice = tf.Variable(w.initialized_value() * 2, name='w_twice')\n",
    "\n",
    "with tf.Session() as sess:\n",
    "    sess.run(tf.global_variables_initializer())#注意这里必须使用全局变量初始化。w，w2，w_twice都只是计算图中的一个op\n",
    "    print(w.eval(), w2.eval(), w_twice.eval())#初始化成功才能取出tensor的值"
   ]
  },
  {
   "cell_type": "code",
   "execution_count": 4,
   "metadata": {},
   "outputs": [
    {
     "name": "stdout",
     "output_type": "stream",
     "text": [
      "[1. 1. 1.]\n"
     ]
    }
   ],
   "source": [
    "#3.运行变量的初始化函数：variable.initializer()\n",
    "import tensorflow as tf\n",
    "\n",
    "w = tf.Variable(tf.ones(shape=[3]), name='w')\n",
    "with tf.Session() as sess:\n",
    "    sess.run(w.initializer)#仅仅初始化w本身，等价于w.initializer.run()\n",
    "    print(w.eval())"
   ]
  },
  {
   "cell_type": "code",
   "execution_count": 5,
   "metadata": {},
   "outputs": [
    {
     "ename": "OSError",
     "evalue": "File ./checkpoints/model.ckpt-999.meta does not exist.",
     "output_type": "error",
     "traceback": [
      "\u001b[0;31m-----------------------------------\u001b[0m",
      "\u001b[0;31mOSError\u001b[0mTraceback (most recent call last)",
      "\u001b[0;32m<ipython-input-5-40c01069ba10>\u001b[0m in \u001b[0;36m<module>\u001b[0;34m\u001b[0m\n\u001b[1;32m      3\u001b[0m \u001b[0;34m\u001b[0m\u001b[0m\n\u001b[1;32m      4\u001b[0m \u001b[0;31m#首先恢复graph\u001b[0m\u001b[0;34m\u001b[0m\u001b[0;34m\u001b[0m\u001b[0;34m\u001b[0m\u001b[0m\n\u001b[0;32m----> 5\u001b[0;31m \u001b[0msaver\u001b[0m \u001b[0;34m=\u001b[0m \u001b[0mtf\u001b[0m\u001b[0;34m.\u001b[0m\u001b[0mtrain\u001b[0m\u001b[0;34m.\u001b[0m\u001b[0mimport_meta_graph\u001b[0m\u001b[0;34m(\u001b[0m\u001b[0;34m'./checkpoints/model.ckpt-999.meta'\u001b[0m\u001b[0;34m)\u001b[0m\u001b[0;34m\u001b[0m\u001b[0;34m\u001b[0m\u001b[0m\n\u001b[0m\u001b[1;32m      6\u001b[0m \u001b[0;32mwith\u001b[0m \u001b[0mtf\u001b[0m\u001b[0;34m.\u001b[0m\u001b[0mSession\u001b[0m\u001b[0;34m(\u001b[0m\u001b[0;34m)\u001b[0m \u001b[0;32mas\u001b[0m \u001b[0msess\u001b[0m\u001b[0;34m:\u001b[0m\u001b[0;34m\u001b[0m\u001b[0;34m\u001b[0m\u001b[0m\n\u001b[1;32m      7\u001b[0m     \u001b[0;31m#恢复最新保存的权重\u001b[0m\u001b[0;34m\u001b[0m\u001b[0;34m\u001b[0m\u001b[0;34m\u001b[0m\u001b[0m\n",
      "\u001b[0;32m/opt/anaconda3/envs/tars/lib/python3.7/site-packages/tensorflow/python/training/saver.py\u001b[0m in \u001b[0;36mimport_meta_graph\u001b[0;34m(meta_graph_or_file, clear_devices, import_scope, **kwargs)\u001b[0m\n\u001b[1;32m   1447\u001b[0m   return _import_meta_graph_with_return_elements(meta_graph_or_file,\n\u001b[1;32m   1448\u001b[0m                                                  \u001b[0mclear_devices\u001b[0m\u001b[0;34m,\u001b[0m \u001b[0mimport_scope\u001b[0m\u001b[0;34m,\u001b[0m\u001b[0;34m\u001b[0m\u001b[0;34m\u001b[0m\u001b[0m\n\u001b[0;32m-> 1449\u001b[0;31m                                                  **kwargs)[0]\n\u001b[0m\u001b[1;32m   1450\u001b[0m \u001b[0;34m\u001b[0m\u001b[0m\n\u001b[1;32m   1451\u001b[0m \u001b[0;34m\u001b[0m\u001b[0m\n",
      "\u001b[0;32m/opt/anaconda3/envs/tars/lib/python3.7/site-packages/tensorflow/python/training/saver.py\u001b[0m in \u001b[0;36m_import_meta_graph_with_return_elements\u001b[0;34m(meta_graph_or_file, clear_devices, import_scope, return_elements, **kwargs)\u001b[0m\n\u001b[1;32m   1461\u001b[0m                        \"execution is enabled.\")\n\u001b[1;32m   1462\u001b[0m   \u001b[0;32mif\u001b[0m \u001b[0;32mnot\u001b[0m \u001b[0misinstance\u001b[0m\u001b[0;34m(\u001b[0m\u001b[0mmeta_graph_or_file\u001b[0m\u001b[0;34m,\u001b[0m \u001b[0mmeta_graph_pb2\u001b[0m\u001b[0;34m.\u001b[0m\u001b[0mMetaGraphDef\u001b[0m\u001b[0;34m)\u001b[0m\u001b[0;34m:\u001b[0m\u001b[0;34m\u001b[0m\u001b[0;34m\u001b[0m\u001b[0m\n\u001b[0;32m-> 1463\u001b[0;31m     \u001b[0mmeta_graph_def\u001b[0m \u001b[0;34m=\u001b[0m \u001b[0mmeta_graph\u001b[0m\u001b[0;34m.\u001b[0m\u001b[0mread_meta_graph_file\u001b[0m\u001b[0;34m(\u001b[0m\u001b[0mmeta_graph_or_file\u001b[0m\u001b[0;34m)\u001b[0m\u001b[0;34m\u001b[0m\u001b[0;34m\u001b[0m\u001b[0m\n\u001b[0m\u001b[1;32m   1464\u001b[0m   \u001b[0;32melse\u001b[0m\u001b[0;34m:\u001b[0m\u001b[0;34m\u001b[0m\u001b[0;34m\u001b[0m\u001b[0m\n\u001b[1;32m   1465\u001b[0m     \u001b[0mmeta_graph_def\u001b[0m \u001b[0;34m=\u001b[0m \u001b[0mmeta_graph_or_file\u001b[0m\u001b[0;34m\u001b[0m\u001b[0;34m\u001b[0m\u001b[0m\n",
      "\u001b[0;32m/opt/anaconda3/envs/tars/lib/python3.7/site-packages/tensorflow/python/framework/meta_graph.py\u001b[0m in \u001b[0;36mread_meta_graph_file\u001b[0;34m(filename)\u001b[0m\n\u001b[1;32m    682\u001b[0m   \u001b[0mmeta_graph_def\u001b[0m \u001b[0;34m=\u001b[0m \u001b[0mmeta_graph_pb2\u001b[0m\u001b[0;34m.\u001b[0m\u001b[0mMetaGraphDef\u001b[0m\u001b[0;34m(\u001b[0m\u001b[0;34m)\u001b[0m\u001b[0;34m\u001b[0m\u001b[0;34m\u001b[0m\u001b[0m\n\u001b[1;32m    683\u001b[0m   \u001b[0;32mif\u001b[0m \u001b[0;32mnot\u001b[0m \u001b[0mfile_io\u001b[0m\u001b[0;34m.\u001b[0m\u001b[0mfile_exists\u001b[0m\u001b[0;34m(\u001b[0m\u001b[0mfilename\u001b[0m\u001b[0;34m)\u001b[0m\u001b[0;34m:\u001b[0m\u001b[0;34m\u001b[0m\u001b[0;34m\u001b[0m\u001b[0m\n\u001b[0;32m--> 684\u001b[0;31m     \u001b[0;32mraise\u001b[0m \u001b[0mIOError\u001b[0m\u001b[0;34m(\u001b[0m\u001b[0;34m\"File %s does not exist.\"\u001b[0m \u001b[0;34m%\u001b[0m \u001b[0mfilename\u001b[0m\u001b[0;34m)\u001b[0m\u001b[0;34m\u001b[0m\u001b[0;34m\u001b[0m\u001b[0m\n\u001b[0m\u001b[1;32m    685\u001b[0m   \u001b[0;31m# First try to read it as a binary file.\u001b[0m\u001b[0;34m\u001b[0m\u001b[0;34m\u001b[0m\u001b[0;34m\u001b[0m\u001b[0m\n\u001b[1;32m    686\u001b[0m   \u001b[0mfile_content\u001b[0m \u001b[0;34m=\u001b[0m \u001b[0mfile_io\u001b[0m\u001b[0;34m.\u001b[0m\u001b[0mFileIO\u001b[0m\u001b[0;34m(\u001b[0m\u001b[0mfilename\u001b[0m\u001b[0;34m,\u001b[0m \u001b[0;34m\"rb\"\u001b[0m\u001b[0;34m)\u001b[0m\u001b[0;34m.\u001b[0m\u001b[0mread\u001b[0m\u001b[0;34m(\u001b[0m\u001b[0;34m)\u001b[0m\u001b[0;34m\u001b[0m\u001b[0;34m\u001b[0m\u001b[0m\n",
      "\u001b[0;31mOSError\u001b[0m: File ./checkpoints/model.ckpt-999.meta does not exist."
     ]
    }
   ],
   "source": [
    "#4.restore恢复变量值\n",
    "import tensorflow as tf\n",
    "\n",
    "#首先恢复graph\n",
    "saver = tf.train.import_meta_graph('./checkpoints/model.ckpt-999.meta')\n",
    "with tf.Session() as sess:\n",
    "    #恢复最新保存的权重\n",
    "    saver.restore(sess, tf.train.latest_checkpoint('./checkpoints'))\n",
    "    #指定一个权重恢复\n",
    "    saver.restore(sess, './checkpoints/model.ckpt-999')#注意不要加文件后缀名"
   ]
  },
  {
   "cell_type": "markdown",
   "metadata": {},
   "source": [
    "\n",
    "### 2. Operation（计算节点）\n",
    "\n",
    "将多个Tensor连接在一起，形成新的Tensor。例如tf.add、tf.mul等操作。tensor在graph上也是一个Operation（简称op）。但凡是op，都需要通过session运行之后，才能得到结果。"
   ]
  },
  {
   "cell_type": "markdown",
   "metadata": {},
   "source": [
    "### 3.Graph（数据节点+计算节点）\n",
    "\n",
    "![](https://pic2.zhimg.com/v2-73c7c6bf327df8edd30cb8dbbd084589_b.jpg)\n",
    "\n",
    "Graph就是由一系列op构成的。具体来说就是由W、b、x等数据节点及Add、MatMul等计算节点共同构成一个Graph。\n",
    "\n",
    "在Tensorflow中，始终存在一个默认的Graph。如果要将Operation添加到默认Graph中，只需要调用定义Operation的函数（例如tf.add()）。\n",
    "\n",
    "如果我们需要定义多个Graph，则需要在with语句中调用Graph.as_default()方法将某个graph设置成默认Graph，于是with语句块中调用的Operation或Tensor将会添加到该Graph中。"
   ]
  },
  {
   "cell_type": "code",
   "execution_count": null,
   "metadata": {},
   "outputs": [],
   "source": [
    "import tensorflow as tf\n",
    "\n",
    "#定义一个图：只有一个图时，这个图就是默认图，所有操作都自动添加到这个图中\n",
    "g = tf.Graph()#tensorflow会默认给我们建立一个graph,这句话可以省略\n",
    "a = tf.constant(2)#将Operation添加到默认Graph中，只需要调用定义Operation的函数\n",
    "\n",
    "print(a.graph)\n",
    "print(tf.get_default_graph()) # 通过调用tf.get_default_graph()访问默认创建的图的位置\n",
    "\n",
    "#定义多个图：需要声明某个操作是定义在哪个图中的\n",
    "g1 = tf.Graph()\n",
    "g2 = tf.Graph()\n",
    "\n",
    "#将某个graph设置成默认Graph，with语句块中调用的Operation或Tensor将会添加到该Graph中\n",
    "with g1.as_default():\n",
    "    x = tf.constant(2)\n",
    "    y = tf.constant(3)\n",
    "    z = tf.add(x, y)\n",
    "    print(x.graph, y.graph, z.graph)\n",
    "    print(tf.get_default_graph())\n",
    "\n",
    "with g2.as_default():\n",
    "    v = tf.constant(4)\n",
    "    u = tf.add(2, v)\n",
    "    print(v.graph, u.graph)\n",
    "    print(tf.get_default_graph())\n",
    "\n",
    "#e不是定义在with语句里面的,e会包含在tensorflow默认创建的图中。也就是说e与a在同一个图中\n",
    "e=tf.constant(value=15)\n",
    "print(e.graph)"
   ]
  },
  {
   "cell_type": "markdown",
   "metadata": {},
   "source": [
    "如果在创建Session时没有指定Graph，则该Session会加载默认Graph。如果创建了多个Graph，则需要创建不同的Session来加载每个Graph，而每个Graph则可以加载在多个Session中进行计算。"
   ]
  },
  {
   "cell_type": "code",
   "execution_count": null,
   "metadata": {},
   "outputs": [],
   "source": [
    "import tensorflow as tf\n",
    "g1 = tf.Graph()\n",
    "with g1.as_default():\n",
    "    c1 = tf.constant([1.0])\n",
    "    \n",
    "\n",
    "with tf.Graph().as_default() as g2:\n",
    "    c2 = tf.constant([2.0])\n",
    "\n",
    "with tf.Session(graph=g1) as sess1:\n",
    "    print(sess1.run(c1))\n",
    "    \n",
    "with tf.Session(graph=g2) as sess2:\n",
    "    print(sess2.run(c2))\n",
    "\n",
    "# result:\n",
    "# [ 1.0 ]\n",
    "# [ 2.0 ]\n",
    "#如果将上面例子的sess1.run(c1)和sess2.run(c2)中的c1和c2交换一下位置，运行会报错。\n",
    "# 因为sess1加载的g1中没有c2这个Tensor，同样地，sess2加载的g2中也没有c1这个Tensor。"
   ]
  },
  {
   "cell_type": "markdown",
   "metadata": {},
   "source": [
    "### 4.Session（对Graph进行计算）\n",
    "\n",
    "Tensorflow先构造Graph，然后开启session在这个Graph上做运算。Graph是由一系列op组成。但凡是op，都需要通过session运行之后，才能得到结果。Session的作用就是执行Operation（Tensor也可以看作一种Operation）。\n",
    "\n",
    "**执行Operation有两种方式：**\n",
    "\n",
    "*   调用Session.run()方法： 该方法的定义如下所示，参数fetches便是一个或者多个Operation或者Tensor。\n",
    "\n",
    "```text\n",
    "tf.Session.run(fetches, feed_dict=None)\n",
    "```\n",
    "\n",
    "*   调用Tensor.eval()方法： 这个方法接收参数session，用于指定在哪个session中计算。该参数默认为None，表示在默认session中计算。设置默认session有两种方式："
   ]
  },
  {
   "cell_type": "code",
   "execution_count": null,
   "metadata": {},
   "outputs": [],
   "source": [
    "#设置默认session的方式一\n",
    "import tensorflow as tf\n",
    "\n",
    "a = tf.constant([1.0, 2.0])\n",
    "b = tf.constant([3.0, 4.0])\n",
    "c = tf.add(a, b)\n",
    "\n",
    "with tf.Session() as sess:\n",
    "    print(c.eval())"
   ]
  },
  {
   "cell_type": "code",
   "execution_count": 6,
   "metadata": {},
   "outputs": [
    {
     "name": "stdout",
     "output_type": "stream",
     "text": [
      "[4. 6.]\n"
     ]
    }
   ],
   "source": [
    "#设置默认session的方式二\n",
    "import tensorflow as tf\n",
    "\n",
    "a = tf.constant([1.0, 2.0])\n",
    "b = tf.constant([3.0, 4.0])\n",
    "c = tf.add(a, b)\n",
    "\n",
    "sess = tf.Session()\n",
    "with sess.as_default():\n",
    "    print(c.eval())\n",
    "sess.close()"
   ]
  },
  {
   "cell_type": "markdown",
   "metadata": {},
   "source": [
    "**session.run()与tensor.eval()都是开启对Graph的计算，下面比较一下两者：**\n",
    "\n",
    "首先，tensor.eval()只适用于tensor。而session.run()不仅适用于tensor，还可用于没有输出的op。对于tensor，调用session.run()与tensor.eval()是等价的。"
   ]
  },
  {
   "cell_type": "code",
   "execution_count": null,
   "metadata": {},
   "outputs": [],
   "source": [
    "import tensorflow as tf\n",
    "t = tf.constant(42.0)\n",
    "sess = tf.Session()\n",
    "# calling t.eval() is equivalent to calling tf.get_default_session().run(t).\n",
    "with sess.as_default():   # or `with sess:` to close on exit\n",
    "    assert sess is tf.get_default_session()\n",
    "    assert t.eval() == sess.run(t)\n",
    "sess.close()"
   ]
  },
  {
   "cell_type": "markdown",
   "metadata": {},
   "source": [
    "其次，你可以使用session.run()在同一步骤中获取许多张量的值，而tensor.eval()却只能一次获得一个张量的值。"
   ]
  },
  {
   "cell_type": "code",
   "execution_count": 7,
   "metadata": {},
   "outputs": [],
   "source": [
    "import tensorflow as tf\n",
    "\n",
    "t = tf.constant(42.0)\n",
    "u = tf.constant(37.0)\n",
    "tu = tf.add(t, u)\n",
    "ut = tf.add(u, t)\n",
    "\n",
    "sess = tf.Session()\n",
    "with sess.as_default():\n",
    "   tu.eval()  # runs one step\n",
    "   ut.eval()  # runs one step\n",
    "   sess.run([tu, ut])  # evaluates both tensors in a single step\n",
    "sess.close()"
   ]
  },
  {
   "cell_type": "markdown",
   "metadata": {},
   "source": [
    "# References\n",
    "\n",
    "[Tensorflow 中eval（）和sess.run()的关系](https://link.zhihu.com/?target=https%3A//blog.csdn.net/zhuiyuanzhongjia/article/details/80463237)\n",
    "\n",
    "[Tensorflow中 Graph和Session的关系](https://link.zhihu.com/?target=https%3A//blog.csdn.net/yanshuai_tek/article/details/78393559)\n",
    "\n",
    "[TensorFlow进阶（三）\\-\\-\\-变量的创建、初始化 \\- 时间&煮雨~ \\- 博客园](https://link.zhihu.com/?target=https%3A//www.cnblogs.com/fwl8888/p/9792706.html)\n",
    "\n",
    "[Tensorflow学习笔记2：About Session, Graph, Operation and Tensor](https://link.zhihu.com/?target=https%3A//www.cnblogs.com/lienhua34/p/5998853.html)\n",
    "\n",
    "[TensorFlow学习笔记1：graph、session和op \\- Jiax \\- 博客园](https://link.zhihu.com/?target=https%3A//www.cnblogs.com/jiaxblog/p/9054051.html)\n",
    "\n",
    "[TensorFlow学习（三）：Graph和Session \\- 谢小小XH \\- CSDN博客](https://link.zhihu.com/?target=https%3A//blog.csdn.net/xierhacker/article/details/53860379)"
   ]
  }
 ],
 "metadata": {
  "kernelspec": {
   "display_name": "Python [conda env:tars]",
   "language": "python",
   "name": "conda-env-tars-py"
  },
  "language_info": {
   "codemirror_mode": {
    "name": "ipython",
    "version": 3
   },
   "file_extension": ".py",
   "mimetype": "text/x-python",
   "name": "python",
   "nbconvert_exporter": "python",
   "pygments_lexer": "ipython3",
   "version": "3.7.9"
  },
  "toc": {
   "base_numbering": 1,
   "nav_menu": {},
   "number_sections": true,
   "sideBar": true,
   "skip_h1_title": false,
   "title_cell": "Table of Contents",
   "title_sidebar": "Contents",
   "toc_cell": false,
   "toc_position": {
    "height": "calc(100% - 180px)",
    "left": "10px",
    "top": "150px",
    "width": "288px"
   },
   "toc_section_display": true,
   "toc_window_display": true
  }
 },
 "nbformat": 4,
 "nbformat_minor": 4
}
