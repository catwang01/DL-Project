{
 "cells": [
  {
   "cell_type": "markdown",
   "metadata": {},
   "source": [
    "[toc]\n",
    "\n",
    "# Tensorflow save and restore"
   ]
  },
  {
   "cell_type": "markdown",
   "metadata": {},
   "source": [
    "## 保存"
   ]
  },
  {
   "cell_type": "markdown",
   "metadata": {},
   "source": [
    "### 简单的保存"
   ]
  },
  {
   "cell_type": "code",
   "execution_count": 1,
   "metadata": {},
   "outputs": [
    {
     "name": "stderr",
     "output_type": "stream",
     "text": [
      "/opt/anaconda3/envs/tars/lib/python3.7/site-packages/tensorflow/python/framework/dtypes.py:516: FutureWarning: Passing (type, 1) or '1type' as a synonym of type is deprecated; in a future version of numpy, it will be understood as (type, (1,)) / '(1,)type'.\n",
      "  _np_qint8 = np.dtype([(\"qint8\", np.int8, 1)])\n",
      "/opt/anaconda3/envs/tars/lib/python3.7/site-packages/tensorflow/python/framework/dtypes.py:517: FutureWarning: Passing (type, 1) or '1type' as a synonym of type is deprecated; in a future version of numpy, it will be understood as (type, (1,)) / '(1,)type'.\n",
      "  _np_quint8 = np.dtype([(\"quint8\", np.uint8, 1)])\n",
      "/opt/anaconda3/envs/tars/lib/python3.7/site-packages/tensorflow/python/framework/dtypes.py:518: FutureWarning: Passing (type, 1) or '1type' as a synonym of type is deprecated; in a future version of numpy, it will be understood as (type, (1,)) / '(1,)type'.\n",
      "  _np_qint16 = np.dtype([(\"qint16\", np.int16, 1)])\n",
      "/opt/anaconda3/envs/tars/lib/python3.7/site-packages/tensorflow/python/framework/dtypes.py:519: FutureWarning: Passing (type, 1) or '1type' as a synonym of type is deprecated; in a future version of numpy, it will be understood as (type, (1,)) / '(1,)type'.\n",
      "  _np_quint16 = np.dtype([(\"quint16\", np.uint16, 1)])\n",
      "/opt/anaconda3/envs/tars/lib/python3.7/site-packages/tensorflow/python/framework/dtypes.py:520: FutureWarning: Passing (type, 1) or '1type' as a synonym of type is deprecated; in a future version of numpy, it will be understood as (type, (1,)) / '(1,)type'.\n",
      "  _np_qint32 = np.dtype([(\"qint32\", np.int32, 1)])\n",
      "/opt/anaconda3/envs/tars/lib/python3.7/site-packages/tensorflow/python/framework/dtypes.py:525: FutureWarning: Passing (type, 1) or '1type' as a synonym of type is deprecated; in a future version of numpy, it will be understood as (type, (1,)) / '(1,)type'.\n",
      "  np_resource = np.dtype([(\"resource\", np.ubyte, 1)])\n"
     ]
    },
    {
     "name": "stdout",
     "output_type": "stream",
     "text": [
      "WARNING:tensorflow:From <ipython-input-1-4f0f3f64e439>:5: dense (from tensorflow.python.layers.core) is deprecated and will be removed in a future version.\n",
      "Instructions for updating:\n",
      "Use keras.layers.dense instead.\n",
      "WARNING:tensorflow:From /opt/anaconda3/envs/tars/lib/python3.7/site-packages/tensorflow/python/ops/init_ops.py:1251: calling VarianceScaling.__init__ (from tensorflow.python.ops.init_ops) with dtype is deprecated and will be removed in a future version.\n",
      "Instructions for updating:\n",
      "Call initializer instance with the dtype argument instead of passing it to the constructor\n",
      "WARNING:tensorflow:Entity <bound method Dense.call of <tensorflow.python.layers.core.Dense object at 0x7fa8981c6550>> could not be transformed and will be executed as-is. Please report this to the AutgoGraph team. When filing the bug, set the verbosity to 10 (on Linux, `export AUTOGRAPH_VERBOSITY=10`) and attach the full output. Cause: converting <bound method Dense.call of <tensorflow.python.layers.core.Dense object at 0x7fa8981c6550>>: AttributeError: module 'gast' has no attribute 'Index'\n",
      "WARNING: Entity <bound method Dense.call of <tensorflow.python.layers.core.Dense object at 0x7fa8981c6550>> could not be transformed and will be executed as-is. Please report this to the AutgoGraph team. When filing the bug, set the verbosity to 10 (on Linux, `export AUTOGRAPH_VERBOSITY=10`) and attach the full output. Cause: converting <bound method Dense.call of <tensorflow.python.layers.core.Dense object at 0x7fa8981c6550>>: AttributeError: module 'gast' has no attribute 'Index'\n"
     ]
    },
    {
     "name": "stderr",
     "output_type": "stream",
     "text": [
      "/opt/anaconda3/envs/tars/lib/python3.7/site-packages/tensorboard/compat/tensorflow_stub/dtypes.py:541: FutureWarning: Passing (type, 1) or '1type' as a synonym of type is deprecated; in a future version of numpy, it will be understood as (type, (1,)) / '(1,)type'.\n",
      "  _np_qint8 = np.dtype([(\"qint8\", np.int8, 1)])\n",
      "/opt/anaconda3/envs/tars/lib/python3.7/site-packages/tensorboard/compat/tensorflow_stub/dtypes.py:542: FutureWarning: Passing (type, 1) or '1type' as a synonym of type is deprecated; in a future version of numpy, it will be understood as (type, (1,)) / '(1,)type'.\n",
      "  _np_quint8 = np.dtype([(\"quint8\", np.uint8, 1)])\n",
      "/opt/anaconda3/envs/tars/lib/python3.7/site-packages/tensorboard/compat/tensorflow_stub/dtypes.py:543: FutureWarning: Passing (type, 1) or '1type' as a synonym of type is deprecated; in a future version of numpy, it will be understood as (type, (1,)) / '(1,)type'.\n",
      "  _np_qint16 = np.dtype([(\"qint16\", np.int16, 1)])\n",
      "/opt/anaconda3/envs/tars/lib/python3.7/site-packages/tensorboard/compat/tensorflow_stub/dtypes.py:544: FutureWarning: Passing (type, 1) or '1type' as a synonym of type is deprecated; in a future version of numpy, it will be understood as (type, (1,)) / '(1,)type'.\n",
      "  _np_quint16 = np.dtype([(\"quint16\", np.uint16, 1)])\n",
      "/opt/anaconda3/envs/tars/lib/python3.7/site-packages/tensorboard/compat/tensorflow_stub/dtypes.py:545: FutureWarning: Passing (type, 1) or '1type' as a synonym of type is deprecated; in a future version of numpy, it will be understood as (type, (1,)) / '(1,)type'.\n",
      "  _np_qint32 = np.dtype([(\"qint32\", np.int32, 1)])\n",
      "/opt/anaconda3/envs/tars/lib/python3.7/site-packages/tensorboard/compat/tensorflow_stub/dtypes.py:550: FutureWarning: Passing (type, 1) or '1type' as a synonym of type is deprecated; in a future version of numpy, it will be understood as (type, (1,)) / '(1,)type'.\n",
      "  np_resource = np.dtype([(\"resource\", np.ubyte, 1)])\n"
     ]
    }
   ],
   "source": [
    "import tensorflow as tf\n",
    " \n",
    "def build_model():\n",
    "    x = tf.placeholder(tf.float32, [None, 10])\n",
    "    y = tf.layers.dense(x, 1, activation='sigmoid')\n",
    "    return y\n",
    "\n",
    "model = build_model()\n",
    "\n",
    "saver = tf.train.Saver()\n",
    "with tf.Session() as sess:\n",
    "    sess.run(tf.global_variables_initializer())\n",
    "    saver.save(sess, \"mymodel\")"
   ]
  },
  {
   "cell_type": "markdown",
   "metadata": {},
   "source": [
    "```\n",
    "saver.save(sess, \"mymodel\")\n",
    "```\n",
    "\n",
    "会在当前目录下创建四个文件\n",
    "\n",
    "```\n",
    "checkpoint\n",
    "mymodel.data-00000-of-00001\n",
    "mymodel.index\n",
    "mymodel.meta\n",
    "```\n",
    "\n",
    "其中，\n",
    "\n",
    "`mymodel.meta` 保存的是图的结构"
   ]
  },
  {
   "cell_type": "markdown",
   "metadata": {},
   "source": [
    "### 文件名说明 `.ckpt`"
   ]
  },
  {
   "cell_type": "markdown",
   "metadata": {},
   "source": [
    "许多博客中都会出现 `model.ckpt` 这样的字样，实际上，`.ckpt` 不是 tensorflow 生成文件中的后缀名，而是用户调用  `saver.save(sess, 'model.ckpt')` 函数时传入的。\n",
    "\n",
    "在需要使用到 checkpoint 的时候，我们需要传入 checkpoint 的路径，由于 tensorflow 在保存 checkpoint 的时候保存了好几个文件，有可能会让初学者搞混 checkpoint 到底指的是那个文件。实际上，checkpoint 就是我们在 `saver.save` 时传入的参数。\n",
    "\n",
    "如果我们用\n",
    "\n",
    "```\n",
    "saver.save(sess, \"model.ckpt\")\n",
    "```\n",
    "\n",
    "来保存，那么我们的 checkpoint 的路径为 `model.ckpt`，不是 `model.ckpt.data`，更不是 `model.ckpt.meta`。\n",
    "\n",
    "\n",
    "一般来说，我们不会直接将这四个文件保存在当前目录，而是新建一个目录保存，此时我们可以这样调用\n",
    "\n",
    "```\n",
    "saver.save(sess, \"saved_model/mymodel\")\n",
    "```\n",
    "\n",
    "此时会创建 `saved_model`，并在这个目录下生成上述四个文件"
   ]
  },
  {
   "cell_type": "markdown",
   "metadata": {},
   "source": [
    "### global_step"
   ]
  },
  {
   "cell_type": "markdown",
   "metadata": {},
   "source": [
    "```\n",
    "saver.save(sess, \"saved_model/mymodel\", global_step=100)\n",
    "```\n",
    "\n",
    "保存的文件中会添加 global_step，如\n",
    "\n",
    "```\n",
    "checkpoint\n",
    "mymodel-100.data-00000-of-00001\n",
    "mymodel-100.index\n",
    "mymodel-100.meta\n",
    "```"
   ]
  },
  {
   "cell_type": "markdown",
   "metadata": {},
   "source": [
    "### max_to_keep\n",
    "\n",
    "参数定义 `saver()` 将自动保存的最近n个ckpt文件，默认n=5，即保存最近的5个检查点ckpt文件。若n=0或者None，则保存所有的ckpt文件。\n",
    "\n",
    "```\n",
    "saver = tf.train.Saver(max_to_keep=2)\n",
    "```\n",
    "\n",
    "### keep_checkpoint_every_n_hours\n",
    "\n",
    "与max_to_keep类似，定义每n小时保存一个ckpt文件。"
   ]
  },
  {
   "cell_type": "markdown",
   "metadata": {},
   "source": [
    "## 载入\n",
    "\n",
    "载入时有两种方式载入，一种是重新定义再载入的，另一种是不需要重新定义网络结构就可以直接载入的\n",
    "\n",
    "假设保存时使用的是下列代码"
   ]
  },
  {
   "cell_type": "code",
   "execution_count": 2,
   "metadata": {},
   "outputs": [],
   "source": [
    "import tensorflow as tf\n",
    "\n",
    "x = tf.Variable(tf.random_normal(shape=[2,3]), name=\"x0\")\n",
    "y = tf.Variable(tf.random_normal(shape=[3,2]), name=\"y0\")\n",
    "\n",
    "saver = tf.train.Saver()\n",
    "with tf.Session() as sess:\n",
    "    sess.run(tf.global_variables_initializer())\n",
    "    saver.save(sess, '/tmp/checkpoint/my_model.ckpt')"
   ]
  },
  {
   "cell_type": "code",
   "execution_count": 3,
   "metadata": {},
   "outputs": [
    {
     "name": "stdout",
     "output_type": "stream",
     "text": [
      "checkpoint                        my_model.ckpt.index\r\n",
      "my_model.ckpt.data-00000-of-00001 my_model.ckpt.meta\r\n"
     ]
    }
   ],
   "source": [
    "!ls /tmp/checkpoint"
   ]
  },
  {
   "cell_type": "markdown",
   "metadata": {},
   "source": [
    "### 重新定义结构\n",
    "\n",
    "先说明没有重新定义网络结构恢复会报错，正确的："
   ]
  },
  {
   "cell_type": "code",
   "execution_count": 4,
   "metadata": {},
   "outputs": [
    {
     "name": "stdout",
     "output_type": "stream",
     "text": [
      "WARNING:tensorflow:From /opt/anaconda3/envs/tars/lib/python3.7/site-packages/tensorflow/python/training/saver.py:1276: checkpoint_exists (from tensorflow.python.training.checkpoint_management) is deprecated and will be removed in a future version.\n",
      "Instructions for updating:\n",
      "Use standard file APIs to check for files with this prefix.\n",
      "INFO:tensorflow:Restoring parameters from /tmp/checkpoint/my_model.ckpt\n",
      "[array([[ 1.9626065 , -0.9025703 , -0.3953171 ],\n",
      "       [-0.24025328, -1.6794065 ,  1.182292  ]], dtype=float32), array([[ 1.7427737 , -0.24296844],\n",
      "       [ 0.7625185 , -1.6639953 ],\n",
      "       [ 0.86288357,  0.9713809 ]], dtype=float32)]\n"
     ]
    }
   ],
   "source": [
    "import tensorflow as tf\n",
    "tf.reset_default_graph()\n",
    "\n",
    "x = tf.Variable(tf.random_normal(shape=[2,3]), name=\"x0\")\n",
    "y = tf.Variable(tf.random_normal(shape=[3,2]), name=\"y0\")\n",
    "\n",
    "saver = tf.train.Saver()\n",
    "with tf.Session() as sess:\n",
    "    saver.restore(sess, \"/tmp/checkpoint/my_model.ckpt\")\n",
    "    print(sess.run(tf.global_variables()))"
   ]
  },
  {
   "cell_type": "markdown",
   "metadata": {},
   "source": [
    "如果小小修改一下上面的代码，就报错了，错误的：\n",
    "\n",
    "```\n",
    "import tensorflow as tf\n",
    "\n",
    "x = tf.Variable(tf.random_normal(shape=[2,3])) # 注意这里的x没有命名\n",
    "y = tf.Variable(tf.random_normal(shape=[3,2]))\n",
    "\n",
    "saver = tf.train.Saver()\n",
    "with tf.Session() as sess:\n",
    "    saver.restore(sess, \"/tmp/checkpoint/my_model.ckpt\")\n",
    "    print(sess.run(tf.global_variables()))\n",
    "```\n",
    "\n",
    "报错信息显示没有找到x变量\n",
    "\n",
    "```\n",
    "NotFoundError (see above for traceback): Restoring from checkpoint failed. This is most likely due to a Variable name or other graph key that is missing from the checkpoint. Please ensure that you have not altered the graph expected based on the checkpoint. Original error:\n",
    "```"
   ]
  },
  {
   "cell_type": "markdown",
   "metadata": {},
   "source": [
    "#### tf.train.latest_checkpoint\n",
    "\n",
    "可以使用 `tf.train.latest_checkpoint()` 来自动获取最后一次保存的模型。\n",
    "\n",
    "```\n",
    "model_file = tf.train.latest_checkpoint('tmp/')  # /User/ed/tmp/my_model.ckpt\n",
    "saver.restore(sess,model_file)\n",
    "```"
   ]
  },
  {
   "cell_type": "markdown",
   "metadata": {},
   "source": [
    "### 直接恢复，不重新定义网络结构\n",
    "\n",
    "\n",
    "利用 `tf.train.import_meta_graph` 来创建saver，而不是 `tf.train.Saver`\n",
    "\n",
    "假设我们保存时使用的是\n",
    "\n",
    "```\n",
    "saver.save(sess, \"/tmp/checkpoint/my_model.ckpt\")\n",
    "```\n",
    "\n",
    "那么我们读入时使用的是\n",
    "\n",
    "```\n",
    "import tensorflow as tf\n",
    "\n",
    "with tf.Session() as sess:\n",
    "    saver = tf.train.import_meta_graph('/tmp/checkpoint/my_model.meta')\n",
    "    saver.restore(sess, '/tmp/checkpoint/my_model')\n",
    "    print(sess.run(tf.global_variables()))\n",
    "```"
   ]
  },
  {
   "cell_type": "markdown",
   "metadata": {},
   "source": [
    "## 断点续训\n",
    "\n",
    "- 只需在初始化后添加一个检查并读取checkpoint的操作即可\n",
    "\n",
    "```\n",
    "# ... codes before here\n",
    "\n",
    "saver = tf.train.Saver()\n",
    "\n",
    "with tf.Session() as sess:\n",
    "    init_op = tf.global_variables_initializer()\n",
    "    sess.run(init_op)\n",
    "    \n",
    "    ckpt = tf.train.get_checkpoint_state(SAVE_PATH)\n",
    "    if ckpt and ckpt.model_checkpoint_path:\n",
    "        saver.restore(sess, ckpt.model_checkpoint_path)\n",
    "        \n",
    "    # ... codes after here\n",
    "```\n",
    "\n",
    "# References\n",
    "\n",
    "- [TensorFlow学习笔记：Saver与Restore - 简书](https://www.jianshu.com/p/b0c789757df6)\n",
    "- [tensorflow的三种保存格式总结-1(.ckpt) - 知乎](https://zhuanlan.zhihu.com/p/60064947)"
   ]
  }
 ],
 "metadata": {
  "kernelspec": {
   "display_name": "Python [conda env:tars]",
   "language": "python",
   "name": "conda-env-tars-py"
  },
  "language_info": {
   "codemirror_mode": {
    "name": "ipython",
    "version": 3
   },
   "file_extension": ".py",
   "mimetype": "text/x-python",
   "name": "python",
   "nbconvert_exporter": "python",
   "pygments_lexer": "ipython3",
   "version": "3.7.9"
  },
  "toc": {
   "base_numbering": 1,
   "nav_menu": {},
   "number_sections": true,
   "sideBar": true,
   "skip_h1_title": false,
   "title_cell": "Table of Contents",
   "title_sidebar": "Contents",
   "toc_cell": false,
   "toc_position": {
    "height": "calc(100% - 180px)",
    "left": "10px",
    "top": "150px",
    "width": "288px"
   },
   "toc_section_display": true,
   "toc_window_display": true
  }
 },
 "nbformat": 4,
 "nbformat_minor": 4
}
