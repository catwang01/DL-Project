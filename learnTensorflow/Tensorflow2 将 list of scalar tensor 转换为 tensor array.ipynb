{
 "cells": [
  {
   "cell_type": "markdown",
   "metadata": {},
   "source": [
    "---\n",
    "title: Tensorflow2 将 list of scalar tensor 转换为 tensor array\n",
    "tags: 小书匠,tensorflow2,constant,stack,convert_to_tensor\n",
    "grammar_cjkRuby: true\n",
    "renderNumberedHeading: true\n",
    "---\n",
    "\n",
    "[toc]\n",
    "\n",
    "# Tensorflow2 将 list of scalar tensor 转换为 tensor array"
   ]
  },
  {
   "cell_type": "code",
   "execution_count": 54,
   "metadata": {},
   "outputs": [
    {
     "name": "stdout",
     "output_type": "stream",
     "text": [
      "2.4.1\n"
     ]
    }
   ],
   "source": [
    "import tensorflow as tf\n",
    "import numpy as np\n",
    "print(tf.__version__)"
   ]
  },
  {
   "cell_type": "code",
   "execution_count": 109,
   "metadata": {},
   "outputs": [],
   "source": [
    "from contextlib import contextmanager\n",
    "import traceback\n",
    "\n",
    "@contextmanager\n",
    "def assert_exception(exception=None):\n",
    "    if exception is None:\n",
    "        exception = Exception\n",
    "    try:\n",
    "        yield\n",
    "    except exception as e:\n",
    "        print(\"Raise expected Exception!\")\n",
    "        traceback.print_exc()\n",
    "    except Exception as e:\n",
    "        print(e)"
   ]
  },
  {
   "cell_type": "code",
   "execution_count": 110,
   "metadata": {},
   "outputs": [],
   "source": [
    "x = tf.constant([0,1])\n",
    "a, b = x"
   ]
  },
  {
   "cell_type": "markdown",
   "metadata": {},
   "source": [
    "直接使用 tf.constant 会报错"
   ]
  },
  {
   "cell_type": "code",
   "execution_count": 111,
   "metadata": {},
   "outputs": [
    {
     "name": "stdout",
     "output_type": "stream",
     "text": [
      "Raise expected Exception!\n"
     ]
    },
    {
     "name": "stderr",
     "output_type": "stream",
     "text": [
      "Traceback (most recent call last):\n",
      "  File \"<ipython-input-109-2bffa1c1cdbc>\", line 9, in assert_exception\n",
      "    yield\n",
      "  File \"<ipython-input-111-2b3390bb5fda>\", line 2, in <module>\n",
      "    tf.constant([a, b])\n",
      "  File \"/anaconda3/envs/tensorflow2/lib/python3.6/site-packages/tensorflow/python/framework/constant_op.py\", line 265, in constant\n",
      "    allow_broadcast=True)\n",
      "  File \"/anaconda3/envs/tensorflow2/lib/python3.6/site-packages/tensorflow/python/framework/constant_op.py\", line 276, in _constant_impl\n",
      "    return _constant_eager_impl(ctx, value, dtype, shape, verify_shape)\n",
      "  File \"/anaconda3/envs/tensorflow2/lib/python3.6/site-packages/tensorflow/python/framework/constant_op.py\", line 301, in _constant_eager_impl\n",
      "    t = convert_to_eager_tensor(value, ctx, dtype)\n",
      "  File \"/anaconda3/envs/tensorflow2/lib/python3.6/site-packages/tensorflow/python/framework/constant_op.py\", line 98, in convert_to_eager_tensor\n",
      "    return ops.EagerTensor(value, ctx.device_name, dtype)\n",
      "ValueError: TypeError: Scalar tensor has no `len()`\n",
      "Traceback (most recent call last):\n",
      "\n",
      "  File \"/anaconda3/envs/tensorflow2/lib/python3.6/site-packages/tensorflow/python/framework/ops.py\", line 1022, in __len__\n",
      "    raise TypeError(\"Scalar tensor has no `len()`\")\n",
      "\n",
      "TypeError: Scalar tensor has no `len()`\n",
      "\n",
      "\n"
     ]
    }
   ],
   "source": [
    "with assert_exception(ValueError):\n",
    "    tf.constant([a, b])"
   ]
  },
  {
   "cell_type": "markdown",
   "metadata": {},
   "source": [
    "## 方法1 tf.convert_to_tesnor()"
   ]
  },
  {
   "cell_type": "code",
   "execution_count": 112,
   "metadata": {},
   "outputs": [
    {
     "data": {
      "text/plain": [
       "<tf.Tensor: shape=(2,), dtype=int32, numpy=array([0, 1], dtype=int32)>"
      ]
     },
     "execution_count": 112,
     "metadata": {},
     "output_type": "execute_result"
    }
   ],
   "source": [
    "tf.convert_to_tensor([a, b])"
   ]
  },
  {
   "cell_type": "markdown",
   "metadata": {},
   "source": [
    "## 方法2 tf.stack"
   ]
  },
  {
   "cell_type": "code",
   "execution_count": 113,
   "metadata": {},
   "outputs": [
    {
     "data": {
      "text/plain": [
       "<tf.Tensor: shape=(2,), dtype=int32, numpy=array([0, 1], dtype=int32)>"
      ]
     },
     "execution_count": 113,
     "metadata": {},
     "output_type": "execute_result"
    }
   ],
   "source": [
    "tf.stack([a, b])"
   ]
  },
  {
   "cell_type": "markdown",
   "metadata": {},
   "source": [
    "# References\n",
    "\n",
    "[Cannot create tf.constant inside tf.function with integer tensor. · Issue #46286 · tensorflow/tensorflow](https://github.com/tensorflow/tensorflow/issues/46286)"
   ]
  }
 ],
 "metadata": {
  "kernelspec": {
   "display_name": "Python [conda env:tensorflow2]",
   "language": "python",
   "name": "conda-env-tensorflow2-py"
  },
  "language_info": {
   "codemirror_mode": {
    "name": "ipython",
    "version": 3
   },
   "file_extension": ".py",
   "mimetype": "text/x-python",
   "name": "python",
   "nbconvert_exporter": "python",
   "pygments_lexer": "ipython3",
   "version": "3.6.10"
  }
 },
 "nbformat": 4,
 "nbformat_minor": 4
}
