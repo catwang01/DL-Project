{
 "cells": [
  {
   "cell_type": "markdown",
   "metadata": {
    "ExecuteTime": {
     "end_time": "2021-03-10T12:58:41.109308Z",
     "start_time": "2021-03-10T12:58:41.105922Z"
    }
   },
   "source": [
    "---\n",
    "title:  Tensorflow tf.feature_column\n",
    "tags: 小书匠,feature_column,Tensorflow1,tensorflow,embedding\n",
    "grammar_cjkRuby: true\n",
    "#renderNumberedHeading: true\n",
    "---\n",
    "\n",
    "[toc!]\n",
    "\n",
    "# Tensorflow tf.feature_column"
   ]
  },
  {
   "cell_type": "code",
   "execution_count": 1,
   "metadata": {
    "ExecuteTime": {
     "end_time": "2021-03-10T13:39:56.198259Z",
     "start_time": "2021-03-10T13:39:56.196068Z"
    }
   },
   "outputs": [
    {
     "name": "stdout",
     "output_type": "stream",
     "text": [
      "1.15.0\n"
     ]
    }
   ],
   "source": [
    "import tensorflow as tf\n",
    "\n",
    "print(tf.__version__)"
   ]
  },
  {
   "cell_type": "markdown",
   "metadata": {
    "ExecuteTime": {
     "end_time": "2021-03-10T12:58:41.111740Z",
     "start_time": "2021-03-10T12:58:41.103Z"
    }
   },
   "source": [
    "##  背景\n",
    "\n",
    "特征预处理是几乎所有机器学习模型所必须的一个过程，常见的特征预处理方法包括：连续变量分箱化、离散变量one-hot、离散指标embedding等.\n",
    "\n",
    "tensorflow给我们提供了一个功能强大的特征处理函数tf.feature_column，它通过对特征处理将数据输入网络并交由estimator来进行训练\n",
    "\n",
    "特征数据主要包括categorical和dense两类，处理方法是使用tensorflow中的feature_column接口来进行定义。\n",
    "\n",
    "如下图，总共有九种不同的函数，其中包括\n",
    "1. 5种 categorical function\n",
    "2. 3种numerical function \n",
    "3. 1种bucketized_column可属于任何一种\n",
    "\n",
    "categorical column中的 with_identity其实和 dense column中的indicator_column没有区别，都是类别特征的one-hot表示，但是其属于不同的特征类别，前者属于categorical后者属于dense，对于estimator编写的不同网络而言，其可接受的one-hot类型不同，这里在实际操作中需要注意转换。\n",
    "\n",
    "![](https://pic3.zhimg.com/v2-72716a0ab2971fea8cadb98cbceeddfa_b.jpg)\n",
    "\n",
    "注意，我们的 tensorflow 的 版本是 1.15.0，tensorflow2 中的 tf.feature_column 和这个的用法有一些不同。"
   ]
  },
  {
   "cell_type": "markdown",
   "metadata": {
    "ExecuteTime": {
     "end_time": "2021-03-10T13:20:34.772752Z",
     "start_time": "2021-03-10T13:20:34.769324Z"
    }
   },
   "source": [
    "一般来说，我们的模型接受的都是 DenseColumn，如果有 Categorical Column，那么就要转换为 Dense Column"
   ]
  },
  {
   "cell_type": "markdown",
   "metadata": {},
   "source": [
    "## input_layer"
   ]
  },
  {
   "cell_type": "markdown",
   "metadata": {},
   "source": [
    "在介绍其他 api 之前，先介绍 tf.feature_column.input_layer 这个 api，这个 api 的原型是\n",
    "\n",
    "```\n",
    "tf.compat.v1.feature_column.input_layer(\n",
    "    features, feature_columns, weight_collections=None, trainable=True,\n",
    "    cols_to_vars=None, cols_to_output_tensors=None\n",
    ")\n",
    "```\n",
    "\n",
    "**其作用是将 features 中指定数据，转换为 feature_columns 中指定的类型，最后形成一个 Tensor 并返回。，这个有点类似于 `feed_dict` 的感觉，其中 features 中是 feature_dict，feature_columns 中装的类似于 placeholder。**\n",
    "\n",
    ">A Tensor which represents input layer of a model. Its shape is (batch_size, first_layer_dimension) and its dtype is float32. first_layer_dimension is determined based on given feature_columns.\n",
    "\n",
    "它返回的是一个 tf.float32 类型的 Tensor，形状为 [batch_size, first_layer_dimension]，first_layer_dimension 由 feature_columns 决定\n",
    "\n",
    "具体可以看 [ 2 ] 和下面的例子"
   ]
  },
  {
   "cell_type": "code",
   "execution_count": 2,
   "metadata": {
    "ExecuteTime": {
     "end_time": "2021-03-10T13:39:59.111807Z",
     "start_time": "2021-03-10T13:39:56.289412Z"
    }
   },
   "outputs": [
    {
     "name": "stdout",
     "output_type": "stream",
     "text": [
      "WARNING:tensorflow:From /anaconda3/lib/python3.7/site-packages/tensorflow/python/feature_column/feature_column.py:205: IndicatorColumn._get_dense_tensor (from tensorflow.python.feature_column.feature_column_v2) is deprecated and will be removed in a future version.\n",
      "Instructions for updating:\n",
      "The old _FeatureColumn APIs are being deprecated. Please use the new FeatureColumn APIs instead.\n",
      "WARNING:tensorflow:From /anaconda3/lib/python3.7/site-packages/tensorflow/python/feature_column/feature_column.py:2115: IndicatorColumn._transform_feature (from tensorflow.python.feature_column.feature_column_v2) is deprecated and will be removed in a future version.\n",
      "Instructions for updating:\n",
      "The old _FeatureColumn APIs are being deprecated. Please use the new FeatureColumn APIs instead.\n",
      "WARNING:tensorflow:From /anaconda3/lib/python3.7/site-packages/tensorflow/python/feature_column/feature_column_v2.py:4236: IdentityCategoricalColumn._get_sparse_tensors (from tensorflow.python.feature_column.feature_column_v2) is deprecated and will be removed in a future version.\n",
      "Instructions for updating:\n",
      "The old _FeatureColumn APIs are being deprecated. Please use the new FeatureColumn APIs instead.\n",
      "WARNING:tensorflow:From /anaconda3/lib/python3.7/site-packages/tensorflow/python/feature_column/feature_column.py:2115: IdentityCategoricalColumn._transform_feature (from tensorflow.python.feature_column.feature_column_v2) is deprecated and will be removed in a future version.\n",
      "Instructions for updating:\n",
      "The old _FeatureColumn APIs are being deprecated. Please use the new FeatureColumn APIs instead.\n",
      "WARNING:tensorflow:From /anaconda3/lib/python3.7/site-packages/tensorflow/python/feature_column/feature_column_v2.py:2655: add_dispatch_support.<locals>.wrapper (from tensorflow.python.ops.array_ops) is deprecated and will be removed in a future version.\n",
      "Instructions for updating:\n",
      "Use tf.where in 2.0, which has the same broadcast rule as np.where\n",
      "WARNING:tensorflow:From /anaconda3/lib/python3.7/site-packages/tensorflow/python/feature_column/feature_column_v2.py:4207: IndicatorColumn._variable_shape (from tensorflow.python.feature_column.feature_column_v2) is deprecated and will be removed in a future version.\n",
      "Instructions for updating:\n",
      "The old _FeatureColumn APIs are being deprecated. Please use the new FeatureColumn APIs instead.\n",
      "WARNING:tensorflow:From /anaconda3/lib/python3.7/site-packages/tensorflow/python/feature_column/feature_column_v2.py:4262: IdentityCategoricalColumn._num_buckets (from tensorflow.python.feature_column.feature_column_v2) is deprecated and will be removed in a future version.\n",
      "Instructions for updating:\n",
      "The old _FeatureColumn APIs are being deprecated. Please use the new FeatureColumn APIs instead.\n",
      "[[0. 1. 0.]\n",
      " [0. 1. 0.]\n",
      " [1. 0. 0.]\n",
      " [1. 0. 0.]]\n"
     ]
    }
   ],
   "source": [
    "import tensorflow as tf\n",
    "sess = tf.Session()\n",
    "\n",
    "#特征数据\n",
    "features = {'birthplace': [[1], [1], [3], [4]]}\n",
    "\n",
    "#特征列\n",
    "birthplace = tf.feature_column.categorical_column_with_identity(\n",
    "    \"birthplace\", num_buckets=3, default_value=0)\n",
    "birthplace = tf.feature_column.indicator_column(birthplace)\n",
    "#组合特征列\n",
    "columns = [birthplace]\n",
    "\n",
    "#输入层（数据，特征列）\n",
    "inputs = tf.feature_column.input_layer(features, columns)\n",
    "\n",
    "#初始化并运行\n",
    "init = tf.global_variables_initializer()\n",
    "sess.run(tf.tables_initializer())\n",
    "sess.run(init)\n",
    "v = sess.run(inputs)\n",
    "print(v)"
   ]
  },
  {
   "cell_type": "markdown",
   "metadata": {},
   "source": [
    "这个表示我们的数据为 `{'birthplace': [[1], [1], [3], [4]]}`，而我们的 \"placeholder\" 是 `columns = [birthplace]`。\n",
    "\n",
    "注意到，features 是一个 dict，但是 columns 值是一个 list，我们怎么知道 columns 这个 list 中的值对应 features 这个 dict 中的那个值呢？实际上，columns 中的每个元素都会有一个 key，这个 key 正是 features 中的 key。从这个角度来说，columns 虽然是一个 list，但是实际上也可以看作是一个 key-value pair，只不过 key 是作为对象的一个属性而已。\n",
    "\n",
    "在这个例子中，对应着 `tf.feature_column.categorical_column_with_identity(\"birthplace\", num_buckets=3, default_value=0)` 这句话，其中 `birthplace` 就是 key，这个对应着 `{'birthplace': [[1], [1], [3], [4]]}` 中的 birthplace\n",
    "\n",
    ">A mapping from key to tensors. _FeatureColumns look up via these keys. For example numeric_column('price') will look at 'price' key in this dict. "
   ]
  },
  {
   "cell_type": "markdown",
   "metadata": {
    "ExecuteTime": {
     "end_time": "2021-03-10T12:58:41.111740Z",
     "start_time": "2021-03-10T12:58:41.103Z"
    }
   },
   "source": [
    "## categorical column\n",
    "\n",
    "### categorical_column_with_identity\n",
    "\n",
    "*   categorical_column_with_identity：把numerical data转乘 *onehot encoding*\n",
    "\n",
    "![](https://pic4.zhimg.com/v2-3145e7209e6120e2485b462dafe6627b_b.jpg)\n",
    "\n",
    "![](https://pic4.zhimg.com/80/v2-3145e7209e6120e2485b462dafe6627b_1440w.jpg)\n",
    "\n",
    "*   只适用于值为整数的类别型变量，实际输出如下："
   ]
  },
  {
   "cell_type": "code",
   "execution_count": 3,
   "metadata": {
    "ExecuteTime": {
     "end_time": "2021-03-10T13:39:59.161650Z",
     "start_time": "2021-03-10T13:39:59.115477Z"
    }
   },
   "outputs": [
    {
     "name": "stdout",
     "output_type": "stream",
     "text": [
      "[[0. 1. 0.]\n",
      " [0. 1. 0.]\n",
      " [1. 0. 0.]\n",
      " [1. 0. 0.]]\n"
     ]
    }
   ],
   "source": [
    "import tensorflow as tf\n",
    "sess = tf.Session()\n",
    "\n",
    "#特征数据\n",
    "features = {'birthplace': [[1], [1], [3], [4]]}\n",
    "\n",
    "#特征列\n",
    "birthplace = tf.feature_column.categorical_column_with_identity(\n",
    "    \"birthplace\", num_buckets=3, default_value=0)\n",
    "birthplace = tf.feature_column.indicator_column(birthplace)\n",
    "#组合特征列\n",
    "columns = [birthplace]\n",
    "\n",
    "#输入层（数据，特征列）\n",
    "inputs = tf.feature_column.input_layer(features, columns)\n",
    "\n",
    "#初始化并运行\n",
    "init = tf.global_variables_initializer()\n",
    "sess.run(tf.tables_initializer())\n",
    "sess.run(init)\n",
    "v = sess.run(inputs)\n",
    "print(v)"
   ]
  },
  {
   "cell_type": "markdown",
   "metadata": {},
   "source": [
    "这个例子中，num_buckets=3，表示这个特征的取值范围为 [0, 1, 2] 中，如果不再这个范围，会被变成 default_value。\n",
    "这里看到 3, 4 两个值转换后都变成了 [1, 0, 0]"
   ]
  },
  {
   "cell_type": "markdown",
   "metadata": {},
   "source": [
    "### categorical_column_with_vocabulary_list or categorical_column_with_vocabulary_file\n",
    "\n",
    "*   categorical_column_with_vocabulary_list or categorical_column_with_vocabulary_file：根据单词的序列顺序，把单词根据index转换成one hot encoding\n",
    "\n",
    "![](https://pic2.zhimg.com/v2-700a75b4daebec26db1f3ab4ae9add5d_b.jpg)\n",
    "\n",
    "![](https://pic2.zhimg.com/80/v2-700a75b4daebec26db1f3ab4ae9add5d_1440w.jpg)\n",
    "\n",
    "*   主要用于处理非整数型的类别特征，两个函数的区别在于处理变量类别的多少，数量前者对应类别少的情况，所有可能的类别可以直接输入，后者对应类别多的情况，所有可能的类别可以存在一个文件中输入，实际输出如下："
   ]
  },
  {
   "cell_type": "code",
   "execution_count": 4,
   "metadata": {
    "ExecuteTime": {
     "end_time": "2021-03-10T13:39:59.211448Z",
     "start_time": "2021-03-10T13:39:59.162999Z"
    }
   },
   "outputs": [
    {
     "name": "stdout",
     "output_type": "stream",
     "text": [
      "WARNING:tensorflow:From /anaconda3/lib/python3.7/site-packages/tensorflow/python/feature_column/feature_column_v2.py:4236: VocabularyListCategoricalColumn._get_sparse_tensors (from tensorflow.python.feature_column.feature_column_v2) is deprecated and will be removed in a future version.\n",
      "Instructions for updating:\n",
      "The old _FeatureColumn APIs are being deprecated. Please use the new FeatureColumn APIs instead.\n",
      "WARNING:tensorflow:From /anaconda3/lib/python3.7/site-packages/tensorflow/python/feature_column/feature_column.py:2115: VocabularyListCategoricalColumn._transform_feature (from tensorflow.python.feature_column.feature_column_v2) is deprecated and will be removed in a future version.\n",
      "Instructions for updating:\n",
      "The old _FeatureColumn APIs are being deprecated. Please use the new FeatureColumn APIs instead.\n",
      "WARNING:tensorflow:From /anaconda3/lib/python3.7/site-packages/tensorflow/python/feature_column/feature_column_v2.py:4262: VocabularyListCategoricalColumn._num_buckets (from tensorflow.python.feature_column.feature_column_v2) is deprecated and will be removed in a future version.\n",
      "Instructions for updating:\n",
      "The old _FeatureColumn APIs are being deprecated. Please use the new FeatureColumn APIs instead.\n",
      "[[1. 0.]\n",
      " [1. 0.]\n",
      " [0. 1.]\n",
      " [0. 1.]]\n"
     ]
    }
   ],
   "source": [
    "import tensorflow as tf\n",
    "sess=tf.Session()\n",
    "\n",
    "#特征数据\n",
    "features = {\n",
    "    'sex': ['male', 'male', 'female', 'female'],\n",
    "}\n",
    "\n",
    "#特征列\n",
    "sex_column = tf.feature_column.categorical_column_with_vocabulary_list('sex', ['male', 'female'])\n",
    "sex_column = tf.feature_column.indicator_column(sex_column)\n",
    "#组合特征列\n",
    "columns = [\n",
    "    sex_column\n",
    "]\n",
    "\n",
    "#输入层（数据，特征列）\n",
    "inputs = tf.feature_column.input_layer(features, columns)\n",
    "\n",
    "#初始化并运行\n",
    "init = tf.global_variables_initializer()\n",
    "sess.run(tf.tables_initializer())\n",
    "sess.run(init)\n",
    "\n",
    "v=sess.run(inputs)\n",
    "print(v)"
   ]
  },
  {
   "cell_type": "markdown",
   "metadata": {},
   "source": [
    "*   如图输出为sex的one-hot结果，其后跟着的list用于定义该变量的所有类别。\n",
    "\n",
    "### categorical_column_with_hash_bucket\n",
    "\n",
    "*   categorical_column_with_hash_bucket：对于处理包含大量文字或数字类别的特征时可使用hash的方式，这能快速地建立对应的对照表，缺点则是会有哈希冲突的问题。\n",
    "\n",
    "![](https://pic4.zhimg.com/v2-b8f3f29807e2c98e53549015ed58aaf7_b.jpg)\n",
    "\n",
    "*   hash_bucket_size的大小一般设置为总类别数的2-5倍，该函数适用于不能确定所有类别样式的类别变量，实际输出如下："
   ]
  },
  {
   "cell_type": "code",
   "execution_count": 2,
   "metadata": {
    "ExecuteTime": {
     "end_time": "2021-03-10T13:39:59.250637Z",
     "start_time": "2021-03-10T13:39:59.212887Z"
    }
   },
   "outputs": [
    {
     "name": "stdout",
     "output_type": "stream",
     "text": [
      "WARNING:tensorflow:From /anaconda3/envs/tensorflow1.15/lib/python3.6/site-packages/tensorflow_core/python/feature_column/feature_column.py:206: IndicatorColumn._get_dense_tensor (from tensorflow.python.feature_column.feature_column_v2) is deprecated and will be removed in a future version.\n",
      "Instructions for updating:\n",
      "The old _FeatureColumn APIs are being deprecated. Please use the new FeatureColumn APIs instead.\n",
      "WARNING:tensorflow:From /anaconda3/envs/tensorflow1.15/lib/python3.6/site-packages/tensorflow_core/python/feature_column/feature_column.py:2158: IndicatorColumn._transform_feature (from tensorflow.python.feature_column.feature_column_v2) is deprecated and will be removed in a future version.\n",
      "Instructions for updating:\n",
      "The old _FeatureColumn APIs are being deprecated. Please use the new FeatureColumn APIs instead.\n",
      "WARNING:tensorflow:From /anaconda3/envs/tensorflow1.15/lib/python3.6/site-packages/tensorflow_core/python/feature_column/feature_column_v2.py:4300: HashedCategoricalColumn._get_sparse_tensors (from tensorflow.python.feature_column.feature_column_v2) is deprecated and will be removed in a future version.\n",
      "Instructions for updating:\n",
      "The old _FeatureColumn APIs are being deprecated. Please use the new FeatureColumn APIs instead.\n",
      "WARNING:tensorflow:From /anaconda3/envs/tensorflow1.15/lib/python3.6/site-packages/tensorflow_core/python/feature_column/feature_column.py:2158: HashedCategoricalColumn._transform_feature (from tensorflow.python.feature_column.feature_column_v2) is deprecated and will be removed in a future version.\n",
      "Instructions for updating:\n",
      "The old _FeatureColumn APIs are being deprecated. Please use the new FeatureColumn APIs instead.\n",
      "WARNING:tensorflow:From /anaconda3/envs/tensorflow1.15/lib/python3.6/site-packages/tensorflow_core/python/feature_column/feature_column_v2.py:4271: IndicatorColumn._variable_shape (from tensorflow.python.feature_column.feature_column_v2) is deprecated and will be removed in a future version.\n",
      "Instructions for updating:\n",
      "The old _FeatureColumn APIs are being deprecated. Please use the new FeatureColumn APIs instead.\n",
      "WARNING:tensorflow:From /anaconda3/envs/tensorflow1.15/lib/python3.6/site-packages/tensorflow_core/python/feature_column/feature_column_v2.py:4326: HashedCategoricalColumn._num_buckets (from tensorflow.python.feature_column.feature_column_v2) is deprecated and will be removed in a future version.\n",
      "Instructions for updating:\n",
      "The old _FeatureColumn APIs are being deprecated. Please use the new FeatureColumn APIs instead.\n",
      "[[0. 1. 0. 0.]\n",
      " [0. 1. 0. 0.]\n",
      " [0. 1. 0. 0.]\n",
      " [1. 0. 0. 0.]\n",
      " [0. 1. 0. 0.]]\n"
     ]
    }
   ],
   "source": [
    "import tensorflow as tf\n",
    "\n",
    "#特征数据\n",
    "features = {\n",
    "    'department': ['sport', 'sport', 'drawing', 'gardening', 'travelling'],\n",
    "}\n",
    "\n",
    "#特征列\n",
    "department = tf.feature_column.categorical_column_with_hash_bucket('department', 4, dtype=tf.string)\n",
    "department = tf.feature_column.indicator_column(department)\n",
    "\n",
    "#组合特征列\n",
    "columns = [\n",
    "    department\n",
    "]\n",
    "\n",
    "inputs = tf.feature_column.input_layer(features, columns)\n",
    "\n",
    "with tf.Session() as sess:\n",
    "    #初始化并运行\n",
    "    sess.run(tf.global_variables_initializer())\n",
    "    sess.run(tf.tables_initializer())\n",
    "    v = sess.run(inputs)\n",
    "    print(v)"
   ]
  },
  {
   "cell_type": "markdown",
   "metadata": {},
   "source": [
    "*   如上，输出为department的one-hot结果，对于不同类的department出现了哈希冲突的情况。\n",
    "\n",
    "### crossed_column\n",
    "\n",
    "*   crossed_column：特征交叉，在有些情况下，特征独自编码与多维特征交叉后的特征特性会有不一样的结果。\n",
    "*   该函数不能对hash映射之后的特征进行交叉，实际输出如下："
   ]
  },
  {
   "cell_type": "code",
   "execution_count": 6,
   "metadata": {
    "ExecuteTime": {
     "end_time": "2021-03-10T13:39:59.372866Z",
     "start_time": "2021-03-10T13:39:59.252334Z"
    }
   },
   "outputs": [
    {
     "name": "stdout",
     "output_type": "stream",
     "text": [
      "WARNING:tensorflow:From /anaconda3/lib/python3.7/site-packages/tensorflow/python/feature_column/feature_column_v2.py:4236: CrossedColumn._get_sparse_tensors (from tensorflow.python.feature_column.feature_column_v2) is deprecated and will be removed in a future version.\n",
      "Instructions for updating:\n",
      "The old _FeatureColumn APIs are being deprecated. Please use the new FeatureColumn APIs instead.\n",
      "WARNING:tensorflow:From /anaconda3/lib/python3.7/site-packages/tensorflow/python/feature_column/feature_column.py:2115: CrossedColumn._transform_feature (from tensorflow.python.feature_column.feature_column_v2) is deprecated and will be removed in a future version.\n",
      "Instructions for updating:\n",
      "The old _FeatureColumn APIs are being deprecated. Please use the new FeatureColumn APIs instead.\n",
      "WARNING:tensorflow:From /anaconda3/lib/python3.7/site-packages/tensorflow/python/feature_column/feature_column_v2.py:4262: CrossedColumn._num_buckets (from tensorflow.python.feature_column.feature_column_v2) is deprecated and will be removed in a future version.\n",
      "Instructions for updating:\n",
      "The old _FeatureColumn APIs are being deprecated. Please use the new FeatureColumn APIs instead.\n",
      "[[0. 0. 0. 1. 0. 0. 0. 0. 0. 0. 0. 0. 0. 0. 0. 0.]\n",
      " [0. 0. 0. 0. 0. 0. 0. 0. 1. 0. 0. 0. 0. 0. 0. 0.]\n",
      " [0. 0. 0. 0. 0. 0. 0. 0. 0. 1. 0. 0. 0. 0. 0. 0.]\n",
      " [0. 0. 0. 0. 1. 0. 0. 0. 0. 0. 0. 0. 0. 0. 0. 0.]\n",
      " [0. 0. 0. 0. 0. 0. 0. 0. 1. 0. 0. 0. 0. 0. 0. 0.]]\n"
     ]
    }
   ],
   "source": [
    "import tensorflow as tf\n",
    "sess=tf.Session()\n",
    "\n",
    "#特征数据\n",
    "features = {\n",
    "    'sex': [1, 2, 1, 1, 2],\n",
    "    'department': ['sport', 'sport', 'drawing', 'gardening', 'travelling'],\n",
    "}\n",
    "\n",
    "#特征列\n",
    "department = tf.feature_column.categorical_column_with_vocabulary_list('department', ['sport','drawing','gardening','travelling'], dtype=tf.string)\n",
    "sex = tf.feature_column.categorical_column_with_identity('sex', num_buckets=2, default_value=0)\n",
    "sex_department = tf.feature_column.crossed_column([department,sex], 16)\n",
    "sex_department = tf.feature_column.indicator_column(sex_department)\n",
    "#组合特征列\n",
    "columns = [\n",
    "    sex_department\n",
    "]\n",
    "\n",
    "#输入层（数据，特征列）\n",
    "inputs = tf.feature_column.input_layer(features, columns)\n",
    "\n",
    "#初始化并运行\n",
    "init = tf.global_variables_initializer()\n",
    "sess.run(tf.tables_initializer())\n",
    "sess.run(init)\n",
    "\n",
    "v=sess.run(inputs)\n",
    "print(v)"
   ]
  },
  {
   "cell_type": "markdown",
   "metadata": {
    "ExecuteTime": {
     "end_time": "2021-03-10T12:58:57.284144Z",
     "start_time": "2021-03-10T12:58:57.280984Z"
    }
   },
   "source": [
    "*   如上，输出为cross的one-hot结果，hash_bucket_size代表输出的交叉向量的one-hot维度。"
   ]
  },
  {
   "cell_type": "markdown",
   "metadata": {},
   "source": [
    "## Dense column\n",
    "\n",
    "### numeric_column\n",
    "\n",
    "*   numeric_column：该函数主要用于处理连续型变量，即可以是float类型也可以是int类似，从table中读取对应的(key)column，并把它转成dtype的格式，实际情况如下："
   ]
  },
  {
   "cell_type": "code",
   "execution_count": 7,
   "metadata": {
    "ExecuteTime": {
     "end_time": "2021-03-10T13:39:59.406618Z",
     "start_time": "2021-03-10T13:39:59.373930Z"
    }
   },
   "outputs": [
    {
     "name": "stdout",
     "output_type": "stream",
     "text": [
      "WARNING:tensorflow:From /anaconda3/lib/python3.7/site-packages/tensorflow/python/feature_column/feature_column.py:205: NumericColumn._get_dense_tensor (from tensorflow.python.feature_column.feature_column_v2) is deprecated and will be removed in a future version.\n",
      "Instructions for updating:\n",
      "The old _FeatureColumn APIs are being deprecated. Please use the new FeatureColumn APIs instead.\n",
      "WARNING:tensorflow:From /anaconda3/lib/python3.7/site-packages/tensorflow/python/feature_column/feature_column.py:2115: NumericColumn._transform_feature (from tensorflow.python.feature_column.feature_column_v2) is deprecated and will be removed in a future version.\n",
      "Instructions for updating:\n",
      "The old _FeatureColumn APIs are being deprecated. Please use the new FeatureColumn APIs instead.\n",
      "WARNING:tensorflow:From /anaconda3/lib/python3.7/site-packages/tensorflow/python/feature_column/feature_column.py:206: NumericColumn._variable_shape (from tensorflow.python.feature_column.feature_column_v2) is deprecated and will be removed in a future version.\n",
      "Instructions for updating:\n",
      "The old _FeatureColumn APIs are being deprecated. Please use the new FeatureColumn APIs instead.\n",
      "[[1.2]\n",
      " [2.3]\n",
      " [1.2]\n",
      " [1.5]\n",
      " [2.2]]\n"
     ]
    }
   ],
   "source": [
    "import tensorflow as tf\n",
    "sess=tf.Session()\n",
    "\n",
    "#特征数据\n",
    "features = {\n",
    "    'sale': [1.2, 2.3, 1.2, 1.5, 2.2]\n",
    "}\n",
    "\n",
    "#特征列\n",
    "sale = tf.feature_column.numeric_column(\"sale\", default_value=0.0)\n",
    "#组合特征列\n",
    "columns = [\n",
    "    sale\n",
    "]\n",
    "\n",
    "#输入层（数据，特征列）\n",
    "inputs = tf.feature_column.input_layer(features, columns)\n",
    "\n",
    "#初始化并运行\n",
    "init = tf.global_variables_initializer()\n",
    "sess.run(tf.tables_initializer())\n",
    "sess.run(init)\n",
    "\n",
    "v=sess.run(inputs)\n",
    "print(v)"
   ]
  },
  {
   "cell_type": "markdown",
   "metadata": {},
   "source": [
    "### indictor_column"
   ]
  },
  {
   "cell_type": "markdown",
   "metadata": {},
   "source": [
    "indictor_column 的使用其实之前已经展示过了，主要就是用来将 `tf.feature_column.categorical_column_*` 表示的 categorical column 变成 dense column，从而可以喂给神经网络\n",
    "\n",
    "这个实际上对应着 one-hot 编码"
   ]
  },
  {
   "cell_type": "markdown",
   "metadata": {},
   "source": [
    "### bucketized_column\n",
    "\n",
    "*   bucketized_column: 该函数将连续变量进行分桶离散化，输出one-hot的结果，方便连续值指标与分类变量进行交叉特征构建，\n",
    "\n",
    "![](https://pic3.zhimg.com/v2-3ba0d5bcecd86642c39598b848ec534e_b.jpg)\n",
    "\n",
    "![](https://pic3.zhimg.com/80/v2-3ba0d5bcecd86642c39598b848ec534e_1440w.jpg)\n",
    "\n",
    "*   实际情况如下："
   ]
  },
  {
   "cell_type": "code",
   "execution_count": 8,
   "metadata": {
    "ExecuteTime": {
     "end_time": "2021-03-10T13:39:59.442277Z",
     "start_time": "2021-03-10T13:39:59.408172Z"
    }
   },
   "outputs": [
    {
     "name": "stdout",
     "output_type": "stream",
     "text": [
      "WARNING:tensorflow:From /anaconda3/lib/python3.7/site-packages/tensorflow/python/feature_column/feature_column.py:205: BucketizedColumn._get_dense_tensor (from tensorflow.python.feature_column.feature_column_v2) is deprecated and will be removed in a future version.\n",
      "Instructions for updating:\n",
      "The old _FeatureColumn APIs are being deprecated. Please use the new FeatureColumn APIs instead.\n",
      "WARNING:tensorflow:From /anaconda3/lib/python3.7/site-packages/tensorflow/python/feature_column/feature_column.py:2115: BucketizedColumn._transform_feature (from tensorflow.python.feature_column.feature_column_v2) is deprecated and will be removed in a future version.\n",
      "Instructions for updating:\n",
      "The old _FeatureColumn APIs are being deprecated. Please use the new FeatureColumn APIs instead.\n",
      "WARNING:tensorflow:From /anaconda3/lib/python3.7/site-packages/tensorflow/python/feature_column/feature_column.py:206: BucketizedColumn._variable_shape (from tensorflow.python.feature_column.feature_column_v2) is deprecated and will be removed in a future version.\n",
      "Instructions for updating:\n",
      "The old _FeatureColumn APIs are being deprecated. Please use the new FeatureColumn APIs instead.\n",
      "[[0. 1. 0.]\n",
      " [0. 1. 0.]\n",
      " [0. 0. 1.]\n",
      " [0. 0. 1.]\n",
      " [0. 1. 0.]]\n"
     ]
    }
   ],
   "source": [
    "import numpy as np\n",
    "import tensorflow as tf\n",
    "sess = tf.Session()\n",
    "\n",
    "#特征数据\n",
    "features = {'sale': [0.1, 0.2, 0.5, 1.0, 0.2]}\n",
    "\n",
    "#特征列\n",
    "step_val = 0.5\n",
    "boundaries = list(np.arange(0, 1, step_val))\n",
    "sale = tf.feature_column.bucketized_column(tf.feature_column.numeric_column('sale', default_value=0.0),\n",
    "                                           boundaries=boundaries)\n",
    "#组合特征列\n",
    "columns = [sale]\n",
    "\n",
    "#输入层（数据，特征列）\n",
    "inputs = tf.feature_column.input_layer(features, columns)\n",
    "\n",
    "#初始化并运行\n",
    "init = tf.global_variables_initializer()\n",
    "sess.run(tf.tables_initializer())\n",
    "sess.run(init)\n",
    "\n",
    "v = sess.run(inputs)\n",
    "print(v)"
   ]
  },
  {
   "cell_type": "markdown",
   "metadata": {
    "ExecuteTime": {
     "end_time": "2021-03-10T12:58:57.284144Z",
     "start_time": "2021-03-10T12:58:57.280984Z"
    }
   },
   "source": [
    "### embedding_column\n",
    "\n",
    "* embedding_column：把 categorical_column 进一步转换为 embedding"
   ]
  },
  {
   "cell_type": "code",
   "execution_count": 5,
   "metadata": {
    "ExecuteTime": {
     "end_time": "2021-03-10T12:58:57.284144Z",
     "start_time": "2021-03-10T12:58:57.280984Z"
    }
   },
   "outputs": [
    {
     "name": "stdout",
     "output_type": "stream",
     "text": [
      "[[-0.0143425   0.1741002  -0.09912673 -0.22460788  0.10394533]\n",
      " [-0.0143425   0.1741002  -0.09912673 -0.22460788  0.10394533]\n",
      " [ 0.22888376 -0.12529817 -0.38291758 -0.2713956   0.3131153 ]\n",
      " [ 0.27156228  0.13630466 -0.46924916 -0.03021192 -0.8221253 ]\n",
      " [ 0.03409626  0.08630039 -0.30304956 -0.00866169  0.19067748]]\n"
     ]
    }
   ],
   "source": [
    "import tensorflow as tf\n",
    "\n",
    "#特征数据\n",
    "features = {\n",
    "    'department': ['sport', 'sport', 'drawing', 'gardening', 'travelling'],\n",
    "}\n",
    "\n",
    "#特征列\n",
    "vocab_list = ['sport','drawing','gardening','travelling']\n",
    "department = tf.feature_column.categorical_column_with_vocabulary_list('department', vocab_list, dtype=tf.string)\n",
    "department_emb = tf.feature_column.embedding_column(department, 5)\n",
    "\n",
    "#组合特征列\n",
    "columns = [\n",
    "    department_emb\n",
    "]\n",
    "\n",
    "inputs = tf.feature_column.input_layer(features, columns)\n",
    "\n",
    "with tf.Session() as sess:\n",
    "    sess.run(tf.tables_initializer())\n",
    "    sess.run(tf.global_variables_initializer())\n",
    "\n",
    "    v = sess.run(inputs)\n",
    "    print(v)"
   ]
  },
  {
   "cell_type": "markdown",
   "metadata": {},
   "source": []
  },
  {
   "cell_type": "markdown",
   "metadata": {},
   "source": [
    "## 总结\n",
    "\n",
    "本文通过直观的数据输出来展现tf.feature_column的特征处理过程，方便大家理解这个函数，tensorflow作为目前最常用的深度学习框架，有着很多高级的API，这些接口都可以极大方便我们算法工程师的工作，tf.estimator不仅可以很好地处理特征，同时它将train、evaluatete、predict都集成到了一起，大家平时可以多使用该接口。\n",
    "\n",
    "# References\n",
    "1. http://localhost:8888/lab/tree/DL-Project/learnTensorflow/Tensorflow%20tf.feature_column.ipynb\n",
    "\n",
    "1. [tf.feature_column的特征处理探究 - 知乎](https://zhuanlan.zhihu.com/p/73701872)\n",
    "\n",
    "2. [tf.compat.v1.feature_column.input_layer  |  TensorFlow Core v2.4.1](https://tensorflow.google.cn/api_docs/python/tf/compat/v1/feature_column/input_layer?hl=en)\n",
    "\n",
    "3. [tf.feature_column.indicator_column  |  TensorFlow Core v1.15.0](https://www.tensorflow.org/versions/r1.15/api_docs/python/tf/feature_column/indicator_column)"
   ]
  }
 ],
 "metadata": {
  "hide_input": false,
  "kernelspec": {
   "display_name": "Python [conda env:tensorflow1.15]",
   "language": "python",
   "name": "conda-env-tensorflow1.15-py"
  },
  "language_info": {
   "codemirror_mode": {
    "name": "ipython",
    "version": 3
   },
   "file_extension": ".py",
   "mimetype": "text/x-python",
   "name": "python",
   "nbconvert_exporter": "python",
   "pygments_lexer": "ipython3",
   "version": "3.6.2"
  },
  "toc": {
   "base_numbering": 1,
   "nav_menu": {},
   "number_sections": true,
   "sideBar": true,
   "skip_h1_title": false,
   "title_cell": "Table of Contents",
   "title_sidebar": "Contents",
   "toc_cell": false,
   "toc_position": {
    "height": "calc(100% - 180px)",
    "left": "10px",
    "top": "150px",
    "width": "288px"
   },
   "toc_section_display": true,
   "toc_window_display": true
  },
  "varInspector": {
   "cols": {
    "lenName": 16,
    "lenType": 16,
    "lenVar": 40
   },
   "kernels_config": {
    "python": {
     "delete_cmd_postfix": "",
     "delete_cmd_prefix": "del ",
     "library": "var_list.py",
     "varRefreshCmd": "print(var_dic_list())"
    },
    "r": {
     "delete_cmd_postfix": ") ",
     "delete_cmd_prefix": "rm(",
     "library": "var_list.r",
     "varRefreshCmd": "cat(var_dic_list()) "
    }
   },
   "types_to_exclude": [
    "module",
    "function",
    "builtin_function_or_method",
    "instance",
    "_Feature"
   ],
   "window_display": false
  }
 },
 "nbformat": 4,
 "nbformat_minor": 4
}
