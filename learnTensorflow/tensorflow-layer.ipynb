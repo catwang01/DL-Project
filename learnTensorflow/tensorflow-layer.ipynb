{
 "cells": [
  {
   "cell_type": "markdown",
   "metadata": {},
   "source": [
    "[toc]\n",
    "\n",
    "# Tensorflow Layer"
   ]
  },
  {
   "cell_type": "markdown",
   "metadata": {},
   "source": [
    "比较推荐的实践是继承 `tf.keras.layers.Layer`，并定义 `__init__`, `build`, `call` 三个函数。其中 `__init__` 一般做一些和形状无关的初始化，而 `build` 一般做一些和形状有关的初始化，而 `call` 指前向传播。"
   ]
  },
  {
   "cell_type": "markdown",
   "metadata": {},
   "source": [
    "## 推荐的作法"
   ]
  },
  {
   "cell_type": "code",
   "execution_count": 1,
   "metadata": {
    "ExecuteTime": {
     "end_time": "2020-07-29T14:21:21.082506Z",
     "start_time": "2020-07-29T14:21:19.632031Z"
    }
   },
   "outputs": [
    {
     "name": "stdout",
     "output_type": "stream",
     "text": [
      "2.1.0\n"
     ]
    },
    {
     "data": {
      "text/plain": [
       "<tf.Tensor: shape=(2, 3), dtype=float32, numpy=\n",
       "array([[ 1.0828593, -0.3148812,  1.2370515],\n",
       "       [ 2.5652494, -1.3047172, -1.8012459]], dtype=float32)>"
      ]
     },
     "execution_count": 1,
     "metadata": {},
     "output_type": "execute_result"
    }
   ],
   "source": [
    "import tensorflow as tf\n",
    "\n",
    "print(tf.__version__)\n",
    "\n",
    "\n",
    "class MyDenseLayer(tf.keras.layers.Layer):\n",
    "    def __init__(self, num_outputs):\n",
    "        super(MyDenseLayer, self).__init__()\n",
    "        self.num_outputs = num_outputs\n",
    "\n",
    "    def build(self, input_shape):\n",
    "        input_dim = input_shape[-1]\n",
    "        self.kernel = self.add_weight(\n",
    "            \"kernel\", shape=[input_dim, self.num_outputs])\n",
    "        self.bias = self.add_weight(\"bias\", shape=[1, self.num_outputs])\n",
    "\n",
    "    def call(self, input):\n",
    "        return tf.matmul(input, self.kernel) + self.bias\n",
    "\n",
    "n_samples = 2\n",
    "indim = 4\n",
    "outdim = 3 \n",
    "layer = MyDenseLayer(outdim)\n",
    "layer.build(input_shape=(None, indim))\n",
    "x = tf.random.normal([n_samples, indim])\n",
    "layer(x)"
   ]
  },
  {
   "cell_type": "code",
   "execution_count": 2,
   "metadata": {
    "ExecuteTime": {
     "end_time": "2020-07-29T14:21:21.087955Z",
     "start_time": "2020-07-29T14:21:21.084165Z"
    }
   },
   "outputs": [
    {
     "name": "stdout",
     "output_type": "stream",
     "text": [
      "['my_dense_layer/kernel:0', 'my_dense_layer/bias:0']\n"
     ]
    }
   ],
   "source": [
    "print([var.name for var in layer.trainable_variables])"
   ]
  },
  {
   "cell_type": "markdown",
   "metadata": {},
   "source": [
    "## 不重写 build"
   ]
  },
  {
   "cell_type": "markdown",
   "metadata": {
    "ExecuteTime": {
     "end_time": "2020-07-29T14:18:35.101075Z",
     "start_time": "2020-07-29T14:18:35.096870Z"
    }
   },
   "source": [
    "其中，`build` 不是必须的，也可以不重写 `build` 函数，并在 `__init__` 中做那么和形状有关的初始化，但是 tensorlfow 不建议这样做，具体原因可以看 [ 1 ]"
   ]
  },
  {
   "cell_type": "code",
   "execution_count": 3,
   "metadata": {
    "ExecuteTime": {
     "end_time": "2020-07-29T14:21:21.099654Z",
     "start_time": "2020-07-29T14:21:21.090010Z"
    }
   },
   "outputs": [
    {
     "data": {
      "text/plain": [
       "<tf.Tensor: shape=(2, 3), dtype=float32, numpy=\n",
       "array([[0.91596544, 0.9862181 , 0.23890126],\n",
       "       [0.9338381 , 3.0983229 , 0.        ]], dtype=float32)>"
      ]
     },
     "execution_count": 3,
     "metadata": {},
     "output_type": "execute_result"
    }
   ],
   "source": [
    "import tensorflow as tf\n",
    "from tensorflow import keras\n",
    "\n",
    "class MyDense(keras.layers.Layer):\n",
    "    def __init__(self, indim, outdim):\n",
    "        super(MyDense, self).__init__()\n",
    "        self.kernel = self.add_weight(\"kernel\", shape=(indim, outdim))\n",
    "        self.bias = self.add_weight(\"bias\", shape=[1, outdim])\n",
    "\n",
    "    def call(self, inputs, training=None):\n",
    "        out = tf.matmul(inputs, self.kernel) + self.bias\n",
    "        out = tf.nn.relu(out)\n",
    "        return out\n",
    "\n",
    "n_samples = 2\n",
    "indim = 4\n",
    "outdim = 3\n",
    "x = tf.random.normal([n_samples, indim])\n",
    "mydense = MyDense(indim, outdim)\n",
    "mydense(x)"
   ]
  },
  {
   "cell_type": "markdown",
   "metadata": {
    "ExecuteTime": {
     "end_time": "2020-07-29T14:18:41.916060Z",
     "start_time": "2020-07-29T14:18:41.910959Z"
    }
   },
   "source": [
    "# References\n",
    "\n",
    "1. [Custom layers  |  TensorFlow Core](https://tensorflow.google.cn/tutorials/customization/custom_layers?hl=zh-cn)"
   ]
  }
 ],
 "metadata": {
  "hide_input": false,
  "kernelspec": {
   "display_name": "Python [conda env:tensorflow2]",
   "language": "python",
   "name": "conda-env-tensorflow2-py"
  },
  "language_info": {
   "codemirror_mode": {
    "name": "ipython",
    "version": 3
   },
   "file_extension": ".py",
   "mimetype": "text/x-python",
   "name": "python",
   "nbconvert_exporter": "python",
   "pygments_lexer": "ipython3",
   "version": "3.6.10"
  },
  "toc": {
   "base_numbering": 1,
   "nav_menu": {},
   "number_sections": true,
   "sideBar": true,
   "skip_h1_title": false,
   "title_cell": "Table of Contents",
   "title_sidebar": "Contents",
   "toc_cell": false,
   "toc_position": {},
   "toc_section_display": true,
   "toc_window_display": true
  },
  "varInspector": {
   "cols": {
    "lenName": 16,
    "lenType": 16,
    "lenVar": 40
   },
   "kernels_config": {
    "python": {
     "delete_cmd_postfix": "",
     "delete_cmd_prefix": "del ",
     "library": "var_list.py",
     "varRefreshCmd": "print(var_dic_list())"
    },
    "r": {
     "delete_cmd_postfix": ") ",
     "delete_cmd_prefix": "rm(",
     "library": "var_list.r",
     "varRefreshCmd": "cat(var_dic_list()) "
    }
   },
   "types_to_exclude": [
    "module",
    "function",
    "builtin_function_or_method",
    "instance",
    "_Feature"
   ],
   "window_display": false
  }
 },
 "nbformat": 4,
 "nbformat_minor": 2
}
