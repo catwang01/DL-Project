{
 "cells": [
  {
   "cell_type": "markdown",
   "metadata": {},
   "source": [
    "[toc]\n",
    "\n",
    "# Tensorflow index_to_string_table_from_file和index_table_from_file\n",
    "\n",
    "这两个函数的作用有点类似于 idx2label 和 label2idx\n",
    "\n",
    "从文件中构建 `int->string` 映射和 `string->int` 映射，分别返回\n",
    "\n",
    "`tf.contrib.lookup.HashTable` 对象和 `tf.contrib.lookup.IdTableWithHashBuckets`对象\n",
    "\n",
    "但是 `index_to_string_table_from_file` 和 `index_table_from_file` 都返回的字符串是 byte 类型的"
   ]
  },
  {
   "cell_type": "markdown",
   "metadata": {},
   "source": [
    "## index_to_string_table_from_file"
   ]
  },
  {
   "cell_type": "code",
   "execution_count": 16,
   "metadata": {},
   "outputs": [],
   "source": [
    "!echo -e \"B-DET\\nB-TYPE\\nE-DET\\nE-TYPE\\nI-DET\\nI-TYPE\\nO\\nS-DET\\nS-TYPE\" > vocab.tags.txt"
   ]
  },
  {
   "cell_type": "code",
   "execution_count": 34,
   "metadata": {},
   "outputs": [
    {
     "name": "stdout",
     "output_type": "stream",
     "text": [
      "[b'B-TYPE' b'I-TYPE' b'S-TYPE' b'UNK']\n",
      "[8 7 6 5 4 3 2 1 0]\n",
      "[b'S-TYPE' b'S-DET' b'O' b'I-TYPE' b'I-DET' b'E-TYPE' b'E-DET' b'B-TYPE'\n",
      " b'B-DET']\n"
     ]
    }
   ],
   "source": [
    "import tensorflow as tf \n",
    "indices = tf.constant([1, 5, 8, 11], tf.int64)\n",
    "reverse_vocab_tags = tf.contrib.lookup.index_to_string_table_from_file('vocab.tags.txt') \n",
    "selected = reverse_vocab_tags.lookup(indices)\n",
    "tables = reverse_vocab_tags.export()\n",
    "with tf.Session() as sess:   \n",
    "    tf.tables_initializer().run() \n",
    "    idx, byte_strings = sess.run(tables)  \n",
    "    print(sess.run(selected))\n",
    "    print(idx)\n",
    "    print(byte_strings)"
   ]
  },
  {
   "cell_type": "markdown",
   "metadata": {},
   "source": [
    "注意，如果 index 超过了 table 中的单词个数，那么会返回 `UNK`"
   ]
  },
  {
   "cell_type": "markdown",
   "metadata": {},
   "source": [
    "可以使用 `.decode` 方法转换为 unicode 字符"
   ]
  },
  {
   "cell_type": "code",
   "execution_count": 35,
   "metadata": {},
   "outputs": [],
   "source": [
    "strings = [byte_string.decode() for byte_string in byte_strings]"
   ]
  },
  {
   "cell_type": "markdown",
   "metadata": {},
   "source": [
    "### index_table_from_file"
   ]
  },
  {
   "cell_type": "code",
   "execution_count": 32,
   "metadata": {},
   "outputs": [],
   "source": [
    "!echo -e \"B-DET\\nB-TYPE\\nE-DET\\nE-TYPE\\nI-DET\\nI-TYPE\\nO\\nS-DET\\nS-TYPE\" > vocab.tags.txt"
   ]
  },
  {
   "cell_type": "markdown",
   "metadata": {},
   "source": [
    "注意，没有在 table 中的会被解码为 9"
   ]
  },
  {
   "cell_type": "code",
   "execution_count": 33,
   "metadata": {},
   "outputs": [
    {
     "name": "stdout",
     "output_type": "stream",
     "text": [
      "[0 8 6 9]\n"
     ]
    }
   ],
   "source": [
    "import tensorflow as tf\n",
    "\n",
    "features = tf.constant(['B-DET', 'S-TYPE', 'O', 'haha'])  # print(type('工')) # str\n",
    "reverse_vocab_tags = tf.contrib.lookup.index_table_from_file(\n",
    "    'vocab.tags.txt', key_dtype=tf.dtypes.string, num_oov_buckets=1)\n",
    "\n",
    "values = reverse_vocab_tags.lookup(features)\n",
    "with tf.Session() as sess:\n",
    "    tf.tables_initializer().run()\n",
    "    print(values.eval())"
   ]
  },
  {
   "cell_type": "markdown",
   "metadata": {},
   "source": [
    "# References\n",
    "\n",
    "[Tensorflow：tf.contrib.lookup索引构建和查询_皮皮blog-CSDN博客](https://blog.csdn.net/pipisorry/article/details/90409062)"
   ]
  }
 ],
 "metadata": {
  "kernelspec": {
   "display_name": "Python [conda env:tars]",
   "language": "python",
   "name": "conda-env-tars-py"
  },
  "language_info": {
   "codemirror_mode": {
    "name": "ipython",
    "version": 3
   },
   "file_extension": ".py",
   "mimetype": "text/x-python",
   "name": "python",
   "nbconvert_exporter": "python",
   "pygments_lexer": "ipython3",
   "version": "3.7.9"
  },
  "toc": {
   "base_numbering": 1,
   "nav_menu": {},
   "number_sections": true,
   "sideBar": true,
   "skip_h1_title": false,
   "title_cell": "Table of Contents",
   "title_sidebar": "Contents",
   "toc_cell": false,
   "toc_position": {},
   "toc_section_display": true,
   "toc_window_display": false
  }
 },
 "nbformat": 4,
 "nbformat_minor": 4
}
