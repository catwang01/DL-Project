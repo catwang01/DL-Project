{
 "cells": [
  {
   "cell_type": "markdown",
   "metadata": {},
   "source": [
    "[toc]\n",
    "\n",
    "# Tensorflow argmax"
   ]
  },
  {
   "cell_type": "code",
   "execution_count": 7,
   "metadata": {},
   "outputs": [
    {
     "name": "stdout",
     "output_type": "stream",
     "text": [
      "[[[ 0.51914843  0.79442973 -0.4826877   0.5712281  -2.89543088]\n",
      "  [ 0.09910049  0.15006273  0.32682984  0.72683424 -0.87183461]\n",
      "  [ 0.69824347 -0.319515    1.65889212  0.25629936 -0.30733939]\n",
      "  [-2.01349167  2.49388557  1.64354943  0.490304   -0.8440264 ]]\n",
      "\n",
      " [[ 0.31558306 -0.02472891  0.47017108 -0.07395894  0.32197448]\n",
      "  [-1.13058988  1.51426088 -2.21263398  0.09365468 -0.55756489]\n",
      "  [-0.46100975  0.23125329  0.83979465  1.28642456 -1.79152317]\n",
      "  [-0.6974488   0.3176169  -0.87279863  1.12678965 -1.35673979]]\n",
      "\n",
      " [[ 0.58211931  0.09599593  0.56847665 -0.05573308  0.53564008]\n",
      "  [-0.2519064   0.29568329  1.04915223  0.20731    -0.49302051]\n",
      "  [-1.24565129  0.09365373 -0.35010423  1.39989108  0.07878053]\n",
      "  [ 0.2843332  -1.60750406 -0.81665672 -0.54402866 -0.76723619]]]\n",
      "[[1 3 2 1]\n",
      " [2 1 3 3]\n",
      " [0 2 3 0]]\n"
     ]
    }
   ],
   "source": [
    "import tensorflow as tf\n",
    "import numpy as np\n",
    "\n",
    "\n",
    "x = tf.constant(np.random.normal(size=(3,4,5)))\n",
    "argmax = tf.argmax(x, axis=-1)\n",
    "\n",
    "with tf.Session() as sess:\n",
    "    print(sess.run(x))\n",
    "    print(sess.run(argmax))"
   ]
  },
  {
   "cell_type": "code",
   "execution_count": null,
   "metadata": {},
   "outputs": [],
   "source": []
  }
 ],
 "metadata": {
  "kernelspec": {
   "display_name": "Python [conda env:tars]",
   "language": "python",
   "name": "conda-env-tars-py"
  },
  "language_info": {
   "codemirror_mode": {
    "name": "ipython",
    "version": 3
   },
   "file_extension": ".py",
   "mimetype": "text/x-python",
   "name": "python",
   "nbconvert_exporter": "python",
   "pygments_lexer": "ipython3",
   "version": "3.7.9"
  },
  "toc": {
   "base_numbering": 1,
   "nav_menu": {},
   "number_sections": true,
   "sideBar": true,
   "skip_h1_title": false,
   "title_cell": "Table of Contents",
   "title_sidebar": "Contents",
   "toc_cell": false,
   "toc_position": {},
   "toc_section_display": true,
   "toc_window_display": false
  }
 },
 "nbformat": 4,
 "nbformat_minor": 4
}
