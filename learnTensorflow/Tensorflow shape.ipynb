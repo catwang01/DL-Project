{
 "cells": [
  {
   "cell_type": "markdown",
   "metadata": {},
   "source": [
    "[toc]\n",
    "\n",
    "# Tensorflow shape"
   ]
  },
  {
   "cell_type": "markdown",
   "metadata": {},
   "source": [
    "获取变量维度是一个使用频繁的操作，在tensorflow中获取变量维度主要用到的操作有以下三种：\n",
    "\n",
    "*   Tensor.shape\n",
    "*   Tensor.get_shape()\n",
    "*   tf.shape(input, name=None, out_type=tf.int32)\n",
    "\n",
    "对上面三种操作做一下简单分析：（这三种操作先记作**A、B、C**）\n",
    "\n",
    "*   **A** 和 **B** 基本一样，只不过前者是Tensor的属性变量，后者是Tensor的函数。\n",
    "*   **A** 和 **B** 均返回TensorShape类型，而 **C** 返回一个 1D 的 out_type 类型的Tensor。\n",
    "*   **A** 和 **B** 可以在任意位置使用，而 **C** 必须在Session中使用。\n",
    "*   **A** 和 **B** 获取的是静态shape，**可以返回不完整的shape**； **C** 获取的是动态的shape，必须是完整的shape。\n",
    "\n",
    "另外，补充从TenaorShape变量中获取具体维度数值的方法"
   ]
  },
  {
   "cell_type": "code",
   "execution_count": 23,
   "metadata": {},
   "outputs": [
    {
     "name": "stdout",
     "output_type": "stream",
     "text": [
      "(?, ?)\n",
      "None\n",
      "None\n",
      "[None, None]\n"
     ]
    }
   ],
   "source": [
    "import tensorflow as tf\n",
    "\n",
    "x = tf.placeholder(tf.float32, [None, None])\n",
    "\n",
    "# 直接获取TensorShape变量的第i个维度值\n",
    "\n",
    "print(x.shape)\n",
    "print(x.shape[0].value)\n",
    "print(x.get_shape()[1].value)\n",
    "\n",
    "# 将TensorShape变量转化为list类型，然后直接按照索引取值\n",
    "print(x.get_shape().as_list())"
   ]
  },
  {
   "cell_type": "markdown",
   "metadata": {},
   "source": [
    "下面给出全部的示例程序："
   ]
  },
  {
   "cell_type": "code",
   "execution_count": 21,
   "metadata": {},
   "outputs": [
    {
     "name": "stdout",
     "output_type": "stream",
     "text": [
      "x1.shape: (2, 3)\n",
      "x2.shape: (?, 2, 3)\n",
      "x2.shape[1].value: 2\n",
      "tf.shape(x1): Tensor(\"Shape_7:0\", shape=(2,), dtype=int32)\n",
      "tf.shape(x2): Tensor(\"Shape_8:0\", shape=(3,), dtype=int32)\n",
      "x1.get_shape(): (2, 3)\n",
      "x2.get_shape(): (?, 2, 3)\n",
      "x2.get_shape.as_list[1]: 2\n",
      "Within session, tf.shape(x1): [2 3]\n"
     ]
    }
   ],
   "source": [
    "import tensorflow as tf\n",
    "\n",
    "x1 = tf.constant([[1,2,3],[4,5,6]])\n",
    "# 占位符创建变量，第一个维度初始化为None，表示暂不指定维度\n",
    "x2 = tf.placeholder(tf.float32,[None, 2,3])\n",
    "print('x1.shape:',x1.shape)\n",
    "print('x2.shape:',x2.shape)\n",
    "print('x2.shape[1].value:',x2.shape[1].value)\n",
    "print('tf.shape(x1):',tf.shape(x1))\n",
    "print('tf.shape(x2):',tf.shape(x2))\n",
    "print('x1.get_shape():',x1.get_shape())\n",
    "print('x2.get_shape():',x2.get_shape())\n",
    "print('x2.get_shape.as_list[1]:',x2.get_shape().as_list()[1])\n",
    "shapeOP1 = tf.shape(x1)\n",
    "shapeOP2 = tf.shape(x2)\n",
    "with tf.Session() as sess:\n",
    "    print('Within session, tf.shape(x1):',sess.run(shapeOP1))\n",
    "    # 由于x2未进行完整的变量填充，其维度不完整，因此执行下面的命令将会报错\n",
    "    # print('Within session, tf.shape(x2):',sess.run(shapeOP2)) # 此命令将会报错"
   ]
  }
 ],
 "metadata": {
  "kernelspec": {
   "display_name": "Python [conda env:tars]",
   "language": "python",
   "name": "conda-env-tars-py"
  },
  "language_info": {
   "codemirror_mode": {
    "name": "ipython",
    "version": 3
   },
   "file_extension": ".py",
   "mimetype": "text/x-python",
   "name": "python",
   "nbconvert_exporter": "python",
   "pygments_lexer": "ipython3",
   "version": "3.7.9"
  }
 },
 "nbformat": 4,
 "nbformat_minor": 4
}
