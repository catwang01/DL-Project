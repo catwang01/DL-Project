{
 "cells": [
  {
   "cell_type": "markdown",
   "metadata": {},
   "source": [
    "---\n",
    "title: Tensorflow2 加速 predict\n",
    "tags: 小书匠,tensorflow2,predict,inference,function\n",
    "grammar_cjkRuby: true\n",
    "renderNumberedHeading: true\n",
    "---\n",
    "\n",
    "[toc]\n",
    "\n",
    "# Tensorflow2 加速 predict"
   ]
  },
  {
   "cell_type": "markdown",
   "metadata": {},
   "source": [
    "有的时候，`model.predict` 的预测速度很慢，此时我们可以直接调用 `model.call` 接口，并结合 `tf.function` 来代替 `model.predict`，会带来很大的加速。"
   ]
  },
  {
   "cell_type": "code",
   "execution_count": 7,
   "metadata": {},
   "outputs": [
    {
     "name": "stdout",
     "output_type": "stream",
     "text": [
      "2.7391841411590576\n"
     ]
    }
   ],
   "source": [
    "from tensorflow.keras import Input, Model\n",
    "import time\n",
    "import numpy as np\n",
    "\n",
    "x = Input(shape=(1, 1))\n",
    "model = Model(inputs=x, outputs=x)\n",
    "\n",
    "t = time.time()\n",
    "i = 0\n",
    "while i<100:\n",
    "    model.predict(np.zeros((1, 1, 1)))\n",
    "    i += 1\n",
    "print(time.time() - t)"
   ]
  },
  {
   "cell_type": "code",
   "execution_count": 10,
   "metadata": {},
   "outputs": [
    {
     "name": "stdout",
     "output_type": "stream",
     "text": [
      "0.03891730308532715\n"
     ]
    }
   ],
   "source": [
    "from tensorflow.keras import Input, Model\n",
    "import time\n",
    "import numpy as np\n",
    "import tensorflow as tf\n",
    "\n",
    "x = Input(shape=(1, 1))\n",
    "model = Model(inputs=x, outputs=x)\n",
    "model.call = tf.function(model.call)\n",
    "\n",
    "t = time.time()\n",
    "i = 0\n",
    "while i<100:\n",
    "    # 这样会调用 model.call 接口\n",
    "    model(np.zeros((1, 1, 1)), training=False)\n",
    "    i += 1\n",
    "print(time.time() - t)"
   ]
  },
  {
   "cell_type": "markdown",
   "metadata": {},
   "source": [
    "# References\n",
    "- http://localhost:8888/lab/tree/DL-Project/learnTensorflow/Tensorflow2%20%E5%8A%A0%E9%80%9F%20predict.ipynb\n",
    "- [model.predict is much slower on TF 2.1+ · Issue #40261 · tensorflow/tensorflow](https://github.com/tensorflow/tensorflow/issues/40261)"
   ]
  }
 ],
 "metadata": {
  "kernelspec": {
   "display_name": "Python [conda env:tensorflow2]",
   "language": "python",
   "name": "conda-env-tensorflow2-py"
  },
  "language_info": {
   "codemirror_mode": {
    "name": "ipython",
    "version": 3
   },
   "file_extension": ".py",
   "mimetype": "text/x-python",
   "name": "python",
   "nbconvert_exporter": "python",
   "pygments_lexer": "ipython3",
   "version": "3.6.10"
  }
 },
 "nbformat": 4,
 "nbformat_minor": 4
}
