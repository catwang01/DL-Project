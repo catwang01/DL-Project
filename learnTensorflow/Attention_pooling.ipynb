{
 "cells": [
  {
   "cell_type": "markdown",
   "metadata": {},
   "source": [
    "[toc] \n",
    "\n",
    "# Attention_pooling"
   ]
  },
  {
   "cell_type": "markdown",
   "metadata": {},
   "source": [
    "一般的 pooling，会将一个 `[batch_size, seq_len, hidden_size]` 的乘以一个 `[seq_len, 1]` 的 向量，得到一个 `[batch_size, hidden_size]` 的向量。\n",
    "\n",
    "这样的坏处是每个 batch 的权重矩阵是相同的"
   ]
  },
  {
   "cell_type": "markdown",
   "metadata": {},
   "source": [
    "## normal pool"
   ]
  },
  {
   "cell_type": "code",
   "execution_count": null,
   "metadata": {},
   "outputs": [],
   "source": [
    "import numpy as np\n",
    "\n",
    "np.random.seed(12345)\n",
    "\n",
    "batch_size = 2\n",
    "seq_len = 3\n",
    "hidden_size=  4\n",
    "\n",
    "x = np.random.randn(batch_size, seq_len, hidden_size)\n",
    "# print(x)\n",
    "def normal_pooling(x, weight=None):\n",
    "    batch_size, seq_len, hidden_size = x.shape\n",
    "    if weight is None:\n",
    "        weight = np.random.randn(1, seq_len)\n",
    "        weight /= np.sum(weight)\n",
    "        # print (weight)\n",
    "    pooled = np.matmul(weight, x)\n",
    "    return pooled.squeeze()\n",
    "\n",
    "res = normal_pooling(x)\n",
    "print(res)\n",
    "res.shape"
   ]
  },
  {
   "cell_type": "markdown",
   "metadata": {},
   "source": [
    "## attention pooling"
   ]
  },
  {
   "cell_type": "markdown",
   "metadata": {},
   "source": [
    "attention pooling 是从一个 [1, hidden_size] 的 query 出发，最后构造出一个 attention_probs，使得对于不同的 batch 来说，权重也是不同的。"
   ]
  },
  {
   "cell_type": "code",
   "execution_count": 32,
   "metadata": {},
   "outputs": [
    {
     "data": {
      "text/plain": [
       "array([[-0.20455599,  0.47897794, -0.51925441, -0.55570914],\n",
       "       [-1.99910161, -0.37118293,  1.66855777, -0.43718541]])"
      ]
     },
     "execution_count": 32,
     "metadata": {},
     "output_type": "execute_result"
    }
   ],
   "source": [
    "def dense(x, units, use_bias=False):\n",
    "    input_dim = x.shape[-1]\n",
    "    weights = np.random.randn(input_dim, units)\n",
    "    if use_bias:\n",
    "        bias = np.random.randn(units)\n",
    "        return np.matmul(x, weights) + bias\n",
    "    else:\n",
    "        return np.matmul(x, weights)\n",
    "    \n",
    "def reshape_to_matrix(x):\n",
    "    return x.reshape(-1, x.shape[-1])\n",
    "\n",
    "def softmax(x):\n",
    "    assert x.ndim == 2\n",
    "    c = np.max(x, axis=1, keepdims=True)\n",
    "    exp_x = np.exp(x-c) \n",
    "    sum_x = np.sum(exp_x, axis=1, keepdims=True)\n",
    "    return exp_x / (sum_x + 10e-5)\n",
    "    \n",
    "def attention_pooling(x,\n",
    "                      weight=None,\n",
    "                      input_mask=None):\n",
    "    '''\n",
    "    last_layer_tensor shape = [batch_size, seq_length, hidden_size]\n",
    "    input_mask shape = [batch_size, seq_length]\n",
    "    '''\n",
    "    batch_size, seq_size, hidden_size = x.shape\n",
    "\n",
    "    # use a trainable vector to find effective part from the sequence\n",
    "    query = np.random.randn(1, hidden_size)\n",
    "    \n",
    "    # layer norm\n",
    "    query /= np.sum(query)\n",
    "    \n",
    "    # linear projection\n",
    "    query = dense(query, hidden_size, use_bias=False)\n",
    "    \n",
    "    # shape = [batch_size * seq_length, hidden_size]\n",
    "    key = reshape_to_matrix(x)\n",
    "    \n",
    "    # linear projection\n",
    "    key = dense(key, hidden_size, use_bias=False)\n",
    "    \n",
    "    # calculate attention, shape = [batch_size * seq_length, 1]\n",
    "    attention_scores = np.matmul(key, query.T)\n",
    "    \n",
    "    # trick: a = a / sqrt(d)\n",
    "    attention_scores = np.multiply(\n",
    "      attention_scores, 1.0 / np.sqrt(float(hidden_size)))\n",
    "    \n",
    "    # shape = [batch_size, seq_length]\n",
    "    attention_scores = np.reshape(attention_scores, [batch_size, -1])\n",
    "    # apply mask\n",
    "    if input_mask is not None:\n",
    "    # 1 means effective, 0 means not effective\n",
    "        adder = (1.0 - np.cast(input_mask, np.float32)) * -10000.0\n",
    "    # add to keep softmax ZERO\n",
    "        attention_scores += adder\n",
    "    \n",
    "    # softmax\n",
    "    # shape = [batch_size, seq_length]\n",
    "    attention_probs = softmax(attention_scores)\n",
    "    \n",
    "    # pooling\n",
    "    # shape = [batch_size, 1, seq_length]\n",
    "    attention_probs = np.expand_dims(attention_probs, axis=1)\n",
    "    \n",
    "    # shape = [batch_size, 1, hidden_size]\n",
    "    pooling_result = np.matmul(attention_probs, x)\n",
    "    \n",
    "    # shape = [batch_size, hidden_size]\n",
    "    return np.squeeze(pooling_result, axis=1)\n",
    "\n",
    "attention_pooling(x)"
   ]
  }
 ],
 "metadata": {
  "kernelspec": {
   "display_name": "Python [conda env:tars]",
   "language": "python",
   "name": "conda-env-tars-py"
  },
  "language_info": {
   "codemirror_mode": {
    "name": "ipython",
    "version": 3
   },
   "file_extension": ".py",
   "mimetype": "text/x-python",
   "name": "python",
   "nbconvert_exporter": "python",
   "pygments_lexer": "ipython3",
   "version": "3.7.9"
  },
  "toc": {
   "base_numbering": 1,
   "nav_menu": {},
   "number_sections": true,
   "sideBar": true,
   "skip_h1_title": false,
   "title_cell": "Table of Contents",
   "title_sidebar": "Contents",
   "toc_cell": false,
   "toc_position": {},
   "toc_section_display": true,
   "toc_window_display": false
  }
 },
 "nbformat": 4,
 "nbformat_minor": 4
}
