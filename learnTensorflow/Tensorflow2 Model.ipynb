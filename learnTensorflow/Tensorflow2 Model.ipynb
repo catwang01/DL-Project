{
 "cells": [
  {
   "cell_type": "markdown",
   "metadata": {},
   "source": [
    "---\n",
    "title: Tensorflow2 Model Input 形状指定\n",
    "tags: 小书匠,tensorflow2,model,input,input_shape\n",
    "grammar_cjkRuby: true\n",
    "renderNumberedHeading: true\n",
    "---\n",
    "\n",
    "[toc]\n",
    "\n",
    "# Tensorflow2 Model Input 形状指定"
   ]
  },
  {
   "cell_type": "code",
   "execution_count": 10,
   "metadata": {},
   "outputs": [
    {
     "name": "stdout",
     "output_type": "stream",
     "text": [
      "2.4.1\n"
     ]
    }
   ],
   "source": [
    "import tensorflow as tf\n",
    "from tensorflow import keras\n",
    "print(tf.__version__)"
   ]
  },
  {
   "cell_type": "markdown",
   "metadata": {},
   "source": [
    "## input 是 dict 时形状的指定"
   ]
  },
  {
   "cell_type": "code",
   "execution_count": 2,
   "metadata": {},
   "outputs": [],
   "source": [
    "class Model(tf.keras.Model):\n",
    "\n",
    "    def __init__(self):\n",
    "        super().__init__()\n",
    "        self._movie_full_dense = tf.keras.layers.Dense(\n",
    "            units=40, activation=tf.keras.layers.Activation(\"relu\"))\n",
    "        self._user_full_dense = tf.keras.layers.Dense(\n",
    "            units=40, activation=tf.keras.layers.Activation(\"relu\"))\n",
    "        self._full_dense = tf.keras.layers.Dense(\n",
    "            units=1, activation=tf.keras.layers.Activation(\"sigmoid\"))\n",
    "\n",
    "    def call(self, features):\n",
    "        movie_embedding = self._movie_full_dense(features['movie'])\n",
    "        user_embedding = self._user_full_dense(features['user'])\n",
    "        combined = tf.concat([movie_embedding, user_embedding], 1)\n",
    "        output = self._full_dense(combined)\n",
    "        return output"
   ]
  },
  {
   "cell_type": "markdown",
   "metadata": {},
   "source": [
    "### 方法一：在 `tf.keras.Input` 中通过 name 指定"
   ]
  },
  {
   "cell_type": "code",
   "execution_count": 12,
   "metadata": {},
   "outputs": [
    {
     "name": "stdout",
     "output_type": "stream",
     "text": [
      "2.4.1\n",
      "tf.Tensor(\n",
      "[[0.50687456]\n",
      " [0.50651133]], shape=(2, 1), dtype=float32)\n",
      "tf.Tensor(\n",
      "[[0.50824934]\n",
      " [0.50513655]], shape=(2, 1), dtype=float32)\n"
     ]
    }
   ],
   "source": [
    "import tensorflow as tf\n",
    "\n",
    "print(tf.version.VERSION)\n",
    "\n",
    "toy_data = {\n",
    "    'user': [[10], [12], [12], [10]],\n",
    "    'movie': [[0], [1], [0], [1]],\n",
    "}\n",
    "\n",
    "# dataset 中每一个 batch 是一个 dict\n",
    "dataset = tf.data.Dataset.from_tensor_slices(toy_data).batch(2)\n",
    "\n",
    "\n",
    "def make_model():\n",
    "    inp_movie = tf.keras.Input(shape=(1,), name=\"movie\") # 注意，这里的 name 要和 data 中的 key 对应\n",
    "    inp_user = tf.keras.Input(shape=(1,), name=\"user\")\n",
    "    movie_embedding = tf.keras.layers.Dense(\n",
    "        units=40, activation=tf.keras.layers.Activation(\"relu\"))(inp_movie)\n",
    "    user_embedding = tf.keras.layers.Dense(\n",
    "        units=40, activation=tf.keras.layers.Activation(\"relu\"))(inp_user)\n",
    "    combined = tf.concat([movie_embedding, user_embedding], 1)\n",
    "    output = tf.keras.layers.Dense(\n",
    "        units=1, activation=tf.keras.layers.Activation(\"sigmoid\"))(combined)\n",
    "    model = tf.keras.Model(inputs=[inp_movie, inp_user], outputs=output)\n",
    "    return model\n",
    "\n",
    "model = make_model()\n",
    "\n",
    "for x in dataset:\n",
    "    print(model(x))"
   ]
  },
  {
   "cell_type": "markdown",
   "metadata": {},
   "source": [
    "### 方法二：在 tf.keras.Model 的 inputs 参数中指定"
   ]
  },
  {
   "cell_type": "code",
   "execution_count": 13,
   "metadata": {},
   "outputs": [
    {
     "name": "stdout",
     "output_type": "stream",
     "text": [
      "2.4.1\n",
      "tf.Tensor(\n",
      "[[0.933691 ]\n",
      " [0.9588034]], shape=(2, 1), dtype=float32)\n",
      "tf.Tensor(\n",
      "[[0.95983577]\n",
      " [0.93203425]], shape=(2, 1), dtype=float32)\n"
     ]
    }
   ],
   "source": [
    "import tensorflow as tf\n",
    "\n",
    "print(tf.version.VERSION)\n",
    "\n",
    "toy_data = {\n",
    "    'user': [[10], [12], [12], [10]],\n",
    "    'movie': [[0], [1], [0], [1]],\n",
    "}\n",
    "\n",
    "dataset = tf.data.Dataset.from_tensor_slices(toy_data).batch(2)\n",
    "\n",
    "def make_model():\n",
    "    inp_movie = tf.keras.Input(shape=(1,))\n",
    "    inp_user = tf.keras.Input(shape=(1,))\n",
    "    movie_embedding = tf.keras.layers.Dense(\n",
    "        units=40, activation=tf.keras.layers.Activation(\"relu\"))(inp_movie)\n",
    "    user_embedding = tf.keras.layers.Dense(\n",
    "        units=40, activation=tf.keras.layers.Activation(\"relu\"))(inp_user)\n",
    "    combined = tf.concat([movie_embedding, user_embedding], 1)\n",
    "    output = tf.keras.layers.Dense(\n",
    "        units=1, activation=tf.keras.layers.Activation(\"sigmoid\"))(combined)\n",
    "    model = tf.keras.Model(inputs={\"movie\": inp_movie, \"user\": inp_user}, outputs=output)\n",
    "    return model\n",
    "\n",
    "\n",
    "model = make_model()\n",
    "\n",
    "for x in dataset:\n",
    "    print(model(x))"
   ]
  },
  {
   "cell_type": "markdown",
   "metadata": {},
   "source": [
    "# References\n",
    "- http://localhost:8888/lab/tree/DL-Project/learnTensorflow/Tensorflow2%20Model.ipynb\n",
    "- [Dictionary of tensors input for Keras Functional API TensorFlow 2.0 - Stack Overflow](https://stackoverflow.com/questions/58209678/dictionary-of-tensors-input-for-keras-functional-api-tensorflow-2-0)"
   ]
  }
 ],
 "metadata": {
  "kernelspec": {
   "display_name": "Python [conda env:tensorflow2]",
   "language": "python",
   "name": "conda-env-tensorflow2-py"
  },
  "language_info": {
   "codemirror_mode": {
    "name": "ipython",
    "version": 3
   },
   "file_extension": ".py",
   "mimetype": "text/x-python",
   "name": "python",
   "nbconvert_exporter": "python",
   "pygments_lexer": "ipython3",
   "version": "3.6.10"
  },
  "toc-autonumbering": false
 },
 "nbformat": 4,
 "nbformat_minor": 4
}
