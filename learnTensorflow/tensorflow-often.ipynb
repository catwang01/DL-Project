{
 "cells": [
  {
   "cell_type": "code",
   "execution_count": 106,
   "metadata": {},
   "outputs": [
    {
     "output_type": "execute_result",
     "data": {
      "text/plain": "<tf.Tensor: shape=(), dtype=float32, numpy=1.0>"
     },
     "metadata": {},
     "execution_count": 106
    }
   ],
   "source": [
    "x1 = tf.constant([[1.0, 4.0],\n",
    "                 [3.0, 2.0],\n",
    "                 [4.0, 6.0]])    \n",
    "\n",
    "# 默认是对所有的元素计算\n",
    "tf.reduce_min(x1) # <tf.Tensor: shape=(), dtype=float32, numpy=1.0>"
   ]
  },
  {
   "cell_type": "code",
   "execution_count": 111,
   "metadata": {},
   "outputs": [
    {
     "output_type": "execute_result",
     "data": {
      "text/plain": "<tf.Tensor: shape=(3,), dtype=float32, numpy=array([4., 3., 6.], dtype=float32)>"
     },
     "metadata": {},
     "execution_count": 111
    }
   ],
   "source": [
    "# axis=1 对行计算\n",
    "tf.reduce_max(x1, axis=1) # <tf.Tensor: shape=(3,), dtype=float32, numpy=array([4., 3., 6.], dtype=float32)>"
   ]
  },
  {
   "cell_type": "code",
   "execution_count": 110,
   "metadata": {},
   "outputs": [
    {
     "output_type": "execute_result",
     "data": {
      "text/plain": "<tf.Tensor: shape=(1, 1), dtype=float32, numpy=array([[20.]], dtype=float32)>"
     },
     "metadata": {},
     "execution_count": 110
    }
   ],
   "source": [
    "# 保持维度 keepdims=True\n",
    "tf.reduce_sum(x1, keepdims=True) # <tf.Tensor: shape=(1, 1), dtype=float32, numpy=array([[10.]], dtype=float32)>"
   ]
  }
 ],
 "metadata": {
  "language_info": {
   "codemirror_mode": {
    "name": "ipython",
    "version": 3
   },
   "file_extension": ".py",
   "mimetype": "text/x-python",
   "name": "python",
   "nbconvert_exporter": "python",
   "pygments_lexer": "ipython3",
   "version": "3.7.6-final"
  },
  "orig_nbformat": 2,
  "kernelspec": {
   "name": "python37664bitsrgancondad40efa82395a4251b23b581f920438c6",
   "display_name": "Python 3.7.6 64-bit ('srgan': conda)"
  }
 },
 "nbformat": 4,
 "nbformat_minor": 2
}