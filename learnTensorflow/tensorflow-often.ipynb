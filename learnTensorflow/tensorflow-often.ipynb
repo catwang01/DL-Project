{
 "cells": [
  {
   "cell_type": "markdown",
   "metadata": {},
   "source": [
    "[toc]\n",
    "\n",
    "# Tensorflow often"
   ]
  },
  {
   "cell_type": "code",
   "execution_count": 8,
   "metadata": {},
   "outputs": [
    {
     "name": "stdout",
     "output_type": "stream",
     "text": [
      "[array([[[-2.224313  ,  0.9633124 ],\n",
      "        [ 1.7856361 ,  0.21030359],\n",
      "        [-0.8858109 , -1.1038158 ],\n",
      "        [-0.6865347 , -0.03186231],\n",
      "        [ 0.12354209,  0.49452102],\n",
      "        [-1.2486702 ,  0.279794  ],\n",
      "        [ 0.04500024,  0.07425252],\n",
      "        [ 1.530206  , -2.0825903 ],\n",
      "        [-0.63266194,  1.1967527 ],\n",
      "        [-0.41521698,  0.8308603 ]]], dtype=float32), array([[[0.03963406, 0.9603659 ],\n",
      "        [0.8285425 , 0.17145753],\n",
      "        [0.5542864 , 0.44571364],\n",
      "        [0.3419374 , 0.6580626 ],\n",
      "        [0.40830448, 0.5916955 ],\n",
      "        [0.17821848, 0.82178146],\n",
      "        [0.49268743, 0.50731254],\n",
      "        [0.97373223, 0.0262677 ],\n",
      "        [0.13830803, 0.861692  ],\n",
      "        [0.22337992, 0.7766201 ]]], dtype=float32), array([[1, 0, 0, 1, 1, 1, 1, 0, 1, 1]], dtype=int32), array([[0.9603659 , 0.8285425 , 0.5542864 , 0.6580626 , 0.5916955 ,\n",
      "        0.82178146, 0.50731254, 0.97373223, 0.861692  , 0.7766201 ]],\n",
      "      dtype=float32)]\n"
     ]
    }
   ],
   "source": [
    "import tensorflow as tf\n",
    "import numpy as np\n",
    "\n",
    "x = tf.placeholder(tf.float32, [None, 10, 2])\n",
    "prob = tf.nn.softmax(x)\n",
    "predictions = tf.argmax(prob,\n",
    "                      axis=-1,\n",
    "                      output_type=tf.int32)\n",
    "confidence = tf.reduce_max(prob, axis=-1)\n",
    "with tf.Session() as sess:\n",
    "    print(sess.run([x, prob, predictions, confidence], feed_dict={x: np.random.randn(1, 10, 2)}))"
   ]
  },
  {
   "cell_type": "markdown",
   "metadata": {},
   "source": [
    "## tf.gather 取下标"
   ]
  },
  {
   "cell_type": "code",
   "execution_count": 9,
   "metadata": {},
   "outputs": [
    {
     "name": "stdout",
     "output_type": "stream",
     "text": [
      "[[ 0.85639054 -0.10171583]\n",
      " [-0.6418337   1.2410208 ]\n",
      " [-1.0488756  -1.1425829 ]\n",
      " [-0.7236162   0.02785115]\n",
      " [-0.64129376 -0.22735468]]\n",
      "[[ 0.85639054 -0.10171583]\n",
      " [-0.6418337   1.2410208 ]]\n",
      "[[ 0.85639054 -0.10171583]\n",
      " [-0.6418337   1.2410208 ]\n",
      " [-1.0488756  -1.1425829 ]\n",
      " [-0.7236162   0.02785115]\n",
      " [-0.64129376 -0.22735468]]\n"
     ]
    }
   ],
   "source": [
    "import tensorflow as tf\n",
    "import numpy as np\n",
    "\n",
    "random_x = np.random.randn(5, 2)\n",
    "x = tf.placeholder(tf.float32, [None, 2])\n",
    "gathered_x = tf.gather(x, [0,1]) # 取 0，1行\n",
    "gathered_y = tf.gather(x, [0,1], axis=1) # 取 0,1 列\n",
    "with tf.Session() as sess:\n",
    "    print(sess.run(x, feed_dict={x: random_x}))\n",
    "    print(sess.run(gathered_x, feed_dict={x: random_x}))\n",
    "    print(sess.run(gathered_y, feed_dict={x: random_x}))"
   ]
  },
  {
   "cell_type": "markdown",
   "metadata": {},
   "source": [
    "## tf.linalg.band_part"
   ]
  },
  {
   "cell_type": "markdown",
   "metadata": {},
   "source": [
    "作用：主要功能是以对角线为中心，取它的副对角线部分，其他部分用0填充。\n",
    "- input:输入的张量.\n",
    "- num_lower:下三角矩阵保留的副对角线数量，从主对角线开始计算，相当于下三角的带宽。取值为负数时，则全部保留。\n",
    "- num_upper:上三角矩阵保留的副对角线数量，从主对角线开始计算，相当于上三角的带宽。取值为负数时，则全部保留。"
   ]
  },
  {
   "cell_type": "markdown",
   "metadata": {},
   "source": [
    "之前的函数是 `tf.matrix_band_part`，现在是 `tf.linalg.band_part`"
   ]
  },
  {
   "cell_type": "code",
   "execution_count": 67,
   "metadata": {},
   "outputs": [
    {
     "name": "stdout",
     "output_type": "stream",
     "text": [
      "[[1 0 0 0]\n",
      " [0 1 0 0]\n",
      " [0 0 1 0]\n",
      " [0 0 0 1]]\n",
      "[[1 1 1 1]\n",
      " [1 1 1 1]\n",
      " [0 1 1 1]\n",
      " [0 0 1 1]]\n",
      "[[1 1 1 0]\n",
      " [1 1 1 1]\n",
      " [1 1 1 1]\n",
      " [0 1 1 1]]\n"
     ]
    }
   ],
   "source": [
    "x = tf.placeholder(tf.int32, [None, 4])\n",
    "\n",
    "inputs = np.ones((4,4))\n",
    "\n",
    "with tf.Session() as sess:\n",
    "    # 下三角不保留，上三角不保留（因此是个对角矩阵）\n",
    "    ret = sess.run(tf.linalg.band_part(x, 0, 0), feed_dict={x: inputs})\n",
    "    print(ret)\n",
    "    \n",
    "    # 下三角保留一个行，上三角全保留\n",
    "    ret = sess.run(tf.linalg.band_part(x, 1, -1), feed_dict={x: inputs})\n",
    "    print(ret)\n",
    "    \n",
    "    # 下三角保留两个，上三角保留两个\n",
    "    ret = sess.run(tf.linalg.band_part(x, 2, 2), feed_dict={x: inputs})\n",
    "    print(ret)"
   ]
  },
  {
   "cell_type": "code",
   "execution_count": 2,
   "metadata": {},
   "outputs": [
    {
     "name": "stderr",
     "output_type": "stream",
     "text": [
      "/opt/anaconda3/envs/tars/lib/python3.7/site-packages/tensorflow/python/framework/dtypes.py:516: FutureWarning: Passing (type, 1) or '1type' as a synonym of type is deprecated; in a future version of numpy, it will be understood as (type, (1,)) / '(1,)type'.\n",
      "  _np_qint8 = np.dtype([(\"qint8\", np.int8, 1)])\n",
      "/opt/anaconda3/envs/tars/lib/python3.7/site-packages/tensorflow/python/framework/dtypes.py:517: FutureWarning: Passing (type, 1) or '1type' as a synonym of type is deprecated; in a future version of numpy, it will be understood as (type, (1,)) / '(1,)type'.\n",
      "  _np_quint8 = np.dtype([(\"quint8\", np.uint8, 1)])\n",
      "/opt/anaconda3/envs/tars/lib/python3.7/site-packages/tensorflow/python/framework/dtypes.py:518: FutureWarning: Passing (type, 1) or '1type' as a synonym of type is deprecated; in a future version of numpy, it will be understood as (type, (1,)) / '(1,)type'.\n",
      "  _np_qint16 = np.dtype([(\"qint16\", np.int16, 1)])\n",
      "/opt/anaconda3/envs/tars/lib/python3.7/site-packages/tensorflow/python/framework/dtypes.py:519: FutureWarning: Passing (type, 1) or '1type' as a synonym of type is deprecated; in a future version of numpy, it will be understood as (type, (1,)) / '(1,)type'.\n",
      "  _np_quint16 = np.dtype([(\"quint16\", np.uint16, 1)])\n",
      "/opt/anaconda3/envs/tars/lib/python3.7/site-packages/tensorflow/python/framework/dtypes.py:520: FutureWarning: Passing (type, 1) or '1type' as a synonym of type is deprecated; in a future version of numpy, it will be understood as (type, (1,)) / '(1,)type'.\n",
      "  _np_qint32 = np.dtype([(\"qint32\", np.int32, 1)])\n",
      "/opt/anaconda3/envs/tars/lib/python3.7/site-packages/tensorflow/python/framework/dtypes.py:525: FutureWarning: Passing (type, 1) or '1type' as a synonym of type is deprecated; in a future version of numpy, it will be understood as (type, (1,)) / '(1,)type'.\n",
      "  np_resource = np.dtype([(\"resource\", np.ubyte, 1)])\n"
     ]
    },
    {
     "name": "stdout",
     "output_type": "stream",
     "text": [
      "[[1. 1. 1.]\n",
      " [0. 1. 1.]\n",
      " [0. 0. 1.]]\n"
     ]
    },
    {
     "name": "stderr",
     "output_type": "stream",
     "text": [
      "/opt/anaconda3/envs/tars/lib/python3.7/site-packages/tensorboard/compat/tensorflow_stub/dtypes.py:541: FutureWarning: Passing (type, 1) or '1type' as a synonym of type is deprecated; in a future version of numpy, it will be understood as (type, (1,)) / '(1,)type'.\n",
      "  _np_qint8 = np.dtype([(\"qint8\", np.int8, 1)])\n",
      "/opt/anaconda3/envs/tars/lib/python3.7/site-packages/tensorboard/compat/tensorflow_stub/dtypes.py:542: FutureWarning: Passing (type, 1) or '1type' as a synonym of type is deprecated; in a future version of numpy, it will be understood as (type, (1,)) / '(1,)type'.\n",
      "  _np_quint8 = np.dtype([(\"quint8\", np.uint8, 1)])\n",
      "/opt/anaconda3/envs/tars/lib/python3.7/site-packages/tensorboard/compat/tensorflow_stub/dtypes.py:543: FutureWarning: Passing (type, 1) or '1type' as a synonym of type is deprecated; in a future version of numpy, it will be understood as (type, (1,)) / '(1,)type'.\n",
      "  _np_qint16 = np.dtype([(\"qint16\", np.int16, 1)])\n",
      "/opt/anaconda3/envs/tars/lib/python3.7/site-packages/tensorboard/compat/tensorflow_stub/dtypes.py:544: FutureWarning: Passing (type, 1) or '1type' as a synonym of type is deprecated; in a future version of numpy, it will be understood as (type, (1,)) / '(1,)type'.\n",
      "  _np_quint16 = np.dtype([(\"quint16\", np.uint16, 1)])\n",
      "/opt/anaconda3/envs/tars/lib/python3.7/site-packages/tensorboard/compat/tensorflow_stub/dtypes.py:545: FutureWarning: Passing (type, 1) or '1type' as a synonym of type is deprecated; in a future version of numpy, it will be understood as (type, (1,)) / '(1,)type'.\n",
      "  _np_qint32 = np.dtype([(\"qint32\", np.int32, 1)])\n",
      "/opt/anaconda3/envs/tars/lib/python3.7/site-packages/tensorboard/compat/tensorflow_stub/dtypes.py:550: FutureWarning: Passing (type, 1) or '1type' as a synonym of type is deprecated; in a future version of numpy, it will be understood as (type, (1,)) / '(1,)type'.\n",
      "  np_resource = np.dtype([(\"resource\", np.ubyte, 1)])\n"
     ]
    }
   ],
   "source": [
    "import tensorflow as tf\n",
    "\n",
    "seq_length=3\n",
    "with tf.Session() as sess:\n",
    "    down_left = tf.linalg.band_part(\n",
    "      tf.ones((seq_length, seq_length)),\n",
    "      0,\n",
    "      -1)\n",
    "\n",
    "    print(sess.run(down_left))"
   ]
  },
  {
   "cell_type": "code",
   "execution_count": 14,
   "metadata": {},
   "outputs": [
    {
     "name": "stdout",
     "output_type": "stream",
     "text": [
      "[[[1. 0. 0. 0.]\n",
      "  [1. 0. 0. 0.]\n",
      "  [1. 0. 0. 0.]\n",
      "  [1. 0. 0. 0.]]\n",
      "\n",
      " [[1. 1. 0. 0.]\n",
      "  [1. 1. 0. 0.]\n",
      "  [1. 1. 0. 0.]\n",
      "  [1. 1. 0. 0.]]\n",
      "\n",
      " [[1. 1. 1. 0.]\n",
      "  [1. 1. 1. 0.]\n",
      "  [1. 1. 1. 0.]\n",
      "  [1. 1. 1. 0.]]]\n",
      "(3, 4, 4)\n"
     ]
    }
   ],
   "source": [
    "# to mask is the key tensor mask\n",
    "\n",
    "batch_size = 3\n",
    "from_seq_len = to_seq_len = 4\n",
    "\n",
    "from_tensor = tf.placeholder(tf.int32, [batch_size, from_seq_len])\n",
    "to_mask_placeholder = tf.placeholder(tf.int32, [batch_size, to_seq_len])\n",
    "\n",
    "to_mask = tf.cast(\n",
    "  tf.reshape(to_mask_placeholder, [batch_size, 1, to_seq_len]), tf.float32)\n",
    "\n",
    "# to tile mask\n",
    "broadcast_ones = tf.ones(\n",
    "    shape=[batch_size, from_seq_len, 1], \n",
    "    dtype=tf.float32\n",
    ")\n",
    "# shape [batch_size, from_seq_length, to_seq_length]\n",
    "mask = broadcast_ones * to_mask\n",
    "\n",
    "with tf.Session() as sess:\n",
    "    ret = sess.run(mask, feed_dict={\n",
    "        from_tensor: [[0,-1,-1,-1], [0,2,-1,-1], [1,2,0,-1]], \n",
    "        to_mask_placeholder: [[1,0,0,0],[1,1,0,0],[1,1,1,0]]})\n",
    "    print(ret)\n",
    "    print(ret.shape)"
   ]
  },
  {
   "cell_type": "markdown",
   "metadata": {},
   "source": [
    "## tf.sign 返回结果的符号矩阵"
   ]
  },
  {
   "cell_type": "code",
   "execution_count": 25,
   "metadata": {},
   "outputs": [
    {
     "name": "stdout",
     "output_type": "stream",
     "text": [
      "[[ 1. -1. -1. -1. -1.]\n",
      " [ 1.  1. -1.  1. -1.]\n",
      " [ 1.  1.  1.  1.  1.]\n",
      " [-1. -1. -1. -1. -1.]\n",
      " [ 1. -1.  1.  1.  1.]]\n"
     ]
    }
   ],
   "source": [
    "import numpy as np\n",
    "\n",
    "x = tf.placeholder(tf.float32, [None, None])\n",
    "with tf.Session() as sess:\n",
    "    ret = sess.run(tf.sign(x), feed_dict={x: np.random.randn(5, 5)})\n",
    "    print(ret)"
   ]
  },
  {
   "cell_type": "markdown",
   "metadata": {},
   "source": [
    "## tf.tile"
   ]
  },
  {
   "cell_type": "markdown",
   "metadata": {},
   "source": [
    "`tile()` 平铺之意，用于在同一维度上的复制"
   ]
  },
  {
   "cell_type": "code",
   "execution_count": 28,
   "metadata": {},
   "outputs": [
    {
     "name": "stdout",
     "output_type": "stream",
     "text": [
      "[1 2 1 2 1 2]\n"
     ]
    }
   ],
   "source": [
    "with tf.Session() as sess:\n",
    "    a = tf.constant([1,2],name='a') \n",
    "    b = tf.tile(a,[3])\n",
    "    print(sess.run(b))"
   ]
  },
  {
   "cell_type": "code",
   "execution_count": 29,
   "metadata": {},
   "outputs": [
    {
     "name": "stdout",
     "output_type": "stream",
     "text": [
      "[[1 2 1 2 1 2 1 2]\n",
      " [3 4 3 4 3 4 3 4]\n",
      " [1 2 1 2 1 2 1 2]\n",
      " [3 4 3 4 3 4 3 4]]\n"
     ]
    }
   ],
   "source": [
    "with tf.Session() as sess:\n",
    "    a = tf.constant([[1,2],[3,4]], name='a') \n",
    "    b = tf.tile(a, [2, 4])\n",
    "    print(sess.run(b))"
   ]
  },
  {
   "cell_type": "markdown",
   "metadata": {},
   "source": [
    "## tf.matmul"
   ]
  },
  {
   "cell_type": "code",
   "execution_count": 57,
   "metadata": {},
   "outputs": [
    {
     "name": "stdout",
     "output_type": "stream",
     "text": [
      "[[ 5]\n",
      " [11]]\n"
     ]
    }
   ],
   "source": [
    "x = tf.constant([[1,2],[3,4]]) # 2x2\n",
    "y = tf.constant([[1],[2]]) # 2 x 1\n",
    "\n",
    "with tf.Session() as sess:\n",
    "    ret = sess.run(tf.matmul(x, y))\n",
    "    print(ret )"
   ]
  },
  {
   "cell_type": "markdown",
   "metadata": {},
   "source": [
    "transpose_b 参数"
   ]
  },
  {
   "cell_type": "code",
   "execution_count": 56,
   "metadata": {},
   "outputs": [
    {
     "name": "stdout",
     "output_type": "stream",
     "text": [
      "[[ 5]\n",
      " [11]]\n"
     ]
    }
   ],
   "source": [
    "x = tf.constant([[1,2],[3,4]]) # 2x2\n",
    "y = tf.constant([[1,2]]) # 1 x 2\n",
    "\n",
    "with tf.Session() as sess:\n",
    "    ret = sess.run(tf.matmul(x, y, transpose_b=True))\n",
    "    print(ret )"
   ]
  },
  {
   "cell_type": "markdown",
   "metadata": {},
   "source": [
    "# References\n",
    "1. [tf.tile() 用法介绍_AI_盲的博客-CSDN博客](https://blog.csdn.net/xwd18280820053/article/details/72867818)"
   ]
  }
 ],
 "metadata": {
  "kernelspec": {
   "display_name": "Python [conda env:tars]",
   "language": "python",
   "name": "conda-env-tars-py"
  },
  "language_info": {
   "codemirror_mode": {
    "name": "ipython",
    "version": 3
   },
   "file_extension": ".py",
   "mimetype": "text/x-python",
   "name": "python",
   "nbconvert_exporter": "python",
   "pygments_lexer": "ipython3",
   "version": "3.7.9"
  },
  "toc": {
   "base_numbering": 1,
   "nav_menu": {},
   "number_sections": true,
   "sideBar": true,
   "skip_h1_title": false,
   "title_cell": "Table of Contents",
   "title_sidebar": "Contents",
   "toc_cell": false,
   "toc_position": {},
   "toc_section_display": true,
   "toc_window_display": false
  }
 },
 "nbformat": 4,
 "nbformat_minor": 4
}
