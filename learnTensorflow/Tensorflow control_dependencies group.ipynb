{
 "cells": [
  {
   "cell_type": "markdown",
   "metadata": {},
   "source": [
    "---\n",
    "title: Tensorflow control_dependencies group\n",
    "tags: 小书匠,tensorflow,control_dependencies,dependencies,group\n",
    "grammar_cjkRuby: true\n",
    "# renderNumberedHeading: true\n",
    "---\n",
    "\n",
    "[toc!]\n",
    "\n",
    "\n",
    "# Tensorflow control_dependencies group"
   ]
  },
  {
   "cell_type": "code",
   "execution_count": 3,
   "metadata": {},
   "outputs": [],
   "source": [
    "import numpy as np\n",
    "import tensorflow as tf\n",
    "import matplotlib.pyplot as plt"
   ]
  },
  {
   "cell_type": "markdown",
   "metadata": {},
   "source": [
    "下面的代码中，c与a，b本身没有依赖关系，这里使用了 `tf.control_dependencies` 添加了依赖关系，使得 assign_op1, assign_op2在c之前运行"
   ]
  },
  {
   "cell_type": "code",
   "execution_count": 4,
   "metadata": {},
   "outputs": [
    {
     "name": "stdout",
     "output_type": "stream",
     "text": [
      "1 3\n"
     ]
    }
   ],
   "source": [
    "a = tf.Variable(0)\n",
    "b = tf.Variable(0)\n",
    "\n",
    "assign_op1 = tf.assign(a, 1)\n",
    "assign_op2 = tf.assign(b, a * 3)\n",
    "\n",
    "with tf.control_dependencies([assign_op1, assign_op2]): # 先依次执行 assign_op1, assign_op2\n",
    "    c = tf.constant(2) # 再执行c\n",
    "\n",
    "with tf.Session() as sess:\n",
    "    init_op = tf.global_variables_initializer()\n",
    "    sess.run(init_op)\n",
    "    sess.run(c)\n",
    "    a_val, b_val = sess.run([a, b])\n",
    "    print(a_val, b_val) # 1, 3 "
   ]
  },
  {
   "cell_type": "markdown",
   "metadata": {},
   "source": [
    "## tf.group"
   ]
  },
  {
   "cell_type": "markdown",
   "metadata": {},
   "source": [
    "和 control_dependencies 功能相似的还有一个 `tf.group`，其作用是将两个 op 合成为一个 op。"
   ]
  },
  {
   "cell_type": "code",
   "execution_count": 10,
   "metadata": {},
   "outputs": [],
   "source": [
    "c = tf.group([a, b])"
   ]
  },
  {
   "cell_type": "markdown",
   "metadata": {},
   "source": [
    "功能等价于下面的代码，只不过多了一些处理。"
   ]
  },
  {
   "cell_type": "code",
   "execution_count": 12,
   "metadata": {},
   "outputs": [],
   "source": [
    "with tf.control_dependencies([a, b]):\n",
    "    c = tf.no_op()"
   ]
  },
  {
   "cell_type": "markdown",
   "metadata": {},
   "source": [
    "示例如下"
   ]
  },
  {
   "cell_type": "code",
   "execution_count": 9,
   "metadata": {},
   "outputs": [
    {
     "name": "stdout",
     "output_type": "stream",
     "text": [
      "1 1\n"
     ]
    }
   ],
   "source": [
    "a = tf.Variable(0)\n",
    "b = tf.Variable(0)\n",
    "\n",
    "update_a = tf.assign(a, 1)\n",
    "update_b = tf.assign(b, 1)\n",
    "\n",
    "update_ab = tf.group([update_a, update_b])\n",
    "\n",
    "with tf.Session() as sess:\n",
    "    init_op = tf.global_variables_initializer()\n",
    "    sess.run(init_op)\n",
    "    sess.run(update_ab)\n",
    "    a_val, b_val = sess.run([a, b])\n",
    "    print(a_val, b_val) # 1, 3 "
   ]
  },
  {
   "cell_type": "markdown",
   "metadata": {},
   "source": [
    "注意，group 中的 op 运行顺序不应该有依赖，如果有依赖，应该使用 control_dependencies"
   ]
  },
  {
   "cell_type": "markdown",
   "metadata": {},
   "source": [
    "# References"
   ]
  },
  {
   "cell_type": "markdown",
   "metadata": {},
   "source": [
    "- http://localhost:8888/lab/tree/DL-Project/learnTensorflow/Tensorflow%20control_dependencies%20group.ipynb\n",
    "- [tf.group  |  TensorFlow Core v1.15.0](https://www.tensorflow.org/versions/r1.15/api_docs/python/tf/group)"
   ]
  }
 ],
 "metadata": {
  "kernelspec": {
   "display_name": "Python 3",
   "language": "python",
   "name": "python3"
  },
  "language_info": {
   "codemirror_mode": {
    "name": "ipython",
    "version": 3
   },
   "file_extension": ".py",
   "mimetype": "text/x-python",
   "name": "python",
   "nbconvert_exporter": "python",
   "pygments_lexer": "ipython3",
   "version": "3.7.3"
  }
 },
 "nbformat": 4,
 "nbformat_minor": 4
}
